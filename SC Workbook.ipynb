{
 "cells": [
  {
   "cell_type": "markdown",
   "id": "62e7c47b",
   "metadata": {},
   "source": [
    "## Course 3 Workbook Week 1"
   ]
  },
  {
   "cell_type": "markdown",
   "id": "d56cf57b",
   "metadata": {},
   "source": [
    "In this notebook, I will have all the demonstrations + practical activities from Wk 1 of DA 301 "
   ]
  },
  {
   "cell_type": "markdown",
   "id": "f50b14e8",
   "metadata": {},
   "source": [
    "### Use the Python statsmodels module."
   ]
  },
  {
   "cell_type": "code",
   "execution_count": null,
   "id": "febfbded",
   "metadata": {},
   "outputs": [],
   "source": [
    "# Import statsmodel for statistical calculations and \n",
    "# ‘TTestIndPower’ class to calculate the parameters.\n",
    "import statsmodels.stats.api as sms\n",
    "from statsmodels.stats.power import TTestIndPower\n",
    "\n",
    "# Specify the three required parameters for the power analysis:\n",
    "alpha = 0.05 \n",
    "power = 0.8 \n",
    "effect = sms.proportion_effectsize(0.13, 0.15) \n",
    "\n",
    "# Perform power analysis by using the solve_power() function:\n",
    "# Specify an instance of ‘TTestIndPower’.\n",
    "analysis = TTestIndPower() \n",
    "# Calculate the sample size and list the parameters.\n",
    "result = analysis.solve_power(effect, power=power, nobs1=None,\n",
    "                              ratio=1.0, alpha=alpha) \n",
    "\n",
    "# Print the output.\n",
    "print('Sample Size: %.3f' % result)"
   ]
  },
  {
   "cell_type": "markdown",
   "id": "dc00c918",
   "metadata": {},
   "source": [
    "This means we need a minimum sample size of 4,721 observations."
   ]
  },
  {
   "cell_type": "markdown",
   "id": "860e6050",
   "metadata": {},
   "source": [
    "### Prepare the data"
   ]
  },
  {
   "cell_type": "code",
   "execution_count": null,
   "id": "8bd11faf",
   "metadata": {},
   "outputs": [],
   "source": [
    "# Install the relevant modules:\n",
    "!pip install scipy\n",
    "\n",
    "# Import necessary libraries, packages and classes.\n",
    "import pandas as pd\n",
    "import math\n",
    "import numpy as np\n",
    "import statsmodels.stats.api as sms\n",
    "import scipy.stats as st\n",
    "import matplotlib as mpl\n",
    "import matplotlib.pyplot as plt"
   ]
  },
  {
   "cell_type": "code",
   "execution_count": null,
   "id": "7060d087",
   "metadata": {},
   "outputs": [],
   "source": [
    "# Read the CSV file.\n",
    "df = pd.read_csv('ab_data.csv')\n",
    "\n",
    "# View the DataFrame.\n",
    "df.head()"
   ]
  },
  {
   "cell_type": "code",
   "execution_count": null,
   "id": "cc77d368",
   "metadata": {},
   "outputs": [],
   "source": [
    "# Check the metadata.\n",
    "df.info()"
   ]
  },
  {
   "cell_type": "code",
   "execution_count": null,
   "id": "f7dc9711",
   "metadata": {},
   "outputs": [],
   "source": [
    "# Clean the data\n",
    "# Pandas's duplicated() function to check the user_id column. \n",
    "print(df[df.user_id.duplicated()])"
   ]
  },
  {
   "cell_type": "code",
   "execution_count": null,
   "id": "ceef6a4f",
   "metadata": {},
   "outputs": [],
   "source": [
    "# Use ‘drop_duplicates’ to return the Series without the duplicate values.\n",
    "df2 = df.drop_duplicates(subset = 'user_id') \n",
    "\n",
    "# Check the metadata.\n",
    "df2.info()"
   ]
  },
  {
   "cell_type": "code",
   "execution_count": null,
   "id": "f3f81c41",
   "metadata": {},
   "outputs": [],
   "source": [
    "# Remove unnecessary columns\n",
    "# Use ‘dropped.drop’ to remove irrelevant columns from the DataFrame. \n",
    "# Specify that ‘user_id’ and ‘timestamp’ are columns (i.e. ‘axis 1’). \n",
    "df3 = df2.drop(['user_id', 'timestamp'], axis=1)  \n",
    "\n",
    "# Check the DataFrame.\n",
    "df3.head()"
   ]
  },
  {
   "cell_type": "code",
   "execution_count": null,
   "id": "31959347",
   "metadata": {},
   "outputs": [],
   "source": [
    "# Check for errors.\n",
    "# Use ‘crosstab’ to compute a simple cross-tabulation between two variables.\n",
    "pd.crosstab(df3['group'], df3['landing_page'])\n",
    "\n",
    "# Can see that there are 1006 users in control group who saw new page and shouldnt have\n",
    "# Can see that there are 1038 users in treatment group who saw old page and shouldnt have\n",
    "# Need to remove both groups"
   ]
  },
  {
   "cell_type": "code",
   "execution_count": null,
   "id": "776b68b4",
   "metadata": {},
   "outputs": [],
   "source": [
    "# Specify groups to be dropped.\n",
    "df4 = df3[((df3.group == 'control') & (df3.landing_page == 'old_page')) | (\n",
    "    (df3.group == 'treatment') & (df3.landing_page == 'new_page'))]\n",
    "\n",
    "# Print the shape of the new ‘final’ table.\n",
    "print(df4.shape)\n",
    "df4['group'].value_counts()"
   ]
  },
  {
   "cell_type": "code",
   "execution_count": null,
   "id": "2562a895",
   "metadata": {},
   "outputs": [],
   "source": [
    "# Double checking errors are removed.\n",
    "# Re-check/compute another simple cross-tabulation.\n",
    "pd.crosstab(df4['group'], df4['landing_page'])"
   ]
  },
  {
   "cell_type": "code",
   "execution_count": null,
   "id": "0ababe91",
   "metadata": {},
   "outputs": [],
   "source": [
    "# So sample size needed is just 4721 but actual available is much bigger. \n",
    "# Lets pick randomly from whats available.\n",
    "# Obtain a simple random sample for control and treatment groups with n = 4721; \n",
    "# set random_stategenerator seed at an arbitrary value of 22.\n",
    "# Obtain a simple random sample for the control group.\n",
    "c_sample = df4[df4['group'] == 'control'].sample(n=4721,\n",
    "                                                 random_state=22) \n",
    "# Obtain a simple random sample for the treatment group.\n",
    "t_sample = df4[df4['group'] == 'treatment'].sample(n=4721,\n",
    "                                                   random_state=22)"
   ]
  },
  {
   "cell_type": "code",
   "execution_count": null,
   "id": "76c5229e",
   "metadata": {},
   "outputs": [],
   "source": [
    "# Join the two samples.  \n",
    "ab_test = pd.concat([c_sample, t_sample], axis=0)  \n",
    "\n",
    "# Reset the A/B index.\n",
    "ab_test.reset_index(drop=True, inplace=True) \n",
    "\n",
    "# Print the sample table.\n",
    "ab_test  "
   ]
  },
  {
   "cell_type": "markdown",
   "id": "b28b3729",
   "metadata": {},
   "source": [
    "### Analyse the data"
   ]
  },
  {
   "cell_type": "code",
   "execution_count": null,
   "id": "40a80d2b",
   "metadata": {},
   "outputs": [],
   "source": [
    "# Calculate basic statistics\n",
    "# Import library.\n",
    "from scipy.stats import sem\n",
    "\n",
    "# Group the ab_test data set by group and aggregate by converted.\n",
    "conversion_rates = ab_test.groupby('group')['converted']\n",
    "\n",
    "# Calculate conversion rates by calculating the means of columns STD_p and SE_p.\n",
    "conversion_rates = conversion_rates.agg([np.mean, np.std,sem])\n",
    "\n",
    "# Assign names to the three columns.\n",
    "conversion_rates.columns = ['conversion_rate', 'std_deviation','std_error']  \n",
    "\n",
    "# Round the output to 3 decimal places.\n",
    "conversion_rates.style.format('{:.3f}') "
   ]
  },
  {
   "cell_type": "code",
   "execution_count": null,
   "id": "2e14a6f3",
   "metadata": {},
   "outputs": [],
   "source": [
    "# Calculate statistical significance\n",
    "\n",
    "# Import proportions_ztest and proportion_confint from statsmodels.\n",
    "from statsmodels.stats.proportion import proportions_ztest, proportion_confint\n",
    "\n",
    "# Create a subset of control and treatment results.\n",
    "control_results = ab_test[ab_test['group'] == 'control']['converted']\n",
    "treatment_results = ab_test[ab_test['group'] == 'treatment']['converted']\n",
    "\n",
    "# Determine the count of the control_results and \n",
    "# treatment_result sub-datasets and store them in their respective variables.\n",
    "n_con = control_results.count()\n",
    "n_treat = treatment_results.count()\n",
    "\n",
    "# Create a variable ‘success’ with the sum of the two data sets\n",
    "# in a list format: \n",
    "successes = [control_results.sum(), treatment_results.sum()]\n",
    "\n",
    "# Create a variable ‘nobs’ which stores the values of \n",
    "# variables n_con and n_treat in list format. \n",
    "nobs = [n_con, n_treat] \n",
    "\n",
    "# Use the imported libraries to calculate the statistical values. \n",
    "z_stat, pval = proportions_ztest(successes, nobs=nobs)\n",
    "(lower_con, lower_treat), (upper_con, upper_treat) = proportion_confint(successes,\n",
    "                                                                        nobs=nobs,\n",
    "                                                                        alpha=0.05)\n",
    "\n",
    "# Print the outputs (with lead-in text).\n",
    "print(f'Z test stat: {z_stat:.2f}')\n",
    "print(f'P-value: {pval:.3f}')\n",
    "print(f'Confidence Interval of 95% for control group: [{lower_con:.3f}, {upper_con:.3f}]')\n",
    "print(f'Confidence Interval of 95% for treatment group: [{lower_treat:.3f}, {upper_treat:.3f}]')"
   ]
  },
  {
   "cell_type": "markdown",
   "id": "9173da79",
   "metadata": {},
   "source": [
    "## Practical activity: Conduct A/B testing in Python"
   ]
  },
  {
   "cell_type": "code",
   "execution_count": null,
   "id": "e0a62d0e",
   "metadata": {},
   "outputs": [],
   "source": [
    "# import the necessary libraries\n",
    "import statsmodels.stats.api as sms\n",
    "from statsmodels.stats.power import TTestIndPower"
   ]
  },
  {
   "cell_type": "code",
   "execution_count": null,
   "id": "eda02f39",
   "metadata": {},
   "outputs": [],
   "source": [
    "# Perform the power analysis to determine sample size.\n",
    "effect = sms.proportion_effectsize(0.50, 0.55)   \n",
    " \n",
    "effect,\n",
    "alpha = 0.05\n",
    "power = 0.8\n",
    "\n",
    "analysis = TTestIndPower()\n",
    "result = analysis.solve_power(effect, power=power, nobs1=None, ratio=1.0, alpha=alpha)\n",
    "\n",
    "print('Sample Size: %.3f' % result)"
   ]
  },
  {
   "cell_type": "code",
   "execution_count": null,
   "id": "3764ba9e",
   "metadata": {},
   "outputs": [],
   "source": [
    "# import the necessary libraries\n",
    "import pandas as pd\n",
    "import math\n",
    "import numpy as np\n",
    "import statsmodels.stats.api as sms\n",
    "import scipy.stats as st\n",
    "import matplotlib as mpl\n",
    "import matplotlib.pyplot as plt"
   ]
  },
  {
   "cell_type": "code",
   "execution_count": null,
   "id": "df4df5ae",
   "metadata": {},
   "outputs": [],
   "source": [
    "# read the data set with Pandas\n",
    "df = pd.read_csv('new_bike_shop_AB.csv')\n",
    "\n",
    "# print the DataFrame\n",
    "print(df.shape)\n",
    "df.head()"
   ]
  },
  {
   "cell_type": "code",
   "execution_count": null,
   "id": "73d49110",
   "metadata": {},
   "outputs": [],
   "source": [
    "# view DataFrame\n",
    "df.info()"
   ]
  },
  {
   "cell_type": "code",
   "execution_count": null,
   "id": "ed9fe9cc",
   "metadata": {},
   "outputs": [],
   "source": [
    "# Clean the Data\n",
    "# Rename the columns.\n",
    "df_new = df.rename(columns={'IP Address': 'IPAddress', 'LoggedInFlag': 'LoyaltyPage'})\n",
    "\n",
    "# View the DataFrame.\n",
    "print(df_new.shape)\n",
    "df_new.head()"
   ]
  },
  {
   "cell_type": "code",
   "execution_count": null,
   "id": "a839e062",
   "metadata": {},
   "outputs": [],
   "source": [
    "# Drop duplicate values.\n",
    "df_new.drop_duplicates(subset ='IPAddress',\n",
    "                       keep = False, inplace = True)\n",
    "\n",
    "\n",
    "# Drop duplicate columns.\n",
    "df_final = df_new.drop(['Unnamed: 0', 'RecordID', 'VisitPageFlag'],\n",
    "                       axis=1)\n",
    "\n",
    "\n",
    "# View the DataFrame.\n",
    "print(df_final.shape)\n",
    "\n",
    "df_final.info()"
   ]
  },
  {
   "cell_type": "markdown",
   "id": "c170158a",
   "metadata": {},
   "source": [
    "## Subset the DataFrame."
   ]
  },
  {
   "cell_type": "code",
   "execution_count": null,
   "id": "7d483a8c",
   "metadata": {},
   "outputs": [],
   "source": [
    "# Split data set into ID1 as treatment and ID2 & ID3 as control groups.\n",
    "df_final['Group'] = df_final['ServerID'].map({1:'Treatment', 2:'Control', 3:'Control'})\n",
    "\n",
    "# View DataFrame.\n",
    "print(df_final.shape)\n",
    "df_final.head()"
   ]
  },
  {
   "cell_type": "code",
   "execution_count": null,
   "id": "28c7bd6e",
   "metadata": {},
   "outputs": [],
   "source": [
    "# count the values\n",
    "df_final[\"Group\"].value_counts()"
   ]
  },
  {
   "cell_type": "code",
   "execution_count": null,
   "id": "3e80a0db",
   "metadata": {},
   "outputs": [],
   "source": [
    "# Create two DataFrames.\n",
    "# You can use any random_state.\n",
    "c_sample = df_final[df_final['Group'] == 'Control'].sample(n=1565,\n",
    "                                                           random_state=0) \n",
    "\n",
    "t_sample = df_final[df_final['Group'] == 'Treatment'].sample(n=1565,\n",
    "                                                             random_state=0)\n",
    "\n",
    "# View the DataFrames.\n",
    "print(c_sample)\n",
    "print(t_sample)"
   ]
  },
  {
   "cell_type": "code",
   "execution_count": null,
   "id": "631b82dd",
   "metadata": {},
   "outputs": [],
   "source": [
    "# Perform A/B testing.\n",
    "# Create variable and merge DataFrames.\n",
    "ab_test = pd.concat([c_sample, t_sample], axis=0)\n",
    "\n",
    "ab_test.reset_index(drop=True, inplace=True)\n",
    "\n",
    "# View output.\n",
    "ab_test"
   ]
  },
  {
   "cell_type": "code",
   "execution_count": null,
   "id": "44c146dc",
   "metadata": {},
   "outputs": [],
   "source": [
    "# Calculate the conversion rates.\n",
    "conversion_rates = ab_test.groupby('Group')['LoyaltyPage']\n",
    "\n",
    "\n",
    "# Standard deviation of the proportion.\n",
    "STD_p = lambda x: np.std(x, ddof=0)    \n",
    "# Standard error of the proportion.\n",
    "SE_p = lambda x: st.sem(x, ddof=0)     \n",
    "\n",
    "conversion_rates = conversion_rates.agg([np.mean, STD_p, SE_p])\n",
    "conversion_rates.columns = ['conversion_rate', 'std_deviation', 'std_error']\n",
    "\n",
    "\n",
    "conversion_rates.style.format('{:.3f}')"
   ]
  },
  {
   "cell_type": "code",
   "execution_count": null,
   "id": "600cc831",
   "metadata": {},
   "outputs": [],
   "source": [
    "from statsmodels.stats.proportion import proportions_ztest, proportion_confint\n",
    "\n",
    "control_results = ab_test[ab_test['Group'] == 'Control']['LoyaltyPage']\n",
    "treatment_results = ab_test[ab_test['Group'] == 'Treatment']['LoyaltyPage']\n",
    "\n",
    "n_con = control_results.count()\n",
    "n_treat = treatment_results.count()\n",
    "\n",
    "successes = [control_results.sum(), treatment_results.sum()]\n",
    "\n",
    "nobs = [n_con, n_treat]\n",
    "\n",
    "z_stat, pval = proportions_ztest(successes, nobs=nobs)\n",
    "(lower_con, lower_treat), (upper_con, upper_treat) = proportion_confint(successes,\n",
    "                                                                        nobs=nobs,\n",
    "                                                                        alpha=0.05)\n",
    "\n",
    "print(f'Z test stat: {z_stat:.2f}')\n",
    "print(f'P-value: {pval:.3f}')\n",
    "print(f'Confidence Interval of 95% for control group: [{lower_con:.3f}, {upper_con:.3f}]')\n",
    "print(f'Confidence Interval of 95% for treatment group: [{lower_treat:.3f}, {upper_treat:.3f}]')"
   ]
  },
  {
   "cell_type": "markdown",
   "id": "88b0dcc0",
   "metadata": {},
   "source": [
    "## Summarise results and explain your answers\n",
    "The change to the homepage slightly decreased the click through to the log in page.\n",
    "\n",
    "The p-value is well over the Alpha value of 0.05, meaning the null hypothesis cannot be rejected."
   ]
  },
  {
   "cell_type": "markdown",
   "id": "707dfa40",
   "metadata": {},
   "source": [
    "## 1.1.8 Conducting a what-if analysis with Python"
   ]
  },
  {
   "cell_type": "code",
   "execution_count": null,
   "id": "13370135",
   "metadata": {},
   "outputs": [],
   "source": [
    "# Install Python Sensitivity Analysis . \n",
    "!pip install sensitivity  \n",
    "\n",
    "# This might take some time to install."
   ]
  },
  {
   "cell_type": "code",
   "execution_count": null,
   "id": "37b38a53",
   "metadata": {},
   "outputs": [],
   "source": [
    "# Defines classes to contain and encapsulate data.\n",
    "from dataclasses import dataclass \n",
    "import pandas as pd\n",
    "# Import in-built module for generating random numbers. \n",
    "import random \n",
    "# Display output inline.\n",
    "%matplotlib inline\n",
    "# Import to replicate a nested loop over the input values.\n",
    "from sensitivity import SensitivityAnalyzer "
   ]
  },
  {
   "cell_type": "code",
   "execution_count": null,
   "id": "f5a8727d",
   "metadata": {},
   "outputs": [],
   "source": [
    "# Create a DataFrame consisting of various classes using Python's 'dataclass()'\n",
    "# module and Object Oriented programming (OPP).\n",
    "@dataclass\n",
    "\n",
    "class ModelInputs: \n",
    "    # Define the class and specify the default inputs. \n",
    "    starting_salary: int = 300000\n",
    "    promos_every_n_years: int = 5\n",
    "    cost_of_living_raise: float = 0.025\n",
    "    promo_raise: float = 0.15\n",
    "    savings_rate: float = 0.20\n",
    "    interest_rate: float = 0.07\n",
    "    desired_cash: int = 1500000\n",
    "\n",
    "# Create an instance of the new class with the default inputs.\n",
    "model_data = ModelInputs() \n",
    "\n",
    "# Print the results.\n",
    "model_data "
   ]
  },
  {
   "cell_type": "code",
   "execution_count": null,
   "id": "d826d52f",
   "metadata": {},
   "outputs": [],
   "source": [
    "# Get the wage at a given year from the start of the model based \n",
    "# on the cost of living raises and regular promotions.\n",
    "def wages_year(data: ModelInputs, year):\n",
    "    # Every n years we have a promotion, so dividing the years and\n",
    "    # taking out the decimals gets the number of promotions.\n",
    "    num_promos = int(year / data.promos_every_n_years)  \n",
    "    \n",
    "   # This is the formula above implemented in Python.\n",
    "    salary_t = data.starting_salary * (1 + data.cost_of_living_raise)\\\n",
    "    ** year * (1 + data.promo_raise) ** num_promos\n",
    "    return salary_t"
   ]
  },
  {
   "cell_type": "code",
   "execution_count": null,
   "id": "2e018f6a",
   "metadata": {},
   "outputs": [],
   "source": [
    "# Show the first four salaries in the range and \n",
    "# print the results using the f-string.\n",
    "for i in range(4):\n",
    "    year = i + 1\n",
    "    salary = wages_year(model_data, year)\n",
    "    print(f'The wage at year {year} is £{salary:,.0f}.')"
   ]
  },
  {
   "cell_type": "code",
   "execution_count": null,
   "id": "00b0fc5b",
   "metadata": {},
   "outputs": [],
   "source": [
    "# Change to show the salaries for the first 10 years \n",
    "# only and print the results using the f-string:\n",
    "for i in range(10):\n",
    "    year = i + 1\n",
    "    salary = wages_year(model_data, year)\n",
    "    print(f'The wage at year {year} is £{salary:,.0f}.')"
   ]
  },
  {
   "cell_type": "code",
   "execution_count": null,
   "id": "6a1b2e37",
   "metadata": {},
   "outputs": [],
   "source": [
    "# Calculate the cash saved within a given year by first \n",
    "# calculating the salary at that year then applying the savings rate.\n",
    "def cash_saved_during_year(data: ModelInputs, year):\n",
    "    salary = wages_year(data, year)\n",
    "    cash_saved = salary * data.savings_rate\n",
    "    return cash_saved"
   ]
  },
  {
   "cell_type": "code",
   "execution_count": null,
   "id": "aad56687",
   "metadata": {},
   "outputs": [],
   "source": [
    "# Calculate the accumulated wealth for a given year based\n",
    "# on previous wealth, the investment rate, and cash saved during the year.\n",
    "def wealth_year(data: ModelInputs, year, prior_wealth):\n",
    "                cash_saved = cash_saved_during_year(data, year)\n",
    "                wealth = prior_wealth * (1 + data.interest_rate) + cash_saved\n",
    "                return wealth\n",
    "        "
   ]
  },
  {
   "cell_type": "code",
   "execution_count": null,
   "id": "cec17a3b",
   "metadata": {},
   "outputs": [],
   "source": [
    "# Start with no cash saved.\n",
    "prior_wealth = 0  \n",
    "for i in range(4):\n",
    "    year = i + 1\n",
    "    wealth = wealth_year(model_data, year, prior_wealth)\n",
    "    print(f'The wealth at year {year} is £{wealth:,.0f}.')\n",
    "    \n",
    "    # Set next year's prior wealth to this year's wealth:\n",
    "    prior_wealth = wealth"
   ]
  },
  {
   "cell_type": "code",
   "execution_count": null,
   "id": "b65e7c8b",
   "metadata": {},
   "outputs": [],
   "source": [
    "def years_to_retirement(data: ModelInputs, print_output=True):\n",
    "    # Start with no cash saved.\n",
    "    prior_wealth = 0  \n",
    "    wealth = 0\n",
    "    # The ‘year’ becomes ‘1’ on the first loop.\n",
    "    year = 0  \n",
    "   \n",
    "    if print_output:\n",
    "        print('Wealths over time:')\n",
    "    while wealth < data.desired_cash:\n",
    "        year = year + 1\n",
    "        wealth = wealth_year(data, year, prior_wealth)\n",
    "        if print_output:\n",
    "            print(f'The wealth at year {year} is £{wealth:,.0f}.')\n",
    "            # Set next year's prior wealth to this year's wealth.\n",
    "        prior_wealth = wealth  \n",
    "       \n",
    "    # Now we have run the while loop, the wealth must be >= desired_cash \n",
    "    # (whatever last year was set is the years to retirement), which we can print.\n",
    "    if print_output:\n",
    "        # \\n makes a blank line in the output.\n",
    "        print(f'\\nRetirement:\\nIt will take {year} years to retire.')  \n",
    "    return year"
   ]
  },
  {
   "cell_type": "code",
   "execution_count": null,
   "id": "52ba938e",
   "metadata": {},
   "outputs": [],
   "source": [
    "years = years_to_retirement(model_data)"
   ]
  },
  {
   "cell_type": "markdown",
   "id": "df84b2a5",
   "metadata": {},
   "source": [
    "## 1.1.9 Practical activity: Summarising model outputs"
   ]
  },
  {
   "cell_type": "code",
   "execution_count": null,
   "id": "61b3ddc5",
   "metadata": {},
   "outputs": [],
   "source": [
    "# import the necessary libraries\n",
    "import pandas as pd\n",
    "import random\n",
    "%matplotlib inline\n",
    "from dataclasses import dataclass\n",
    "from sensitivity import SensitivityAnalyzer"
   ]
  },
  {
   "cell_type": "code",
   "execution_count": null,
   "id": "9f2bd790",
   "metadata": {},
   "outputs": [],
   "source": [
    "# Create a class and instance.\n",
    "@dataclass\n",
    "class ModelInputs:\n",
    "    starting_salary: int = 250000\n",
    "    promos_every_n_years: int = 2\n",
    "    cost_of_living_raise: float = 0.03\n",
    "    promo_raise: float = 0.10\n",
    "    savings_rate: float = 0.15\n",
    "    interest_rate: float = 0.05\n",
    "    desired_cash: int = 1000000\n",
    "        \n",
    "model_data = ModelInputs()\n",
    "\n",
    "model_data"
   ]
  },
  {
   "cell_type": "code",
   "execution_count": null,
   "id": "930e58ef",
   "metadata": {},
   "outputs": [],
   "source": [
    "# Calculate wage at a given year from start of the model based on cost of living, \n",
    "# raises and regular promotion.\n",
    "def wages_year(data: ModelInputs, year)->float:\n",
    "    \"\"\"\n",
    "    Gets the wage at a given year from the start of the model based \n",
    "    on cost of living raises and regular promotions.\n",
    "    \"\"\"\n",
    "    # Every n years we have a promotion, so dividing the years and taking \n",
    "    # out the decimals gets the number of promotions.\n",
    "    num_promos = int(year / data.promos_every_n_years)\n",
    "    \n",
    "    # This is the formula above implemented in Python.\n",
    "    salary_t = data.starting_salary * (1 + data.cost_of_living_raise)\\\n",
    "    ** year * (1 + data.promo_raise) ** num_promos\n",
    "    return salary_t\n",
    "\n",
    "for i in range(4):\n",
    "    year = i + 1\n",
    "    salary = wages_year(model_data, year)\n",
    "    print(f'The wage at year {year} is £{salary:,.0f}.')"
   ]
  },
  {
   "cell_type": "code",
   "execution_count": null,
   "id": "a75bd6dc",
   "metadata": {},
   "outputs": [],
   "source": [
    "def cash_saved_during_year(data: ModelInputs, year):\n",
    "    \"\"\"\n",
    "    Calculated the cash saved within a given year, by first \n",
    "    calculating the salary at that year then applying the \n",
    "    savings rate.\n",
    "    \"\"\"\n",
    "    salary = wages_year(data, year)\n",
    "    cash_saved = salary * data.savings_rate\n",
    "    return cash_saved"
   ]
  },
  {
   "cell_type": "code",
   "execution_count": null,
   "id": "526f32b0",
   "metadata": {},
   "outputs": [],
   "source": [
    "def wealth_year(data: ModelInputs, year, prior_wealth):\n",
    "    \"\"\"\n",
    "    Calculate the accumulated wealth for a given year, \n",
    "    based on previous wealth, the investment rate,\n",
    "    and cash saved during the year.\n",
    "    \"\"\"\n",
    "    cash_saved = cash_saved_during_year(data, year)\n",
    "    wealth = prior_wealth * (1 + data.interest_rate) + cash_saved\n",
    "    return wealth"
   ]
  },
  {
   "cell_type": "code",
   "execution_count": null,
   "id": "4edde64a",
   "metadata": {},
   "outputs": [],
   "source": [
    "# Starting with no cash saved.\n",
    "prior_wealth = 0  \n",
    "for i in range(4):\n",
    "    year = i + 1\n",
    "    wealth = wealth_year(model_data, year, prior_wealth)\n",
    "    print(f'The wealth at year {year} is £{wealth:,.0f}.')\n",
    "    \n",
    "    # Set next year's prior wealth to this year's wealth.\n",
    "    prior_wealth = wealth"
   ]
  },
  {
   "cell_type": "code",
   "execution_count": null,
   "id": "ed443415",
   "metadata": {},
   "outputs": [],
   "source": [
    "# Runs the retirement model; collects salary and wealth information year by year\n",
    "# and stores it in a DataFrame for further analysis.\n",
    "def get_salaries_wealths_df(data):\n",
    "    # Start with no cash saved.\n",
    "    prior_wealth = 0   \n",
    "    wealth = 0\n",
    "    # The ‘year’ becomes ‘1’ on the first loop.\n",
    "    year = 0  \n",
    "\n",
    "    df_data_tups = []\n",
    "    while wealth < data.desired_cash:\n",
    "        year = year + 1\n",
    "        salary = wages_year(data, year)\n",
    "        wealth = wealth_year(data, year, prior_wealth)\n",
    "\n",
    "         # Set next year's prior wealth to this year's wealth.\n",
    "        prior_wealth = wealth \n",
    "\n",
    "        # Save the results in a tuple for later building the DataFrame.\n",
    "        df_data_tups.append((year, salary, wealth))\n",
    "        \n",
    "    # Now we have run the while loop, so wealth must be >= desired_cash. \n",
    "    # Create the DataFrame.\n",
    "    df = pd.DataFrame(df_data_tups, columns=['Year', 'Salary', 'Wealth'])\n",
    "    \n",
    "    return df"
   ]
  },
  {
   "cell_type": "code",
   "execution_count": null,
   "id": "ec141579",
   "metadata": {},
   "outputs": [],
   "source": [
    "# Format DataFrame for display.\n",
    "get_salaries_wealths_df(model_data)"
   ]
  },
  {
   "cell_type": "code",
   "execution_count": null,
   "id": "798538b4",
   "metadata": {},
   "outputs": [],
   "source": [
    "# Save the function results into the DataFrame.\n",
    "results_df = get_salaries_wealths_df(model_data).round()\n",
    "\n",
    "# View the DataFrame.\n",
    "results_df.head()"
   ]
  },
  {
   "cell_type": "markdown",
   "id": "40200d4f",
   "metadata": {},
   "source": [
    "### Create Visualisation"
   ]
  },
  {
   "cell_type": "code",
   "execution_count": null,
   "id": "3c28eb8f",
   "metadata": {},
   "outputs": [],
   "source": [
    "# Visualise wage or salary change over time.\n",
    "results_df.plot( 'Year' , 'Salary')"
   ]
  },
  {
   "cell_type": "code",
   "execution_count": null,
   "id": "375529be",
   "metadata": {},
   "outputs": [],
   "source": [
    "# Visualise wealth change over time.\n",
    "results_df.plot( 'Year' , 'Wealth')"
   ]
  },
  {
   "cell_type": "markdown",
   "id": "70499f17",
   "metadata": {},
   "source": [
    "## 1.1.10 Running a sensitivity and scenario analysis in Python"
   ]
  },
  {
   "cell_type": "code",
   "execution_count": null,
   "id": "00cfa8d4",
   "metadata": {},
   "outputs": [],
   "source": [
    "# Define the function that accepts the individual parameters.\n",
    "def years_to_retirement_separate_args(\n",
    "    # List the parameters and set their values.\n",
    "    starting_salary=60000, \n",
    "    promos_every_n_years=5, \n",
    "    cost_of_living_raise=0.02,\n",
    "    promo_raise= 0.15, \n",
    "    savings_rate=0.25, \n",
    "    interest_rate=0.05, \n",
    "    desired_cash=1500000):  \n",
    "    # Update the values of the parameters:\n",
    "    data = ModelInputs(\n",
    "        starting_salary=starting_salary, \n",
    "        promos_every_n_years=promos_every_n_years, \n",
    "        cost_of_living_raise=cost_of_living_raise, \n",
    "        promo_raise=promo_raise, \n",
    "        savings_rate=savings_rate, \n",
    "        interest_rate=interest_rate, \n",
    "        desired_cash=desired_cash)\n",
    "       \n",
    "    return years_to_retirement(data, print_output=False)\n",
    "\n",
    "# Call the function.\n",
    "years_to_retirement_separate_args()"
   ]
  },
  {
   "cell_type": "code",
   "execution_count": null,
   "id": "d4897999",
   "metadata": {},
   "outputs": [],
   "source": [
    "# Generate Random values for the input variable\n",
    "# Use Python’s ‘list comprehensions’ syntax to make it easier to adjust the inputs. \n",
    "# Use i as a temporary variable to store the value’s position in the range:\n",
    "sensitivity_values = {\n",
    "    'starting_salary': [i * 10000 for i in range(4, 8)],\n",
    "    'promos_every_n_years': [i for i in range(4, 8)],\n",
    "    'cost_of_living_raise': [i/100 for i in range(1, 4)],\n",
    "    'promo_raise': [i/100 for i in range(10, 25, 5)],\n",
    "    'savings_rate': [i/100 for i in range(10, 50, 10)],\n",
    "    'interest_rate': [i/100 for i in range(3, 8)],\n",
    "    'desired_cash': [i * 100000 for i in range(10, 26, 5)]}"
   ]
  },
  {
   "cell_type": "code",
   "execution_count": null,
   "id": "851c106a",
   "metadata": {},
   "outputs": [],
   "source": [
    "# Run the Python’s SensitivityAnalyzer with the all the assigned inputs:\n",
    "sa = SensitivityAnalyzer(\n",
    "    sensitivity_values,\n",
    "    years_to_retirement_separate_args,\n",
    "    result_name='Years to Retirement',\n",
    "    reverse_colors=True,\n",
    "    grid_size=3)"
   ]
  },
  {
   "cell_type": "code",
   "execution_count": null,
   "id": "d1e5e086",
   "metadata": {},
   "outputs": [],
   "source": [
    "# Display the results using a DataFrame.\n",
    "styled_dict = sa.styled_dfs(num_fmt='{:.1f}') "
   ]
  },
  {
   "cell_type": "code",
   "execution_count": null,
   "id": "95bdda3e",
   "metadata": {},
   "outputs": [],
   "source": [
    "#  The function to calculate ‘bad’ economy:\n",
    "bad_economy_data = ModelInputs(\n",
    "    starting_salary=100000,\n",
    "    promos_every_n_years=8,\n",
    "    cost_of_living_raise=0.01,\n",
    "    promo_raise=0.07,\n",
    "    savings_rate=0.15,\n",
    "    interest_rate=0.03)\n",
    "\n",
    "# The function for ‘good’ economy:\n",
    "good_economy_data = ModelInputs(\n",
    "    starting_salary=500000,\n",
    "    promos_every_n_years=4,\n",
    "    cost_of_living_raise=0.03,\n",
    "    promo_raise=0.20,\n",
    "    savings_rate=0.35,\n",
    "    interest_rate=0.06)\n",
    "\n",
    "cases = {\n",
    "    'Bad': bad_economy_data,\n",
    "    'Normal': model_data, # Original inputs were set to assume a ‘normal’ economy\n",
    "    'Good': good_economy_data}"
   ]
  },
  {
   "cell_type": "code",
   "execution_count": null,
   "id": "ecb3d5f3",
   "metadata": {},
   "outputs": [],
   "source": [
    "# Run the model with the three scenarios and print the results:\n",
    "for case_type, case_inputs in cases.items():\n",
    "    ytr = years_to_retirement(case_inputs, print_output=False)\n",
    "    print(f'It would take {ytr} years to retire in a {case_type} economy.')"
   ]
  },
  {
   "cell_type": "code",
   "execution_count": null,
   "id": "54b055bb",
   "metadata": {},
   "outputs": [],
   "source": [
    "# Assigning Probabilities\n",
    "\n",
    "# These values are arbitrary and are only used for demonstration. \n",
    "case_probabilities = {\n",
    "    'Bad': 0.2,\n",
    "    'Normal': 0.5,\n",
    "    'Good': 0.3}"
   ]
  },
  {
   "cell_type": "code",
   "execution_count": null,
   "id": "3b1123ef",
   "metadata": {},
   "outputs": [],
   "source": [
    "# Run the model by taking the expected value over the three cases;\n",
    "# print the results with a text string:\n",
    "expected_ytr = 0\n",
    "for case_type, case_inputs in cases.items():\n",
    "    ytr = years_to_retirement(case_inputs, print_output=False)\n",
    "    weighted_ytr = ytr * case_probabilities[case_type]\n",
    "    expected_ytr += weighted_ytr\n",
    "    \n",
    "    print(f'It would take {expected_ytr:.0f} years to retire given a \\\n",
    "    {case_probabilities[\"Bad\"]:.0%} \\\n",
    "    chance of a bad economy and {case_probabilities[\"Good\"]:.0%} \\\n",
    "    chance of a good economy.')"
   ]
  },
  {
   "cell_type": "markdown",
   "id": "f08ace3a",
   "metadata": {},
   "source": [
    "## Completing a What-if Scenario Analysis"
   ]
  },
  {
   "cell_type": "markdown",
   "id": "fda37e64",
   "metadata": {},
   "source": [
    "### Prepare workstation"
   ]
  },
  {
   "cell_type": "code",
   "execution_count": null,
   "id": "d701332c",
   "metadata": {},
   "outputs": [],
   "source": [
    "# Import the necessary libraries.\n",
    "import pandas as pd\n",
    "import random\n",
    "%matplotlib inline\n",
    "from dataclasses import dataclass\n",
    "from sensitivity import SensitivityAnalyzer\n",
    "\n",
    "import warnings\n",
    "warnings.simplefilter(action='ignore', category=FutureWarning)"
   ]
  },
  {
   "cell_type": "markdown",
   "id": "f7e9e2f4",
   "metadata": {},
   "source": [
    "### Specify the model input and create a class"
   ]
  },
  {
   "cell_type": "code",
   "execution_count": null,
   "id": "8d5811a7",
   "metadata": {},
   "outputs": [],
   "source": [
    "# Create a class and instance.\n",
    "@dataclass\n",
    "class ModelInputs:\n",
    "    share_no : int = 500\n",
    "    buying_price: int = 10\n",
    "    dividend: int = 500\n",
    "    selling_price: int = 15\n",
    "    costs: int = 125\n",
    "        \n",
    "model_data = ModelInputs()\n",
    "model_data"
   ]
  },
  {
   "cell_type": "markdown",
   "id": "baeceadd",
   "metadata": {},
   "source": [
    "### Create a function to calculate ROI"
   ]
  },
  {
   "cell_type": "code",
   "execution_count": null,
   "id": "38fb1c42",
   "metadata": {},
   "outputs": [],
   "source": [
    "# Function to calculate ROI. \n",
    "def roi_per_year(data: ModelInputs):\n",
    "    year = 0\n",
    "    prior_roi = 0\n",
    "    \n",
    "    while year < 6:\n",
    "        year = year + 1\n",
    "        # print(year)\n",
    "        net_return = (data.selling_price - data.buying_price)\\\n",
    "        * data.share_no + data.dividend - data.costs\n",
    "        cost_of_investment = data.buying_price * data.share_no\n",
    "\n",
    "        roi = prior_roi + ((net_return)/(cost_of_investment))*100\n",
    "        print(f'The ROI at year {year} is {roi:,.0f}%.')\n",
    "        \n",
    "        prior_roi = roi\n",
    "        \n",
    "    return roi\n",
    "\n",
    "# View output.\n",
    "roi_per_year(model_data)"
   ]
  },
  {
   "cell_type": "code",
   "execution_count": null,
   "id": "f095dd9d",
   "metadata": {},
   "outputs": [],
   "source": [
    "# Function to create a DataFrame as df: \n",
    "def roi_per_year_df(data: ModelInputs):\n",
    "    year = 0\n",
    "    prior_roi = 0\n",
    "    df_data_tups = []\n",
    "    \n",
    "    for year in range(6):\n",
    "        year = year + 1\n",
    "        net_return = (data.selling_price - data.buying_price)\\\n",
    "        * data.share_no + data.dividend - data.costs\n",
    "        cost_of_investment = data.buying_price * data.share_no\n",
    "        roi = prior_roi + ((net_return)/(cost_of_investment))*100\n",
    "        # print(f'The ROI at year {year} is {roi:,.0f}%.')\n",
    "        \n",
    "        prior_roi = roi \n",
    "        # Save the results in a tuple for later building the DataFrame.\n",
    "        df_data_tups.append((year, roi))\n",
    "        # Now create the DataFrame.\n",
    "        df = pd.DataFrame(df_data_tups, columns=['Year', 'ROI in %'])\n",
    "        \n",
    "    return df\n",
    "\n",
    "# View DataFrame.\n",
    "roi_per_year_df(model_data)"
   ]
  },
  {
   "cell_type": "markdown",
   "id": "f056e3c1",
   "metadata": {},
   "source": [
    "### Create a function to show ROI for each year and a single year"
   ]
  },
  {
   "cell_type": "code",
   "execution_count": null,
   "id": "122d1c7b",
   "metadata": {},
   "outputs": [],
   "source": [
    "# Function to give annual ROI for each year. \n",
    "def annualized_roi_per_year(data: ModelInputs):\n",
    "    year = 0\n",
    "    prior_roi = 0\n",
    "\n",
    "    for year in range(6):\n",
    "        year = year + 1\n",
    "        # print(year)\n",
    "        net_return = (data.selling_price - data.buying_price)\\\n",
    "        * data.share_no + data.dividend - data.costs\n",
    "        cost_of_investment = data.buying_price * data.share_no\n",
    "        roi = prior_roi + ((net_return)/(cost_of_investment))*100 \n",
    "        print(f\"ROI :{roi}\")\n",
    "        \n",
    "        # annual_roi = [((1 + (roi/100))**(1/year)-1)*100]\n",
    "        annual_roi = ((1 + (roi/100))**(1/year)-1)*100\n",
    "        print(f'The annualized ROI at year {year} is {annual_roi}%.')\n",
    "        prior_roi = roi \n",
    "        \n",
    "    return annual_roi\n",
    "\n",
    "# View output.\n",
    "annualized_roi_per_year(model_data)"
   ]
  },
  {
   "cell_type": "code",
   "execution_count": null,
   "id": "b2ed9035",
   "metadata": {},
   "outputs": [],
   "source": [
    "# Function to return annualized ROI for a single year. \n",
    "def anl_roi_per_year(data: ModelInputs, print_output=True):\n",
    "    year = 0\n",
    "    prior_roi = 0\n",
    "    \n",
    "    if print_output:\n",
    "        # \\n makes a blank line in the output.\n",
    "        print('Anuual ROI over time:') \n",
    "        \n",
    "    while year < 10:\n",
    "        year = year + 1\n",
    "        net_return = (data.selling_price - data.buying_price)\\\n",
    "        * data.share_no + data.dividend - data.costs\n",
    "        cost_of_investment = data.buying_price * data.share_no\n",
    "        \n",
    "        # Cost of investment is simply the buying price of each \n",
    "        # share multiplied by the number of shares purchased, \n",
    "        # eg. 10 shares at $5 means the cost of investment is £50.\n",
    "        roi = prior_roi + ((net_return)/(cost_of_investment))*100\n",
    "        print(f\"roi :{roi}\")\n",
    "        \n",
    "        anl_roi = ((1 + (roi/100))**(1/year)-1)*100\n",
    "        \n",
    "        return anl_roi\n",
    "    \n",
    "# view output\n",
    "anl_roi_per_year(model_data)"
   ]
  },
  {
   "cell_type": "markdown",
   "id": "3d12cb58",
   "metadata": {},
   "source": [
    "### Run the model based on some changes"
   ]
  },
  {
   "cell_type": "markdown",
   "id": "f33ab33a",
   "metadata": {},
   "source": [
    "#### Initial Invest increases by 10% and decreases by 10%"
   ]
  },
  {
   "cell_type": "code",
   "execution_count": null,
   "id": "b02c3df4",
   "metadata": {},
   "outputs": [],
   "source": [
    "# investment = buying price * share \n",
    "# NOTE: Assuming that instead of investment, the variable to be used is share no."
   ]
  },
  {
   "cell_type": "code",
   "execution_count": null,
   "id": "84d1be1c",
   "metadata": {},
   "outputs": [],
   "source": [
    "# Buying Share per share increases by 10%.\n",
    "@dataclass\n",
    "class ModelInputs:\n",
    "    share_no : int = 550\n",
    "    buying_price: int = 11.5\n",
    "    dividend: int = 500\n",
    "    selling_price: int = 15\n",
    "    costs: int = 125\n",
    "        \n",
    "model_data = ModelInputs()\n",
    "model_data\n",
    "\n",
    "roi_per_year(model_data)"
   ]
  },
  {
   "cell_type": "code",
   "execution_count": null,
   "id": "2771712c",
   "metadata": {},
   "outputs": [],
   "source": [
    "# Buying Share per share decreases by 10%.\n",
    "@dataclass\n",
    "class ModelInputs:\n",
    "    share_no : int = 450\n",
    "    buying_price: int = 11.5\n",
    "    dividend: int = 500\n",
    "    selling_price: int = 15\n",
    "    costs: int = 125\n",
    "        \n",
    "model_data = ModelInputs()\n",
    "model_data\n",
    "\n",
    "roi_per_year(model_data)"
   ]
  },
  {
   "cell_type": "markdown",
   "id": "3210808f",
   "metadata": {},
   "source": [
    "#### Buying price increases by 15% and decreases by 10%"
   ]
  },
  {
   "cell_type": "code",
   "execution_count": null,
   "id": "856ea510",
   "metadata": {},
   "outputs": [],
   "source": [
    "# Buying price per share increases by 15%.\n",
    "@dataclass\n",
    "class ModelInputs:\n",
    "    share_no : int = 500\n",
    "    buying_price: int = 11.5\n",
    "    dividend: int = 500\n",
    "    selling_price: int = 15\n",
    "    costs: int = 125\n",
    "        \n",
    "model_data = ModelInputs()\n",
    "model_data\n",
    "\n",
    "roi_per_year(model_data)"
   ]
  },
  {
   "cell_type": "code",
   "execution_count": null,
   "id": "90ec5c50",
   "metadata": {},
   "outputs": [],
   "source": [
    "# Buying price per share decreases by 15%.\n",
    "@dataclass\n",
    "class ModelInputs:\n",
    "    share_no : int = 500\n",
    "    buying_price: int = 8.5\n",
    "    dividend: int = 500\n",
    "    selling_price: int = 15\n",
    "    costs: int = 125\n",
    "        \n",
    "model_data = ModelInputs()\n",
    "model_data\n",
    "\n",
    "roi_per_year(model_data)"
   ]
  },
  {
   "cell_type": "markdown",
   "id": "f83ed97f",
   "metadata": {},
   "source": [
    "#### Selling price increases by 20% and decreases by 15%"
   ]
  },
  {
   "cell_type": "code",
   "execution_count": null,
   "id": "69c313f9",
   "metadata": {},
   "outputs": [],
   "source": [
    "# Selling price per share increases by 20%.\n",
    "@dataclass\n",
    "class ModelInputs:\n",
    "    share_no : int = 500\n",
    "    buying_price: int = 10\n",
    "    dividend: int = 500\n",
    "    selling_price: int = 18\n",
    "    costs: int = 125\n",
    "        \n",
    "model_data = ModelInputs()\n",
    "model_data\n",
    "\n",
    "roi_per_year(model_data)"
   ]
  },
  {
   "cell_type": "code",
   "execution_count": null,
   "id": "5ab38580",
   "metadata": {},
   "outputs": [],
   "source": [
    "# Selling price per share decreases by 20%.\n",
    "@dataclass\n",
    "class ModelInputs:\n",
    "    share_no : int = 500\n",
    "    buying_price: int = 10\n",
    "    dividend: int = 500\n",
    "    selling_price: int = 12\n",
    "    costs: int = 125\n",
    "        \n",
    "model_data = ModelInputs()\n",
    "model_data\n",
    "\n",
    "roi_per_year(model_data)"
   ]
  },
  {
   "cell_type": "markdown",
   "id": "67201dd6",
   "metadata": {},
   "source": [
    "#### Annual dividend increases by 25% and decreases by 20%"
   ]
  },
  {
   "cell_type": "code",
   "execution_count": null,
   "id": "19779e28",
   "metadata": {},
   "outputs": [],
   "source": [
    "# Annual dividend increases by 25%.\n",
    "@dataclass\n",
    "class ModelInputs:\n",
    "    share_no : int = 500\n",
    "    buying_price: int = 10\n",
    "    dividend: int = 502.5\n",
    "    selling_price: int = 15\n",
    "    costs: int = 125\n",
    "        \n",
    "model_data = ModelInputs()\n",
    "model_data\n",
    "\n",
    "roi_per_year(model_data)"
   ]
  },
  {
   "cell_type": "code",
   "execution_count": null,
   "id": "4a4a6d2f",
   "metadata": {},
   "outputs": [],
   "source": [
    "# Selling price per share decreases by 20%.\n",
    "@dataclass\n",
    "class ModelInputs:\n",
    "    share_no : int = 500\n",
    "    buying_price: int = 10\n",
    "    dividend: int = 497.5\n",
    "    selling_price: int = 15\n",
    "    costs: int = 125\n",
    "        \n",
    "model_data = ModelInputs()\n",
    "model_data\n",
    "\n",
    "roi_per_year(model_data)"
   ]
  },
  {
   "cell_type": "markdown",
   "id": "a9702cb1",
   "metadata": {},
   "source": [
    "#### Create a good and bad scenario"
   ]
  },
  {
   "cell_type": "code",
   "execution_count": null,
   "id": "0b9a4659",
   "metadata": {},
   "outputs": [],
   "source": [
    "# Create a good bad scenario.\n",
    "@dataclass\n",
    "class ModelInputs:\n",
    "    share_no : int = 500\n",
    "    buying_price: int = 10\n",
    "    dividend: int = 500\n",
    "    selling_price: int = 15\n",
    "    costs: int = 125\n",
    "        \n",
    "model_data = ModelInputs()\n",
    "model_data"
   ]
  },
  {
   "cell_type": "code",
   "execution_count": null,
   "id": "fe3cee76",
   "metadata": {},
   "outputs": [],
   "source": [
    "bad_economy_data = ModelInputs(\n",
    "    share_no = 100,\n",
    "    buying_price = 600,\n",
    "    dividend = 200,\n",
    "    selling_price = 200,\n",
    "    costs = 900)\n",
    "\n",
    "good_economy_data = ModelInputs(\n",
    "    share_no= 800,\n",
    "    buying_price= 30,\n",
    "    dividend= 600,\n",
    "    selling_price= 45,\n",
    "    costs= 100)\n",
    "\n",
    "cases = {\n",
    "    'Bad': bad_economy_data,\n",
    "    # Original inputs were set to assume a normal economy.\n",
    "    'Normal': model_data, \n",
    "    'Good': good_economy_data}\n",
    "\n",
    "for case_type, case_inputs in cases.items():\n",
    "    ytr = anl_roi_per_year(case_inputs, print_output=False)\n",
    "    \n",
    "print(f'Annualized ROI would be {ytr} is case of {case_type} economy.')"
   ]
  },
  {
   "cell_type": "markdown",
   "id": "1c28efe8",
   "metadata": {},
   "source": [
    "#### Perform a what if scenario"
   ]
  },
  {
   "cell_type": "code",
   "execution_count": null,
   "id": "c2e95b36",
   "metadata": {},
   "outputs": [],
   "source": [
    "# Run what-if analysis.\n",
    "def analyzer_what_if(\n",
    "    \n",
    "    share_no  = 500,\n",
    "    buying_price = 10,\n",
    "    dividend = 500,\n",
    "    selling_price = 15,\n",
    "    costs = 125):\n",
    "    data = ModelInputs(\n",
    "        share_no=share_no, \n",
    "        buying_price=buying_price, \n",
    "        dividend=dividend, \n",
    "        selling_price=selling_price,  \n",
    "        costs=costs)\n",
    "    \n",
    "    return annualized_roi_per_year(data)\n",
    "\n",
    "analyzer_what_if()"
   ]
  },
  {
   "cell_type": "code",
   "execution_count": null,
   "id": "447b313b",
   "metadata": {},
   "outputs": [],
   "source": [
    "def analyzer_what_if(    \n",
    "    share_no  = 500,\n",
    "    buying_price = 10,\n",
    "    dividend = 500,\n",
    "    selling_price = 15,\n",
    "    costs = 125):\n",
    "    data = ModelInputs(\n",
    "        share_no=share_no, \n",
    "        buying_price=buying_price, \n",
    "        dividend=dividend, \n",
    "        selling_price=selling_price,  \n",
    "        costs=costs)\n",
    "    \n",
    "    return anl_roi_per_year(data)\n",
    "\n",
    "analyzer_what_if()"
   ]
  },
  {
   "cell_type": "code",
   "execution_count": null,
   "id": "311036e1",
   "metadata": {},
   "outputs": [],
   "source": [
    "# It is certainly possible to specify all these hard-coded but \n",
    "# using list comprehensions makes it easy to adjust.\n",
    "sensitivity_values = {\n",
    "    'share_no': [i * 100 for i in range(4, 8)],\n",
    "    'buying_price': [i*10 for i in range(4, 8)],\n",
    "    'dividend': [i *100 for i in range(1, 4)],\n",
    "    'selling_price': [i *10 for i in range(10, 25, 5)],\n",
    "    'costs': [i * 100 for i in range(3, 10)],\n",
    "    # 'interest_rate': [i/100 for i in range(3, 8)],\n",
    "    # 'desired_cash': [i * 100000 for i in range(10, 26, 5)]\n",
    "}\n",
    "\n",
    "sensitivity_values"
   ]
  },
  {
   "cell_type": "code",
   "execution_count": null,
   "id": "69888bc0",
   "metadata": {},
   "outputs": [],
   "source": [
    "sa = SensitivityAnalyzer(\n",
    "    sensitivity_values,\n",
    "    analyzer_what_if,\n",
    "    result_name='Annual ROI',\n",
    "    reverse_colors=True,\n",
    "    grid_size=3)"
   ]
  },
  {
   "cell_type": "code",
   "execution_count": null,
   "id": "ff125372",
   "metadata": {
    "scrolled": true
   },
   "outputs": [],
   "source": [
    "# Create a DataFrame.\n",
    "sa.df"
   ]
  },
  {
   "cell_type": "code",
   "execution_count": null,
   "id": "70ec2f15",
   "metadata": {},
   "outputs": [],
   "source": [
    "# Create a visualisation.\n",
    "sa.plot()"
   ]
  },
  {
   "cell_type": "code",
   "execution_count": null,
   "id": "0a9f5d82",
   "metadata": {},
   "outputs": [],
   "source": [
    "# Display results as a DataFrame.\n",
    "sa.styled_dfs()"
   ]
  },
  {
   "cell_type": "markdown",
   "id": "8b46b0a7",
   "metadata": {},
   "source": [
    "#### Identify best case investment scenario"
   ]
  },
  {
   "cell_type": "code",
   "execution_count": null,
   "id": "45789562",
   "metadata": {},
   "outputs": [],
   "source": [
    "@dataclass\n",
    "class ModelInputs:\n",
    "    share_no : int = 600\n",
    "    buying_price: int = 20\n",
    "    dividend: int = 800\n",
    "    selling_price: int = 22\n",
    "    costs: int = 100\n",
    "        \n",
    "model_data = ModelInputs()\n",
    "model_data"
   ]
  },
  {
   "cell_type": "code",
   "execution_count": null,
   "id": "a0743de8",
   "metadata": {},
   "outputs": [],
   "source": [
    "def annualized_roi_per_year_for_required_roi(data: ModelInputs):\n",
    "    year = 0\n",
    "    prior_roi = 0\n",
    "    \n",
    "    for year in range(19):\n",
    "        year = year + 1        \n",
    "        net_return = (data.selling_price - data.buying_price) * data.share_no + data.dividend - data.costs\n",
    "        cost_of_investment = data.buying_price * data.share_no\n",
    "\n",
    "        roi = prior_roi + ((net_return)/(cost_of_investment))*100 \n",
    "        annual_roi = ((1 + (roi/100))**(1/year)-1)*100\n",
    "        \n",
    "        prior_roi = roi \n",
    "    print(f'The annualized ROI at year {year} reaches {annual_roi}% for total shares of {model_data.share_no}\\\n",
    "    with a buying price of {model_data.buying_price}, selling price of {model_data.selling_price}')\n",
    "    \n",
    "annualized_roi_per_year_for_required_roi(model_data)"
   ]
  },
  {
   "cell_type": "markdown",
   "id": "2868839d",
   "metadata": {},
   "source": [
    "## 1.2.3 Calculating simple linear regression with Python"
   ]
  },
  {
   "cell_type": "code",
   "execution_count": null,
   "id": "45596233",
   "metadata": {},
   "outputs": [],
   "source": [
    "# Import NumPy and Matplotlib.\n",
    "import numpy as np\n",
    "import matplotlib.pyplot as plt"
   ]
  },
  {
   "cell_type": "code",
   "execution_count": null,
   "id": "145419b3",
   "metadata": {},
   "outputs": [],
   "source": [
    "# Setting up regression analysis function\n",
    "def estimate_coef(x, y):\n",
    "    # Specify the size or number of points.\n",
    "    n = np.size(x)  \n",
    "\n",
    "    # Calculate the mean of x and y.\n",
    "    mean_x = np.mean(x)\n",
    "    mean_y = np.mean(y)\n",
    "\n",
    "    # Calculate the cross-deviation and deviation around x.\n",
    "    SS_xy = np.sum(y*x) - n*mean_y*mean_x\n",
    "    SS_xx = np.sum(x*x) - n*mean_x*mean_x\n",
    "\n",
    "    # Calculate the regression coefficients.\n",
    "    m = SS_xy / SS_xx\n",
    "    b = mean_y - m*mean_x\n",
    "\n",
    "    return (b, m)"
   ]
  },
  {
   "cell_type": "code",
   "execution_count": null,
   "id": "023fb284",
   "metadata": {},
   "outputs": [],
   "source": [
    "# Setting up regression line plot.\n",
    "def plot_regression_line(x, y, b):\n",
    "    # Use scatterplot to plot the actual points.\n",
    "    plt.scatter(x, y, color = \"g\",\n",
    "               marker = \"o\", s = 30)\n",
    " \n",
    "    # Set the predicted response vector using the linear equation.\n",
    "    y_pred = b[0] + b[1]*x\n",
    " \n",
    "    #  Plot the regression line (in red).\n",
    "    plt.plot(x, y_pred, color = \"r\")\n",
    " \n",
    "    # Add two labels for clarity.\n",
    "    plt.xlabel('x')\n",
    "    plt.ylabel('y')\n",
    " \n",
    "    # Set a function to display the plot.\n",
    "    plt.show()"
   ]
  },
  {
   "cell_type": "code",
   "execution_count": null,
   "id": "1a1afd27",
   "metadata": {},
   "outputs": [],
   "source": [
    "# Adding data.\n",
    "def main():\n",
    "    # Enter small data set by hand as an array.\n",
    "    x = np.array([0.9, 1, 1.1, 1.2, 1.4, 1.6, 1.8, 2, 2.2, 2.5])\n",
    "    y = np.array([20000, 22000, 23500, 26000, 25000, 28250,\n",
    "                  29300, 33000, 34255, 45000])\n",
    "\n",
    "    # Calculate the coefficients\n",
    "    b = estimate_coef(x, y)\n",
    "    print(\"Estimated coefficients:\\nc = {}  \\\n",
    "          \\nm = {}\".format(b[0], b[1]))\n",
    "\n",
    "    # Plot the regression line (i.e. y = mx + c).\n",
    "    plot_regression_line(x, y, b)\n",
    " \n",
    "main()"
   ]
  },
  {
   "cell_type": "markdown",
   "id": "510187a6",
   "metadata": {},
   "source": [
    "### Simply functions and calculations with NumPy"
   ]
  },
  {
   "cell_type": "code",
   "execution_count": null,
   "id": "ad392c3a",
   "metadata": {},
   "outputs": [],
   "source": [
    "# Simplify functions and calculations with NumPy \n",
    "# Re-enter the values of x and y in your Notebook.\n",
    "x = np.array([0.9, 1, 1.1, 1.2, 1.4, 1.6, 1.8, 2, 2.2, 2.5])\n",
    "y = np.array([20000, 22000, 23500, 26000, 25000, 28250, 29300, 33000, 34255, 45000])\n",
    "\n",
    "# Create a basic scatterplot.\n",
    "plt.plot(x, y, 'o')  \n",
    "\n",
    "# Obtain m (slope) and c (intercept) of the linear regression line.\n",
    "m, c = np.polyfit(x, y, 1)\n",
    "\n",
    "# Add the linear regression line to the scatter plot.\n",
    "plt.plot(x, m*x+c)\n",
    "print(m)\n",
    "print(c)"
   ]
  },
  {
   "cell_type": "markdown",
   "id": "56efcad9",
   "metadata": {},
   "source": [
    "## The OLS method and the statsmodels package"
   ]
  },
  {
   "cell_type": "code",
   "execution_count": null,
   "id": "60a45605",
   "metadata": {},
   "outputs": [],
   "source": [
    "# Import statsmodels, NumPy, Pandas, and Matplotlib.\n",
    "import statsmodels.api as sm \n",
    "from statsmodels.formula.api import ols\n",
    "import numpy as np\n",
    "import pandas as pd\n",
    "import matplotlib.pyplot as plt\n",
    "\n",
    "# Import and read the data file:\n",
    "df_test = pd.read_csv('test.csv')\n",
    "\n",
    "df_test"
   ]
  },
  {
   "cell_type": "code",
   "execution_count": null,
   "id": "da933c90",
   "metadata": {},
   "outputs": [],
   "source": [
    "# Define the variables.\n",
    "# Define the dependent variable.\n",
    "y = df_test['y'] \n",
    "\n",
    "# Define the independent variable.\n",
    "x = df_test['x'] \n",
    "\n",
    "# Check for linearity.\n",
    "plt.scatter(x, y)  "
   ]
  },
  {
   "cell_type": "code",
   "execution_count": null,
   "id": "211f0b1b",
   "metadata": {},
   "outputs": [],
   "source": [
    "# Fit the model\n",
    "# OLS uses an R-style formula in Python to fit statistical models.\n",
    "# The formula looks like this: ‘y ~ x’.\n",
    "\n",
    "# Create formula and pass through OLS methods.\n",
    "f = 'y ~ x'\n",
    "test = ols(f, data = df_test).fit()\n",
    "\n",
    "# Print the regression table.\n",
    "test.summary() "
   ]
  },
  {
   "cell_type": "code",
   "execution_count": null,
   "id": "efe82fba",
   "metadata": {},
   "outputs": [],
   "source": [
    "# Print the other useful values.\n",
    "# Extract the estimated parameters.\n",
    "print(\"Parameters: \", test.params)  \n",
    "\n",
    "# Extract the standard errors.\n",
    "print(\"Standard errors: \", test.bse)  \n",
    "\n",
    "# Extract the predicted values.\n",
    "print(\"Predicted values: \", test.predict())  "
   ]
  },
  {
   "cell_type": "code",
   "execution_count": null,
   "id": "c5540179",
   "metadata": {},
   "outputs": [],
   "source": [
    "# Create a linear equation and plot the regression model.\n",
    "# Set the the x coefficient to ‘1.0143’ and the constant to ’0.4618’ to generate the regression table.\n",
    "y_pred = 1.0143 * df_test['x'] - 0.4618\n",
    "\n",
    "y_pred"
   ]
  },
  {
   "cell_type": "code",
   "execution_count": null,
   "id": "e774492a",
   "metadata": {},
   "outputs": [],
   "source": [
    "# Finally lets plot our values on a scatterplt using Matpltlib.\n",
    "# To do this we need to\n",
    "# Plot the data points\n",
    "# plot the line\n",
    "# Set the x and y limits on the axes.\n",
    "\n",
    "import matplotlib.pyplot as plt\n",
    "\n",
    "# Plot the data points.\n",
    "plt.scatter(x,y)  \n",
    "\n",
    "# Plot the regression line (in black).\n",
    "plt.plot(x,y_pred, color='black') \n",
    "\n",
    "# Set the x and y limits on the axes:\n",
    "plt.xlim(0)\n",
    "plt.ylim(0)\n",
    "plt.show()\n",
    "\n",
    "# Recall that in a simple linear regression model analysts try to ifn the line of best fit\n",
    "# by minimizing residuals = reduce the distance between data points and regression line down to 0.\n",
    "# As you can see below, the line of best fit here fits the data points almost perfectly\n",
    "# x/y intercept is very nearly at 0!\n",
    "\n",
    "\n",
    "# By using OLS and statsmodels module, we are able to minimise the residuals and \n",
    "# Create a more accurate line of best fit!"
   ]
  },
  {
   "cell_type": "markdown",
   "id": "51773bfb",
   "metadata": {},
   "source": [
    "## 1.2.4 Practical Activity: fitting a data set using OLS Method."
   ]
  },
  {
   "cell_type": "code",
   "execution_count": null,
   "id": "e8d47563",
   "metadata": {},
   "outputs": [],
   "source": [
    "# Prepare workstation\n",
    "# import the necessary libraries\n",
    "import statsmodels.api as sm \n",
    "from statsmodels.formula.api import ols\n",
    "import numpy as np\n",
    "import pandas as pd\n",
    "import matplotlib.pyplot as plt"
   ]
  },
  {
   "cell_type": "code",
   "execution_count": null,
   "id": "1b3f6cf8",
   "metadata": {},
   "outputs": [],
   "source": [
    "# Import DataSet\n",
    "df_test = pd.read_csv('loyalty_club.csv')\n",
    "\n",
    "# View DataFrame.\n",
    "df_test"
   ]
  },
  {
   "cell_type": "code",
   "execution_count": null,
   "id": "821f3412",
   "metadata": {},
   "outputs": [],
   "source": [
    "# Define the Variables.\n",
    "# Dependent variable.\n",
    "y = df_test['Yearly Amount Spent'] \n",
    "\n",
    "# Independent variable.\n",
    "X = df_test['Length of Membership']\n",
    "\n",
    "# Check for linearity.\n",
    "plt.scatter(X,y)"
   ]
  },
  {
   "cell_type": "code",
   "execution_count": null,
   "id": "72d251e2",
   "metadata": {},
   "outputs": [],
   "source": [
    "# Run the OLS test.\n",
    "f = 'y ~ X'\n",
    "test = ols(f, data = df_test).fit()\n",
    "\n",
    "test.summary()"
   ]
  },
  {
   "cell_type": "code",
   "execution_count": null,
   "id": "559ec1f9",
   "metadata": {},
   "outputs": [],
   "source": [
    "# Create linear equation\n",
    "# x coef: 64.2187\n",
    "# constant coef: 272.3998\n",
    "\n",
    "y_pred = 64.2187 * X + 272.3998\t\n",
    "\n",
    "y_pred"
   ]
  },
  {
   "cell_type": "code",
   "execution_count": null,
   "id": "ab1a4bb2",
   "metadata": {},
   "outputs": [],
   "source": [
    "# Plot the regression\n",
    "\n",
    "import matplotlib.pyplot as plt\n",
    "\n",
    "# Plot the data points.\n",
    "plt.scatter(X,y)\n",
    "\n",
    "# Plot the line.\n",
    "plt.plot(X,y_pred, color='black')"
   ]
  },
  {
   "cell_type": "markdown",
   "id": "72314f9e",
   "metadata": {},
   "source": [
    "## 1.2.5 Linear Regression with scikit learn"
   ]
  },
  {
   "cell_type": "markdown",
   "id": "16a892f1",
   "metadata": {},
   "source": [
    "Scikit Learn or sklearn is Pythons standard machine learning library. Amongst many other things, we can use sklearn to calculate simple and multiple linear regression. "
   ]
  },
  {
   "cell_type": "code",
   "execution_count": null,
   "id": "cf99cfbd",
   "metadata": {},
   "outputs": [],
   "source": [
    "# Prepare workstation.\n",
    "# Install the necessary modules.\n",
    "!pip install scipy"
   ]
  },
  {
   "cell_type": "code",
   "execution_count": null,
   "id": "784fdb4d",
   "metadata": {},
   "outputs": [],
   "source": [
    "# Import the necessary libraries, packages and modules.\n",
    "import statsmodels.api as sm \n",
    "from sklearn import datasets \n",
    "import numpy as np  \n",
    "from sklearn import linear_model \n",
    "import pandas as pd \n",
    "import matplotlib.pyplot as plt \n",
    "import sklearn\n",
    "\n",
    "from sklearn.model_selection import train_test_split\n",
    "from sklearn import metrics\n",
    "from sklearn.linear_model import LinearRegression\n",
    "\n",
    "# Read the 'salary_data.csv' file.\n",
    "data = pd.read_csv('salary_data.csv') \n",
    "\n",
    "# Print the table.\n",
    "data.head() "
   ]
  },
  {
   "cell_type": "code",
   "execution_count": null,
   "id": "f4faad9a",
   "metadata": {},
   "outputs": [],
   "source": [
    "# More info about the DataFrame.\n",
    "data.info() "
   ]
  },
  {
   "cell_type": "code",
   "execution_count": null,
   "id": "d0b8c31f",
   "metadata": {},
   "outputs": [],
   "source": [
    "# Determine basic statistics\n",
    "# Print descriptive statistics\n",
    "data.describe()"
   ]
  },
  {
   "cell_type": "code",
   "execution_count": null,
   "id": "d364f907",
   "metadata": {},
   "outputs": [],
   "source": [
    "# Run the regression\n",
    "# Define the dependent variable.\n",
    "y = data['Salary'].values.reshape(-1, 1) \n",
    "\n",
    "# Define the independent variable.\n",
    "x = data['YearsExperience'].values.reshape(-1, 1) "
   ]
  },
  {
   "cell_type": "code",
   "execution_count": null,
   "id": "82fd57b9",
   "metadata": {},
   "outputs": [],
   "source": [
    "# Specify the model.\n",
    "lm = LinearRegression()\n",
    "\n",
    "# Fit the model.\n",
    "lm.fit(x, y) "
   ]
  },
  {
   "cell_type": "code",
   "execution_count": null,
   "id": "42776180",
   "metadata": {},
   "outputs": [],
   "source": [
    "# Make Predictions.\n",
    "# Print the target values.\n",
    "lm.predict(x)  "
   ]
  },
  {
   "cell_type": "code",
   "execution_count": null,
   "id": "9d5956f4",
   "metadata": {},
   "outputs": [],
   "source": [
    "# Call the intercept.\n",
    "lm.intercept_ "
   ]
  },
  {
   "cell_type": "code",
   "execution_count": null,
   "id": "84bff3d7",
   "metadata": {},
   "outputs": [],
   "source": [
    "# Estimate co-efficients.\n",
    "lm.coef_ "
   ]
  },
  {
   "cell_type": "code",
   "execution_count": null,
   "id": "76f6a844",
   "metadata": {},
   "outputs": [],
   "source": [
    "# Create a scatterplot (with red data points). \n",
    "plt.scatter(x, y, color = 'red')  \n",
    "\n",
    "# Create a regression line in green.\n",
    "plt.plot(x, lm.predict(x), color = 'green') \n",
    "\n",
    "#Set the title and labels for the graph.\n",
    "plt.title(\"Years of Experience vs Ave. Salary\") \n",
    "plt.xlabel(\"Years of Experience\") \n",
    "plt.ylabel(\"Ave. Salary\")\n",
    "\n",
    "# Print the graph. \n",
    "plt.show() "
   ]
  },
  {
   "cell_type": "code",
   "execution_count": null,
   "id": "0f0577a3",
   "metadata": {},
   "outputs": [],
   "source": [
    "# Apply the linear regression model\n",
    "# Use the predict() method with an array to call the \n",
    "# salaries for each number of years’ experience.\n",
    "predictedSalary = lm.predict([[5],[10],[15],[20],[25],[30]])  \n",
    "\n",
    "# Print the results.\n",
    "print(predictedSalary)  "
   ]
  },
  {
   "cell_type": "markdown",
   "id": "17ea6165",
   "metadata": {},
   "source": [
    "### Training and test sets\n",
    "Splitting the data before building the model is a general technique used in machine learning that allows data analysts to evaluate the performance of their models.\n",
    "\n",
    "A related concept is overfitting, which is when a statistical model fits so closely with its training data that the algorithm cannot make accurate predictions on unseen data. This may sound counterintuitive, as having a model fit the data sounds like a good thing. However, if the algorithm trains too long on the sample data, which is limited, it starts to learn irrelevant information within the data set, becoming useful only in terms of its training data. The algorithm therefore cannot generalise to new data and, as a result, is unable to perform classification or prediction tasks. "
   ]
  },
  {
   "cell_type": "markdown",
   "id": "8a51abb5",
   "metadata": {},
   "source": [
    "#### Run the regression on subsets\n",
    "\n",
    "To get started with the train_test_split module, you would do the following. (Remember to follow along in the same Notebook.)\n",
    "\n",
    "- Import the train_test_split module from sklearn.\n",
    "- Create the subset with a 50/50 split.\n",
    "- Control the shuffling using random_state (randomly applied to the data before the split to avoid values varying)."
   ]
  },
  {
   "cell_type": "code",
   "execution_count": null,
   "id": "505aae23",
   "metadata": {},
   "outputs": [],
   "source": [
    "#  Import the sklearn module.\n",
    "from sklearn.model_selection import train_test_split \n",
    "\n",
    "# Create  the subset (50/50); \n",
    "# Control the shuffling/avoid variation in values between variable.\n",
    "x_train,x_test,y_train,y_test = train_test_split(x,y,train_size=0.5, \n",
    "                                                 random_state=100) "
   ]
  },
  {
   "cell_type": "code",
   "execution_count": null,
   "id": "115716c5",
   "metadata": {},
   "outputs": [],
   "source": [
    "# To minimise residuals, run a regression test & visualise the training data.\n",
    "# Linear regression; fitting the model.\n",
    "lm.fit(x_train,y_train) "
   ]
  },
  {
   "cell_type": "code",
   "execution_count": null,
   "id": "3f624831",
   "metadata": {},
   "outputs": [],
   "source": [
    "# Next predict the values in the training data set using y_pred function\n",
    "# Predict the training set values.\n",
    "y_pred = lm.predict(x_train) "
   ]
  },
  {
   "cell_type": "markdown",
   "id": "c872a5b9",
   "metadata": {},
   "source": [
    "Now to visualise the training data. Remember that the training data is half of the total data set picked at random. To do this, \n",
    "\n",
    "- Create a scatterplot with red data points.\n",
    "- Create the regression line in green.\n",
    "- Set the title and legends for the graph.\n",
    "- Print the graph."
   ]
  },
  {
   "cell_type": "code",
   "execution_count": null,
   "id": "c5615206",
   "metadata": {},
   "outputs": [],
   "source": [
    "# Create a scatterplot with regression line.\n",
    "plt.scatter(x_train, y_train, color = 'red')  \n",
    "plt.plot(x_train, y_pred, color = 'green')\n",
    "\n",
    "# Set the title and legends for the graph.  \n",
    "plt.title(\"Years of Experience vs Ave. Salary\")\n",
    "plt.xlabel(\"Years of Experience\")\n",
    "plt.ylabel(\"Ave. Salary\") \n",
    "\n",
    "# Print the graph. \n",
    "plt.show()  "
   ]
  },
  {
   "cell_type": "code",
   "execution_count": null,
   "id": "cdb75baf",
   "metadata": {},
   "outputs": [],
   "source": [
    "# Now check how actual model is performing.\n",
    "# To do this, check the R squared value of the training data\n",
    "# Print R-squared value of the training data.\n",
    "print(lm.score(x_train,y_train)) \n",
    "\n",
    "# This is a strong R-squared value, as it is higher than 0.7\n",
    "# it explains almost 94% of the dependent variable"
   ]
  },
  {
   "cell_type": "code",
   "execution_count": null,
   "id": "c1b01ebd",
   "metadata": {},
   "outputs": [],
   "source": [
    "# Calculate intercept and coefficient values\n",
    "# Print the intercept value.\n",
    "print(\"Intercept value: \", lm.intercept_) \n",
    "\n",
    "# Print the coefficient value.\n",
    "print(\"Coefficient value: \", lm.coef_) "
   ]
  },
  {
   "cell_type": "markdown",
   "id": "c12c8ce0",
   "metadata": {},
   "source": [
    "### Testing the model\n",
    "\n",
    "We created a 50/50 split of the original data set into train and test data sets. We created and fitted the model with the train data set. The final piece of the puzzle is to test the accuracy of our linear model with the test data set.\n",
    "\n",
    "The process and code snippets are essentially the same. Replace train with test and compare the outputs."
   ]
  },
  {
   "cell_type": "code",
   "execution_count": null,
   "id": "76b3d71c",
   "metadata": {},
   "outputs": [],
   "source": [
    "# Select the model\n",
    "# Linear regression; fitting the model.\n",
    "lm.fit(x_test,y_test) "
   ]
  },
  {
   "cell_type": "code",
   "execution_count": null,
   "id": "f5ef5515",
   "metadata": {},
   "outputs": [],
   "source": [
    "# Predict the test set values.\n",
    "# Predict the test set values.\n",
    "y_pred = lm.predict(x_test) \n",
    "\n",
    "# Create a scatterplot with regression line.\n",
    "plt.scatter(x_test, y_test, color = 'red') \n",
    "plt.plot(x_test, y_pred, color = 'green')\n",
    "\n",
    "# Set the title and legends for the graph.  \n",
    "plt.title(\"Years of Experience vs Ave. Salary\")\n",
    "plt.xlabel(\"Years of Experience\")\n",
    "plt.ylabel(\"Ave. Salary\") \n",
    "\n",
    "# Print the graph. \n",
    "plt.show() "
   ]
  },
  {
   "cell_type": "code",
   "execution_count": null,
   "id": "d206a75b",
   "metadata": {},
   "outputs": [],
   "source": [
    "# Print R-squared, intercept and coefficient values\n",
    "# Print R-squared value of the test data.\n",
    "print(lm.score(x_test,y_test)) \n",
    "\n",
    "# Print the intercept value.\n",
    "print(\"Intercept value: \", lm.intercept_) \n",
    "\n",
    "# Print the coefficient value.\n",
    "print(\"Coefficient value: \", lm.coef_)"
   ]
  },
  {
   "cell_type": "markdown",
   "id": "694f8a9b",
   "metadata": {},
   "source": [
    "## 1.2.6 Practical activity: Finding the best fit line\n",
    "\n",
    "The best-fit line (or line of best fit) is the line that best describes the relationship between variables in a linear regression model. \n"
   ]
  },
  {
   "cell_type": "markdown",
   "id": "ede3b5ab",
   "metadata": {},
   "source": [
    "### Prepare the workstation"
   ]
  },
  {
   "cell_type": "code",
   "execution_count": null,
   "id": "ee36dc1a",
   "metadata": {},
   "outputs": [],
   "source": [
    "# Import all the necessary packages.\n",
    "import numpy as np\n",
    "import pandas as pd\n",
    "import matplotlib.pyplot as plt\n",
    "import statsmodels.api as sm\n",
    "import sklearn\n",
    "\n",
    "from sklearn import datasets \n",
    "from sklearn import linear_model\n",
    "from sklearn.model_selection import train_test_split\n",
    "from sklearn import metrics\n",
    "from sklearn.linear_model import LinearRegression"
   ]
  },
  {
   "cell_type": "markdown",
   "id": "4bd767dd",
   "metadata": {},
   "source": [
    "### Import the data set"
   ]
  },
  {
   "cell_type": "code",
   "execution_count": null,
   "id": "64771aa9",
   "metadata": {},
   "outputs": [],
   "source": [
    "# Import the data set.\n",
    "df = pd.read_csv('Ecommerce_data.csv')\n",
    "\n",
    "# View the DataFrame.\n",
    "df.head()"
   ]
  },
  {
   "cell_type": "code",
   "execution_count": null,
   "id": "f47e0fa7",
   "metadata": {},
   "outputs": [],
   "source": [
    "# Replace the missing values with 0.\n",
    "df.fillna(0, inplace=True)"
   ]
  },
  {
   "cell_type": "markdown",
   "id": "2e683ac8",
   "metadata": {},
   "source": [
    "### Define the variables"
   ]
  },
  {
   "cell_type": "code",
   "execution_count": null,
   "id": "f7a8931a",
   "metadata": {},
   "outputs": [],
   "source": [
    "# Choose your variables.\n",
    "X = df['avg_no_it'].values.reshape(-1, 1) \n",
    "y = df['Median_s'].values "
   ]
  },
  {
   "cell_type": "markdown",
   "id": "99e05b5f",
   "metadata": {},
   "source": [
    "### Split the data set"
   ]
  },
  {
   "cell_type": "code",
   "execution_count": null,
   "id": "527e3d35",
   "metadata": {},
   "outputs": [],
   "source": [
    "# Split the data into training = 0.7 and testing = 0.3 subsets.\n",
    "x_train, x_test, y_train, y_test = train_test_split(X, y,\n",
    "                                                    test_size=0.3,\n",
    "                                                    random_state=0)"
   ]
  },
  {
   "cell_type": "markdown",
   "id": "0428781a",
   "metadata": {},
   "source": [
    "### Run a linear equation"
   ]
  },
  {
   "cell_type": "code",
   "execution_count": null,
   "id": "7926d009",
   "metadata": {},
   "outputs": [],
   "source": [
    "# Run linear regression model.\n",
    "lr = LinearRegression()"
   ]
  },
  {
   "cell_type": "code",
   "execution_count": null,
   "id": "6e88d361",
   "metadata": {},
   "outputs": [],
   "source": [
    "# Fit the model on the training data.\n",
    "lr.fit(x_train, y_train)"
   ]
  },
  {
   "cell_type": "code",
   "execution_count": null,
   "id": "cd0a8267",
   "metadata": {},
   "outputs": [],
   "source": [
    "# Predict is used for predicting on the x_test.\n",
    "y_pred = lr.predict(x_test)"
   ]
  },
  {
   "cell_type": "markdown",
   "id": "d70e7770",
   "metadata": {},
   "source": [
    "### Plot the regression"
   ]
  },
  {
   "cell_type": "code",
   "execution_count": null,
   "id": "329183d7",
   "metadata": {},
   "outputs": [],
   "source": [
    "# Visualise the training set.\n",
    "plt.scatter(x_train, y_train, color = \"red\")\n",
    "plt.plot(x_train, lr.predict(x_train), color = \"green\")\n",
    "plt.title(\"Avg no of items vs Median of Seller Business(Training Data)\")\n",
    "plt.xlabel(\"Avg no of items\")\n",
    "plt.ylabel(\"Median of Seller Business\")\n",
    "\n",
    "plt.show()"
   ]
  },
  {
   "cell_type": "code",
   "execution_count": null,
   "id": "4aab52d7",
   "metadata": {},
   "outputs": [],
   "source": [
    "# Visualise the test set.\n",
    "plt.scatter(x_test, y_test, color = \"red\")\n",
    "plt.plot(x_train, lr.predict(x_train), color = \"green\")\n",
    "plt.title(\"Avg no of items vs Median of Seller Business(Testing Data)\")\n",
    "plt.xlabel(\"Avg no of items\")\n",
    "plt.ylabel(\"Median of Seller Business\")\n",
    "\n",
    "plt.show()"
   ]
  },
  {
   "cell_type": "markdown",
   "id": "12b8333d",
   "metadata": {},
   "source": [
    "### Print the values"
   ]
  },
  {
   "cell_type": "code",
   "execution_count": null,
   "id": "6e2c27f0",
   "metadata": {},
   "outputs": [],
   "source": [
    "# Print the R-squared value.\n",
    "print(lr.score(x_train,y_train))"
   ]
  },
  {
   "cell_type": "code",
   "execution_count": null,
   "id": "e1249552",
   "metadata": {},
   "outputs": [],
   "source": [
    "print(\"Intercept value: \", lr.intercept_)\n",
    "print(\"Coffecient value: \", lr.coef_)"
   ]
  },
  {
   "cell_type": "markdown",
   "id": "4ba93b06",
   "metadata": {},
   "source": [
    "#### Notes\n",
    "\n",
    "- The R-squared tells us that the model is explaining a fraction over 50% of the model.\n",
    "- The intercept value of -35.99 tells us that as the low stat variable increases by 1, the predicted value of the Median_s decreases by -35.99"
   ]
  },
  {
   "cell_type": "markdown",
   "id": "24d3db43",
   "metadata": {},
   "source": [
    "## 1.2.7 Limitations and assumptions\n",
    "\n",
    "Explore:\n",
    "- simple linear regression's limitations and instances where it doesnt work\n",
    "- underlying assumptions behind simple linear regression\n",
    "\n",
    "### Limitations\n",
    "\n",
    "\n",
    "#### Sensitivity to outliers \n",
    "Outliers can have a massive effect on regression analysis.\n",
    "\n",
    "#### The limits of linearity \n",
    "Because simple linear regression looks only at the linear relationship between dependent and independent variables, it assumes there is a straight-line relationship between them. This can sometimes be incorrect. \n",
    "In the real world, the relationship might be curved (e.g. the ratio of income to age rises early on, plateaus later in adult life, and drops off at retirement), and there may also be a higher degree polynomial with multiple peaks.  \n",
    "\n",
    "#### Multiple variables\n",
    "For simple linear regression to work, there needs to be a single dependent variable and a single independent variable. Using more than one of each of these variables will not suit simple linear regression. Of course, more than one independent variable is common in real life, so we use multiple linear regression for these cases.\n",
    "\n",
    "#### A focus on the mean\n",
    "Simple linear regression examines the relationship between the mean of the dependent variable and the independent variable. The mean of a variable, however, is not a complete description of said variable; therefore, linear regression cannot in principle be a complete description of the relationship between variables.\n",
    "\n",
    "### Assumptions\n",
    "\n",
    "Assumptions that are directly related to all types of regression analysis need to be checked in order to determine the accuracy of a predictive model.\n",
    "\n",
    "#### Independent variables are not dependent on dependent variables\n",
    "Exogeneity is a usual, but important, assumption in regression analysis. Exogeneity tells us that the independent variable (x) is not dependent on the dependent variable (y). In other words,  is not affected by any other variables in the model. \n",
    "\n",
    "A variable is exogenous if the conditional distribution (i.e. a probability distribution) for a subpopulation of y given x does not change with modification of the process generating x.\n",
    "\n",
    "#### Residuals are not dependent\n",
    "Another assumption is that successive residuals should be independent. In other words, there should be no pattern to the residuals (which, recall, describe how observed data differs from sample population data), nor should they be highly correlated. When successive residuals are correlated, it is called autocorrelation or ‘serial correlation’. Autocorrelation normally occurs when using time series data: what happens one year tends to be correlated with what happens the next year.\n",
    "\n",
    "A simple way to check this assumption is to create a residual time-series plot, where you plot residuals against time.\n",
    "\n",
    "Or you can use the Durbin-Watson statistic, a statistical test that detects autocorrelation in residuals from a regression analysis.The equation itself is quite complex, but luckily we can run it in Python with statsmodels using the durbin_watson() function on the residuals of your OLS model and see it when we print the OLS summary.\n",
    "\n",
    "Essentially, the Durbin-Watson statistic will always have a value between 0 and 4. A value of 2.0 suggests no autocorrelation in the sample, while values between 0 and 2.0 suggest positive autocorrelation and 2 to 4 suggest negative autocorrelation. The closer to 2.0, the better.\n",
    "\n",
    "Positive autocorrelation is when the increase observed in a time interval leads to a proportionate increase in the lagged time interval. Negative autocorrelation is the converse, where the observed increase is followed by a proportionate decrease. \n",
    "\n",
    "#### There are no significant outliers and missing values\n",
    "The most common way data analysts deal with outliers is to calculate the standard deviation. Data analysts don't assign the outliers with some other values because it harms or compromises the analysis. Various replacement techniques exist and the choice of their use is situational dependent.\n",
    "\n",
    "#### Residuals follow a normal distribuiton\n",
    "Valid inferences from regression models require/assume that residuals follow a normal distribution, as normally distributed residuals mean normally distributed regression coefficients.\n",
    "\n",
    "To check this, we can use histograms or Q-Q plots. Q-Q plots are plots of two quantiles (such as the median) against each other. Once plotted, a straight line at a roughly 45-degree angle suggests that the distribution is normal.\n",
    "\n",
    "If you find that normality is off, you can first try to verify that no outliers are impacting the distribution. A second option is to apply a nonlinear transformation to one or both of the variables, either through log, square root, or reciprocals. \n",
    "\n",
    "There are other formal statistical tests that can check for normality, such as the Kolmogorov-Smironov, Jarque-Barre, or Shapiro-Wilk tests, although these tests are sensitive to larger sample sizes.\n",
    "\n",
    "#### The relation between each predictor and the dependent variable is linear\n",
    "The linearity assumption states that the relation between each predictor and the dependent variable is linear.\n",
    "\n",
    "#### Different samples have the same variance\n",
    "Homoscedasticity is a statistical concept where the variances of the residuals along the regression line remain similar all through the line or, in other words, the residuals have constant variance at every level of x. Without homoscedasticity, the standard errors of the regression coefficient estimates are invalid – but without the model picking this up. This means that you might declare a term as statistically significant when it actually isn’t.  \n",
    "\n",
    "We can check for homoscedasticity by plotting the model predictions, or fitted values, and residuals in a scatterplot. Residuals need to be equal across the regression line. \n",
    "\n",
    "The cone-like shape is a sign of heteroscedasticity, the opposite of homoscedasticity, where the variability of a variable is unequal across the values; in other words, there is an uneven change in the spread of residuals over the range of values."
   ]
  },
  {
   "cell_type": "markdown",
   "id": "af6059ed",
   "metadata": {},
   "source": [
    "### Using statsmodels to check homoscedasticity \n",
    "Another method to check for homoscedasticity is to run statistical tests in Python using the statsmodels package. We’ll use the Breusch–Pagan test to check homoscedasticity. "
   ]
  },
  {
   "cell_type": "code",
   "execution_count": null,
   "id": "24dd0930",
   "metadata": {},
   "outputs": [],
   "source": [
    "# Importing the preliminary packages\n",
    "import pandas as pd\n",
    "import statsmodels.api as sm\n",
    "from statsmodels.formula.api import ols\n",
    "import statsmodels.stats.api as sms"
   ]
  },
  {
   "cell_type": "code",
   "execution_count": null,
   "id": "3c321492",
   "metadata": {},
   "outputs": [],
   "source": [
    "# Importing the test data set and run the OLS on the data.\n",
    "# Import the test data set and run the OLS on the data.\n",
    "df_test = pd.read_csv('test.csv')\n",
    "f = 'y ~ x'\n",
    "test = ols(f, data = df_test).fit()"
   ]
  },
  {
   "cell_type": "code",
   "execution_count": null,
   "id": "30b6ca75",
   "metadata": {},
   "outputs": [],
   "source": [
    "# Run the Breusch-Pagan test function on the model residuals and x-variables.\n",
    "test = sms.het_breuschpagan(test.resid, test.model.exog)"
   ]
  },
  {
   "cell_type": "code",
   "execution_count": null,
   "id": "c3982ac8",
   "metadata": {},
   "outputs": [],
   "source": [
    "# Print the results of the Breusch-Pagan test.\n",
    "terms = ['LM stat', 'LM Test p-value', 'F-stat', 'F-test p-value']\n",
    "print(dict(zip(terms, test)))\n",
    "\n",
    "# The p-value of the Lagrange multiplier (LM) test is 0.2882, which is bigger/greater than 0.05, \n",
    "# the assigned significance level. Therefore, we fail to reject the H0 \n",
    "# confirm that heteroscedasticity is not present in the model. "
   ]
  },
  {
   "cell_type": "markdown",
   "id": "f08376e3",
   "metadata": {},
   "source": [
    "If, however, the LM p-value is smaller/less than 0.05, then we have a problem. If we find evidence of heteroscedasticity, we have three options: \n",
    "\n",
    "- Assign a weight, using weighted least squares regression, to each data point based on the variance of its fitted value, giving small weights to data points with higher variances, which then shrinks their squared residuals.\n",
    "- Transform the dependent variable by taking its log, square root, or reciprocal. This effectively re-scales the data and pulls in extreme observations.\n",
    "- Redefine the dependent variable by using a rate instead of a raw value, as this reduces the variability that normally occurs among larger populations.\n",
    "\n",
    "The assumptions of homoscedasticity, linearity, and normality (i.e. normal distribution) are a little more complicated than the first three assumptions we listed (i.e. of exogeneity, autocorrelation, and assumptions around significant outliers or missing values), but they can be checked with Excel or Python. If one or more of these assumptions are violated, we may get misleading or unreliable results from our linear regression, so it is worthwhile checking for these before running a regression"
   ]
  },
  {
   "cell_type": "markdown",
   "id": "855716f2",
   "metadata": {},
   "source": [
    "## 1.3.1 Capital Asset Pricing Model: Linear regression at work"
   ]
  },
  {
   "cell_type": "markdown",
   "id": "4f55dc45",
   "metadata": {},
   "source": [
    "CAPM, as the name suggests, is a pricing model used to calculate relationship between risk and returns on investment. In finance, pricing models are used to find the price of financial assets by estimating an expected return over a period of time.\n",
    "\n",
    "The equation is applied to whatever stock return or scenario investors want to investigate, and the outputs of various returns are compared to see which stock has reasonable, or reachable, returns.\n",
    "\n",
    "CAPM describes the relationship between systematic risk and expected returns for assets, primarily stocks (i.e. a unit of ownership of a company, a share/fraction of a business). CAPM tells us the expected return of an investment, given that investment’s characteristics"
   ]
  },
  {
   "cell_type": "markdown",
   "id": "d9f2cc4c",
   "metadata": {},
   "source": [
    "### Types of risk\n",
    "\n",
    "#### Systematic risk \n",
    "\n",
    "Sometimes called market risk, volatility, or undiversifiable risk is the risk inherent to a market segment or even an entire market. Systematic risk is generally influenced by larger, sometimes global, factors and is both unpredictable and hard to avoid. For instance, the threat of a stock market crash is a systematic risk.\n",
    "\n",
    "#### Expected returns\n",
    "\n",
    "The profits or losses that investors expect from an investment that has a known historical rate of return (RoR). The RoR is an investment’s net gain or loss over a specific time, usually displayed as a percentage of the initial cost of the investment. Significantly, expected returns are a form of predictive analytics as they use historical data to make predictions about future returns through a calculation that multiplies potential outcomes by the chances of them occurring. \n",
    "\n",
    "If we consider the CAPM equation as a single factor linear regression equation, Rf is the intercept and beta is the slope. "
   ]
  },
  {
   "cell_type": "markdown",
   "id": "a971a741",
   "metadata": {},
   "source": [
    "## 1.3.3 Finding the return for S&P 500 Stocks"
   ]
  },
  {
   "cell_type": "markdown",
   "id": "46aba80a",
   "metadata": {},
   "source": [
    "#### Prepare your workstation"
   ]
  },
  {
   "cell_type": "code",
   "execution_count": 2,
   "id": "e9e7e00a",
   "metadata": {
    "scrolled": true
   },
   "outputs": [
    {
     "name": "stdout",
     "output_type": "stream",
     "text": [
      "Requirement already satisfied: pandas_datareader in c:\\users\\saura\\anaconda3\\lib\\site-packages (0.10.0)\n",
      "Requirement already satisfied: pandas>=0.23 in c:\\users\\saura\\anaconda3\\lib\\site-packages (from pandas_datareader) (1.4.2)\n",
      "Requirement already satisfied: lxml in c:\\users\\saura\\anaconda3\\lib\\site-packages (from pandas_datareader) (4.8.0)\n",
      "Requirement already satisfied: requests>=2.19.0 in c:\\users\\saura\\anaconda3\\lib\\site-packages (from pandas_datareader) (2.27.1)\n",
      "Requirement already satisfied: numpy>=1.18.5 in c:\\users\\saura\\anaconda3\\lib\\site-packages (from pandas>=0.23->pandas_datareader) (1.21.5)\n",
      "Requirement already satisfied: pytz>=2020.1 in c:\\users\\saura\\anaconda3\\lib\\site-packages (from pandas>=0.23->pandas_datareader) (2021.3)\n",
      "Requirement already satisfied: python-dateutil>=2.8.1 in c:\\users\\saura\\anaconda3\\lib\\site-packages (from pandas>=0.23->pandas_datareader) (2.8.2)\n",
      "Requirement already satisfied: six>=1.5 in c:\\users\\saura\\anaconda3\\lib\\site-packages (from python-dateutil>=2.8.1->pandas>=0.23->pandas_datareader) (1.16.0)\n",
      "Requirement already satisfied: charset-normalizer~=2.0.0 in c:\\users\\saura\\anaconda3\\lib\\site-packages (from requests>=2.19.0->pandas_datareader) (2.0.4)\n",
      "Requirement already satisfied: idna<4,>=2.5 in c:\\users\\saura\\anaconda3\\lib\\site-packages (from requests>=2.19.0->pandas_datareader) (3.3)\n",
      "Requirement already satisfied: certifi>=2017.4.17 in c:\\users\\saura\\anaconda3\\lib\\site-packages (from requests>=2.19.0->pandas_datareader) (2021.10.8)\n",
      "Requirement already satisfied: urllib3<1.27,>=1.21.1 in c:\\users\\saura\\anaconda3\\lib\\site-packages (from requests>=2.19.0->pandas_datareader) (1.26.9)\n"
     ]
    }
   ],
   "source": [
    "!pip install pandas_datareader"
   ]
  },
  {
   "cell_type": "code",
   "execution_count": 3,
   "id": "44f7da9c",
   "metadata": {},
   "outputs": [],
   "source": [
    "#import all the necessary packages\n",
    "import numpy as np\n",
    "import pandas as pd\n",
    "import statsmodels.api as sm\n",
    "import sklearn\n",
    "import matplotlib.pyplot as plt\n",
    "import datetime\n",
    "import time\n",
    "\n",
    "from sklearn.linear_model import LinearRegression\n",
    "from pandas_datareader import data as web"
   ]
  },
  {
   "cell_type": "markdown",
   "id": "a00c9d2f",
   "metadata": {},
   "source": [
    "#### Set the start and end date"
   ]
  },
  {
   "cell_type": "code",
   "execution_count": 4,
   "id": "ef2f3dd3",
   "metadata": {},
   "outputs": [],
   "source": [
    "start = datetime.datetime(2020,3,1)\n",
    "end = datetime.datetime(2022,7,1)"
   ]
  },
  {
   "cell_type": "markdown",
   "id": "443266f6",
   "metadata": {},
   "source": [
    "#### Pull data for Tesla from Yahoo Finance & Save as DataFrame"
   ]
  },
  {
   "cell_type": "code",
   "execution_count": 6,
   "id": "1ce18c9c",
   "metadata": {},
   "outputs": [
    {
     "data": {
      "text/html": [
       "<div>\n",
       "<style scoped>\n",
       "    .dataframe tbody tr th:only-of-type {\n",
       "        vertical-align: middle;\n",
       "    }\n",
       "\n",
       "    .dataframe tbody tr th {\n",
       "        vertical-align: top;\n",
       "    }\n",
       "\n",
       "    .dataframe thead th {\n",
       "        text-align: right;\n",
       "    }\n",
       "</style>\n",
       "<table border=\"1\" class=\"dataframe\">\n",
       "  <thead>\n",
       "    <tr style=\"text-align: right;\">\n",
       "      <th></th>\n",
       "      <th>High</th>\n",
       "      <th>Low</th>\n",
       "      <th>Open</th>\n",
       "      <th>Close</th>\n",
       "      <th>Volume</th>\n",
       "      <th>Adj Close</th>\n",
       "    </tr>\n",
       "    <tr>\n",
       "      <th>Date</th>\n",
       "      <th></th>\n",
       "      <th></th>\n",
       "      <th></th>\n",
       "      <th></th>\n",
       "      <th></th>\n",
       "      <th></th>\n",
       "    </tr>\n",
       "  </thead>\n",
       "  <tbody>\n",
       "    <tr>\n",
       "      <th>2020-03-02</th>\n",
       "      <td>309.160004</td>\n",
       "      <td>294.459991</td>\n",
       "      <td>298.209991</td>\n",
       "      <td>309.089996</td>\n",
       "      <td>238703600.0</td>\n",
       "      <td>297.220978</td>\n",
       "    </tr>\n",
       "    <tr>\n",
       "      <th>2020-03-03</th>\n",
       "      <td>313.839996</td>\n",
       "      <td>297.570007</td>\n",
       "      <td>309.500000</td>\n",
       "      <td>300.239990</td>\n",
       "      <td>300139100.0</td>\n",
       "      <td>288.710846</td>\n",
       "    </tr>\n",
       "    <tr>\n",
       "      <th>2020-03-04</th>\n",
       "      <td>313.100006</td>\n",
       "      <td>303.329987</td>\n",
       "      <td>306.119995</td>\n",
       "      <td>312.859985</td>\n",
       "      <td>176613400.0</td>\n",
       "      <td>300.846222</td>\n",
       "    </tr>\n",
       "    <tr>\n",
       "      <th>2020-03-05</th>\n",
       "      <td>308.470001</td>\n",
       "      <td>300.010010</td>\n",
       "      <td>304.980011</td>\n",
       "      <td>302.459991</td>\n",
       "      <td>186366800.0</td>\n",
       "      <td>290.845612</td>\n",
       "    </tr>\n",
       "    <tr>\n",
       "      <th>2020-03-06</th>\n",
       "      <td>298.779999</td>\n",
       "      <td>290.230011</td>\n",
       "      <td>293.149994</td>\n",
       "      <td>297.459991</td>\n",
       "      <td>228667200.0</td>\n",
       "      <td>286.037598</td>\n",
       "    </tr>\n",
       "  </tbody>\n",
       "</table>\n",
       "</div>"
      ],
      "text/plain": [
       "                  High         Low        Open       Close       Volume  \\\n",
       "Date                                                                      \n",
       "2020-03-02  309.160004  294.459991  298.209991  309.089996  238703600.0   \n",
       "2020-03-03  313.839996  297.570007  309.500000  300.239990  300139100.0   \n",
       "2020-03-04  313.100006  303.329987  306.119995  312.859985  176613400.0   \n",
       "2020-03-05  308.470001  300.010010  304.980011  302.459991  186366800.0   \n",
       "2020-03-06  298.779999  290.230011  293.149994  297.459991  228667200.0   \n",
       "\n",
       "             Adj Close  \n",
       "Date                    \n",
       "2020-03-02  297.220978  \n",
       "2020-03-03  288.710846  \n",
       "2020-03-04  300.846222  \n",
       "2020-03-05  290.845612  \n",
       "2020-03-06  286.037598  "
      ]
     },
     "execution_count": 6,
     "metadata": {},
     "output_type": "execute_result"
    }
   ],
   "source": [
    "df_spy = web.DataReader('SPY','yahoo',start,end)\n",
    "\n",
    "df_spy.head()"
   ]
  },
  {
   "cell_type": "code",
   "execution_count": 7,
   "id": "60fa28bc",
   "metadata": {},
   "outputs": [
    {
     "data": {
      "text/html": [
       "<div>\n",
       "<style scoped>\n",
       "    .dataframe tbody tr th:only-of-type {\n",
       "        vertical-align: middle;\n",
       "    }\n",
       "\n",
       "    .dataframe tbody tr th {\n",
       "        vertical-align: top;\n",
       "    }\n",
       "\n",
       "    .dataframe thead th {\n",
       "        text-align: right;\n",
       "    }\n",
       "</style>\n",
       "<table border=\"1\" class=\"dataframe\">\n",
       "  <thead>\n",
       "    <tr style=\"text-align: right;\">\n",
       "      <th></th>\n",
       "      <th>High</th>\n",
       "      <th>Low</th>\n",
       "      <th>Open</th>\n",
       "      <th>Close</th>\n",
       "      <th>Volume</th>\n",
       "      <th>Adj Close</th>\n",
       "    </tr>\n",
       "    <tr>\n",
       "      <th>Date</th>\n",
       "      <th></th>\n",
       "      <th></th>\n",
       "      <th></th>\n",
       "      <th></th>\n",
       "      <th></th>\n",
       "      <th></th>\n",
       "    </tr>\n",
       "  </thead>\n",
       "  <tbody>\n",
       "    <tr>\n",
       "      <th>2020-03-02</th>\n",
       "      <td>148.738007</td>\n",
       "      <td>137.334000</td>\n",
       "      <td>142.251999</td>\n",
       "      <td>148.723999</td>\n",
       "      <td>100975000.0</td>\n",
       "      <td>148.723999</td>\n",
       "    </tr>\n",
       "    <tr>\n",
       "      <th>2020-03-03</th>\n",
       "      <td>161.395996</td>\n",
       "      <td>143.222000</td>\n",
       "      <td>161.000000</td>\n",
       "      <td>149.102005</td>\n",
       "      <td>128920000.0</td>\n",
       "      <td>149.102005</td>\n",
       "    </tr>\n",
       "    <tr>\n",
       "      <th>2020-03-04</th>\n",
       "      <td>153.304001</td>\n",
       "      <td>144.945999</td>\n",
       "      <td>152.792007</td>\n",
       "      <td>149.899994</td>\n",
       "      <td>75245000.0</td>\n",
       "      <td>149.899994</td>\n",
       "    </tr>\n",
       "    <tr>\n",
       "      <th>2020-03-05</th>\n",
       "      <td>149.149994</td>\n",
       "      <td>143.613998</td>\n",
       "      <td>144.753998</td>\n",
       "      <td>144.908005</td>\n",
       "      <td>54263500.0</td>\n",
       "      <td>144.908005</td>\n",
       "    </tr>\n",
       "    <tr>\n",
       "      <th>2020-03-06</th>\n",
       "      <td>141.399994</td>\n",
       "      <td>136.854004</td>\n",
       "      <td>138.000000</td>\n",
       "      <td>140.695999</td>\n",
       "      <td>63314500.0</td>\n",
       "      <td>140.695999</td>\n",
       "    </tr>\n",
       "  </tbody>\n",
       "</table>\n",
       "</div>"
      ],
      "text/plain": [
       "                  High         Low        Open       Close       Volume  \\\n",
       "Date                                                                      \n",
       "2020-03-02  148.738007  137.334000  142.251999  148.723999  100975000.0   \n",
       "2020-03-03  161.395996  143.222000  161.000000  149.102005  128920000.0   \n",
       "2020-03-04  153.304001  144.945999  152.792007  149.899994   75245000.0   \n",
       "2020-03-05  149.149994  143.613998  144.753998  144.908005   54263500.0   \n",
       "2020-03-06  141.399994  136.854004  138.000000  140.695999   63314500.0   \n",
       "\n",
       "             Adj Close  \n",
       "Date                    \n",
       "2020-03-02  148.723999  \n",
       "2020-03-03  149.102005  \n",
       "2020-03-04  149.899994  \n",
       "2020-03-05  144.908005  \n",
       "2020-03-06  140.695999  "
      ]
     },
     "execution_count": 7,
     "metadata": {},
     "output_type": "execute_result"
    }
   ],
   "source": [
    "df_tesla = web.DataReader('TSLA','yahoo',start,end)\n",
    "\n",
    "df_tesla.head()"
   ]
  },
  {
   "cell_type": "markdown",
   "id": "d85511df",
   "metadata": {},
   "source": [
    "#### Check relationships and cumulative returns"
   ]
  },
  {
   "cell_type": "code",
   "execution_count": 8,
   "id": "23aec719",
   "metadata": {},
   "outputs": [
    {
     "data": {
      "text/plain": [
       "<matplotlib.legend.Legend at 0x1dbd0faf820>"
      ]
     },
     "execution_count": 8,
     "metadata": {},
     "output_type": "execute_result"
    },
    {
     "data": {
      "image/png": "[encoded data removed]",
      "text/plain": [
       "<Figure size 720x576 with 1 Axes>"
      ]
     },
     "metadata": {
      "needs_background": "light"
     },
     "output_type": "display_data"
    }
   ],
   "source": [
    "# Plot the data (Close) for both stocks.\n",
    "df_tesla['Close'].plot(label = 'Tesla', figsize=(10, 8))\n",
    "df_spy['Close'].plot(label = 'SPY')\n",
    "plt.legend()"
   ]
  },
  {
   "cell_type": "code",
   "execution_count": 9,
   "id": "7128d177",
   "metadata": {},
   "outputs": [
    {
     "data": {
      "text/plain": [
       "<matplotlib.legend.Legend at 0x1dbd25a8730>"
      ]
     },
     "execution_count": 9,
     "metadata": {},
     "output_type": "execute_result"
    },
    {
     "data": {
      "image/png": "[encoded data removed]",
      "text/plain": [
       "<Figure size 720x576 with 1 Axes>"
      ]
     },
     "metadata": {
      "needs_background": "light"
     },
     "output_type": "display_data"
    }
   ],
   "source": [
    "df_tesla['Cumu'] = df_tesla['Close']/df_tesla['Close'].iloc[0] \n",
    "df_spy['Cumu'] = df_spy['Close']/df_spy['Close'].iloc[0]\n",
    "\n",
    "df_tesla['Cumu'].plot(label = 'Tesla', figsize=(10, 8))\n",
    "df_spy['Cumu'].plot(label = 'SPY')\n",
    "plt.legend()"
   ]
  },
  {
   "cell_type": "code",
   "execution_count": 10,
   "id": "689599e7",
   "metadata": {},
   "outputs": [
    {
     "data": {
      "text/plain": [
       "<matplotlib.collections.PathCollection at 0x1dbd2647400>"
      ]
     },
     "execution_count": 10,
     "metadata": {},
     "output_type": "execute_result"
    },
    {
     "data": {
      "image/png": "[encoded data removed]",
      "text/plain": [
       "<Figure size 432x288 with 1 Axes>"
      ]
     },
     "metadata": {
      "needs_background": "light"
     },
     "output_type": "display_data"
    }
   ],
   "source": [
    "df_tesla['daily_ret'] = df_tesla['Close'].pct_change(1)\n",
    "df_spy['daily_ret'] = df_spy['Close'].pct_change(1)\n",
    "plt.scatter(df_tesla['daily_ret'],df_spy['daily_ret'])"
   ]
  },
  {
   "cell_type": "markdown",
   "id": "e4fea893",
   "metadata": {},
   "source": [
    "#### Draw Trendline"
   ]
  },
  {
   "cell_type": "code",
   "execution_count": 11,
   "id": "7174675f",
   "metadata": {},
   "outputs": [
    {
     "name": "stdout",
     "output_type": "stream",
     "text": [
      "                 Tesla         SPY\n",
      "Date                              \n",
      "2020-03-02  148.723999  309.089996\n",
      "2020-03-03  149.102005  300.239990\n",
      "2020-03-04  149.899994  312.859985\n",
      "2020-03-05  144.908005  302.459991\n",
      "2020-03-06  140.695999  297.459991\n"
     ]
    }
   ],
   "source": [
    "daily_prices = pd.concat([df_tesla['Close'], df_spy['Close']], axis=1)\n",
    "daily_prices.columns = ['Tesla', 'SPY']\n",
    "\n",
    "print(daily_prices.head())"
   ]
  },
  {
   "cell_type": "code",
   "execution_count": 12,
   "id": "89a94814",
   "metadata": {},
   "outputs": [
    {
     "name": "stdout",
     "output_type": "stream",
     "text": [
      "               Tesla       SPY\n",
      "Date                          \n",
      "2020-03-03  0.002542 -0.028632\n",
      "2020-03-04  0.005352  0.042033\n",
      "2020-03-05 -0.033302 -0.033242\n",
      "2020-03-06 -0.029067 -0.016531\n",
      "2020-03-09 -0.135725 -0.078094\n"
     ]
    }
   ],
   "source": [
    "daily_returns = daily_prices.pct_change(1)\n",
    "clean_daily_returns = daily_returns.dropna(axis=0) \n",
    "print(clean_daily_returns.head())"
   ]
  },
  {
   "cell_type": "markdown",
   "id": "6d33a869",
   "metadata": {},
   "source": [
    "#### Linear Regression Analysis"
   ]
  },
  {
   "cell_type": "code",
   "execution_count": 13,
   "id": "46e86c24",
   "metadata": {},
   "outputs": [],
   "source": [
    "X = clean_daily_returns['SPY'].values.reshape(-1, 1)\n",
    "y = clean_daily_returns['Tesla'].values.reshape(-1, 1)"
   ]
  },
  {
   "cell_type": "code",
   "execution_count": 14,
   "id": "a9d147b3",
   "metadata": {},
   "outputs": [
    {
     "data": {
      "text/plain": [
       "LinearRegression()"
      ]
     },
     "execution_count": 14,
     "metadata": {},
     "output_type": "execute_result"
    }
   ],
   "source": [
    "lr = LinearRegression()\n",
    "lr.fit(X, y)"
   ]
  },
  {
   "cell_type": "code",
   "execution_count": 15,
   "id": "697eb8c8",
   "metadata": {},
   "outputs": [
    {
     "data": {
      "text/plain": [
       "array([[1.45021103]])"
      ]
     },
     "execution_count": 15,
     "metadata": {},
     "output_type": "execute_result"
    }
   ],
   "source": [
    "lr.coef_"
   ]
  },
  {
   "cell_type": "code",
   "execution_count": 16,
   "id": "03b39204",
   "metadata": {},
   "outputs": [
    {
     "data": {
      "text/plain": [
       "array([0.00289946])"
      ]
     },
     "execution_count": 16,
     "metadata": {},
     "output_type": "execute_result"
    }
   ],
   "source": [
    "lr.intercept_"
   ]
  },
  {
   "cell_type": "markdown",
   "id": "f55b7b6c",
   "metadata": {},
   "source": [
    "#### Draw Line of Best Fit"
   ]
  },
  {
   "cell_type": "code",
   "execution_count": 17,
   "id": "4cdee418",
   "metadata": {},
   "outputs": [
    {
     "data": {
      "text/plain": [
       "array([[-3.86236459e-02],\n",
       "       [ 6.38562164e-02],\n",
       "       [-4.53080026e-02],\n",
       "       [-2.10741416e-02],\n",
       "       [-1.10354003e-01],\n",
       "       [ 7.79404732e-02],\n",
       "       [-6.77960778e-02],\n",
       "       [-1.35852616e-01],\n",
       "       [ 1.26872639e-01],\n",
       "       [-1.55788049e-01],\n",
       "       [ 8.11993465e-02],\n",
       "       [-7.05289638e-02],\n",
       "       [ 5.98112465e-03],\n",
       "       [-6.77086615e-02],\n",
       "       [-3.41798381e-02],\n",
       "       [ 1.34293309e-01],\n",
       "       [ 2.46093808e-02],\n",
       "       [ 8.75769947e-02],\n",
       "       [-4.02960293e-02],\n",
       "       [ 4.99961000e-02],\n",
       "       [-1.87164943e-02],\n",
       "       [-6.23671043e-02],\n",
       "       [ 3.63636494e-02],\n",
       "       [-1.80621704e-02],\n",
       "       [ 1.00304644e-01],\n",
       "       [ 4.37792095e-03],\n",
       "       [ 5.15807443e-02],\n",
       "       [ 2.49678442e-02],\n",
       "       [-1.03411885e-02],\n",
       "       [ 4.56703460e-02],\n",
       "       [-2.79147711e-02],\n",
       "       [ 9.89570581e-03],\n",
       "       [ 4.20775437e-02],\n",
       "       [-2.26503309e-02],\n",
       "       [-4.11336624e-02],\n",
       "       [ 3.50862270e-02],\n",
       "       [ 2.79543739e-03],\n",
       "       [ 2.31135286e-02],\n",
       "       [ 2.38092431e-02],\n",
       "       [-3.76922203e-03],\n",
       "       [ 4.08637955e-02],\n",
       "       [-1.06029720e-02],\n",
       "       [-3.54926018e-02],\n",
       "       [ 6.89946930e-03],\n",
       "       [ 1.62984287e-02],\n",
       "       [-6.93111788e-03],\n",
       "       [ 2.03988902e-02],\n",
       "       [ 2.68949365e-02],\n",
       "       [ 3.19698751e-03],\n",
       "       [-2.60055349e-02],\n",
       "       [-2.27487779e-02],\n",
       "       [ 2.02545872e-02],\n",
       "       [ 9.56603097e-03],\n",
       "       [ 4.70724439e-02],\n",
       "       [-1.19959225e-02],\n",
       "       [ 2.75356696e-02],\n",
       "       [-7.11271512e-03],\n",
       "       [ 5.65351062e-03],\n",
       "       [ 2.07668609e-02],\n",
       "       [ 2.44771546e-02],\n",
       "       [ 2.23893104e-04],\n",
       "       [ 9.36146466e-03],\n",
       "       [ 8.76082638e-03],\n",
       "       [ 1.49074197e-02],\n",
       "       [ 2.21992333e-02],\n",
       "       [-9.09829127e-04],\n",
       "       [ 4.00676907e-02],\n",
       "       [ 2.04288564e-02],\n",
       "       [-7.91432079e-03],\n",
       "       [-5.19271948e-03],\n",
       "       [-8.07036819e-02],\n",
       "       [ 2.02667087e-02],\n",
       "       [ 1.64381140e-02],\n",
       "       [ 3.08126750e-02],\n",
       "       [-3.12449473e-03],\n",
       "       [ 3.45781864e-03],\n",
       "       [-1.17058380e-02],\n",
       "       [ 1.22028205e-02],\n",
       "       [ 9.57575579e-03],\n",
       "       [-3.40935477e-02],\n",
       "       [ 1.84465086e-02],\n",
       "       [-3.15452026e-02],\n",
       "       [ 2.42140277e-02],\n",
       "       [ 2.14760025e-02],\n",
       "       [ 1.30579147e-02],\n",
       "       [ 1.08857173e-02],\n",
       "       [ 2.52867485e-02],\n",
       "       [-1.20577218e-02],\n",
       "       [ 1.39916183e-02],\n",
       "       [-5.35647775e-03],\n",
       "       [ 1.77069056e-02],\n",
       "       [-9.65786412e-03],\n",
       "       [ 2.16927698e-02],\n",
       "       [ 1.62228870e-02],\n",
       "       [-1.87674107e-03],\n",
       "       [ 7.10372263e-03],\n",
       "       [ 1.46194566e-02],\n",
       "       [ 5.98483536e-03],\n",
       "       [ 1.11541436e-02],\n",
       "       [-1.44040174e-02],\n",
       "       [-6.44045745e-03],\n",
       "       [ 1.34750280e-02],\n",
       "       [-6.29834672e-03],\n",
       "       [ 2.07352061e-02],\n",
       "       [-2.27478435e-03],\n",
       "       [ 1.43593211e-02],\n",
       "       [ 1.29815600e-02],\n",
       "       [ 8.50106538e-03],\n",
       "       [ 1.19066549e-02],\n",
       "       [ 1.25934475e-02],\n",
       "       [ 3.94058870e-03],\n",
       "       [ 7.23401121e-03],\n",
       "       [-9.07155346e-03],\n",
       "       [ 2.31188124e-02],\n",
       "       [ 2.77803006e-04],\n",
       "       [ 2.94255614e-03],\n",
       "       [ 7.50620575e-03],\n",
       "       [ 6.03245332e-03],\n",
       "       [-3.13881952e-03],\n",
       "       [ 7.41478671e-03],\n",
       "       [ 8.04392832e-03],\n",
       "       [ 1.75946677e-02],\n",
       "       [ 7.97418999e-03],\n",
       "       [ 1.74387068e-02],\n",
       "       [ 6.07041853e-03],\n",
       "       [ 1.22669412e-02],\n",
       "       [-2.35398388e-03],\n",
       "       [ 1.65584062e-02],\n",
       "       [ 2.38753102e-02],\n",
       "       [-4.70085463e-02],\n",
       "       [-8.94108477e-03],\n",
       "       [-3.67245531e-02],\n",
       "       [ 3.15372962e-02],\n",
       "       [-2.22814936e-02],\n",
       "       [ 3.63775968e-03],\n",
       "       [ 2.20005781e-02],\n",
       "       [ 1.02264487e-02],\n",
       "       [-2.85587958e-03],\n",
       "       [-9.85552763e-03],\n",
       "       [-1.95118045e-02],\n",
       "       [-1.32407676e-02],\n",
       "       [ 1.76689589e-02],\n",
       "       [-3.07323237e-02],\n",
       "       [ 6.76494473e-03],\n",
       "       [ 2.63449605e-02],\n",
       "       [ 2.69865204e-02],\n",
       "       [-4.99842706e-03],\n",
       "       [ 1.38949168e-02],\n",
       "       [ 1.22098142e-02],\n",
       "       [-1.08695083e-02],\n",
       "       [ 2.86161766e-02],\n",
       "       [-1.77166927e-02],\n",
       "       [ 2.81428096e-02],\n",
       "       [ 1.57519692e-02],\n",
       "       [ 1.58500630e-02],\n",
       "       [ 2.62298845e-02],\n",
       "       [-6.56473982e-03],\n",
       "       [-6.21281867e-03],\n",
       "       [ 1.10720196e-03],\n",
       "       [ 2.02310854e-03],\n",
       "       [-1.91487201e-02],\n",
       "       [ 8.70859356e-03],\n",
       "       [ 1.54313198e-04],\n",
       "       [ 1.08542911e-02],\n",
       "       [ 7.82318898e-03],\n",
       "       [-2.39003136e-02],\n",
       "       [-2.09999934e-03],\n",
       "       [-4.66672011e-02],\n",
       "       [ 1.76386720e-02],\n",
       "       [-1.22188184e-02],\n",
       "       [ 1.91540608e-02],\n",
       "       [ 2.85042762e-02],\n",
       "       [ 3.53105508e-02],\n",
       "       [ 3.11825912e-02],\n",
       "       [ 2.56826533e-03],\n",
       "       [ 2.11223278e-02],\n",
       "       [ 7.72615407e-04],\n",
       "       [ 1.36724286e-02],\n",
       "       [-1.11689002e-02],\n",
       "       [ 2.29769016e-02],\n",
       "       [ 2.10017910e-02],\n",
       "       [-4.90021832e-03],\n",
       "       [-1.45535677e-02],\n",
       "       [ 9.00509697e-03],\n",
       "       [-7.03132135e-03],\n",
       "       [ 1.15926648e-02],\n",
       "       [ 2.62677521e-02],\n",
       "       [ 6.63584086e-04],\n",
       "       [ 6.93830374e-03],\n",
       "       [-3.52081910e-03],\n",
       "       [ 1.87609833e-02],\n",
       "       [ 5.95036059e-03],\n",
       "       [ 2.50405617e-03],\n",
       "       [ 1.53968608e-02],\n",
       "       [-8.05987983e-05],\n",
       "       [ 7.14301169e-03],\n",
       "       [-1.01072971e-02],\n",
       "       [ 2.42510139e-03],\n",
       "       [ 1.19895942e-03],\n",
       "       [-3.59336930e-03],\n",
       "       [ 2.25054751e-02],\n",
       "       [ 5.17535212e-03],\n",
       "       [ 1.10089850e-02],\n",
       "       [-9.02199537e-03],\n",
       "       [-2.28578687e-03],\n",
       "       [ 4.55258369e-04],\n",
       "       [ 4.20267920e-03],\n",
       "       [ 8.54135376e-03],\n",
       "       [ 1.53579647e-02],\n",
       "       [ 1.32762307e-04],\n",
       "       [ 4.96861919e-03],\n",
       "       [ 1.02677224e-02],\n",
       "       [-1.68436901e-02],\n",
       "       [ 1.28875395e-02],\n",
       "       [ 1.15695652e-02],\n",
       "       [ 2.44459673e-02],\n",
       "       [ 1.11623480e-02],\n",
       "       [-6.87616057e-03],\n",
       "       [ 3.20577171e-03],\n",
       "       [ 6.80484689e-03],\n",
       "       [-2.17915091e-03],\n",
       "       [-7.67643352e-03],\n",
       "       [ 1.42864593e-02],\n",
       "       [ 2.29684836e-02],\n",
       "       [ 4.22155280e-03],\n",
       "       [-2.23344140e-03],\n",
       "       [ 8.61883046e-03],\n",
       "       [ 6.35780756e-04],\n",
       "       [-3.25443673e-02],\n",
       "       [ 1.53715655e-02],\n",
       "       [-2.61331696e-02],\n",
       "       [ 2.70389602e-02],\n",
       "       [ 2.34057689e-02],\n",
       "       [ 4.03978145e-03],\n",
       "       [ 1.93821370e-02],\n",
       "       [ 8.60728410e-03],\n",
       "       [ 1.33727965e-02],\n",
       "       [ 1.93387845e-03],\n",
       "       [ 2.26767120e-03],\n",
       "       [ 5.24164578e-03],\n",
       "       [ 1.00631895e-02],\n",
       "       [ 1.64357443e-03],\n",
       "       [ 3.23226069e-03],\n",
       "       [-3.27264437e-03],\n",
       "       [ 3.38420431e-04],\n",
       "       [-8.25515204e-03],\n",
       "       [ 4.66056567e-03],\n",
       "       [ 1.88798082e-02],\n",
       "       [-3.20445027e-02],\n",
       "       [-4.57292727e-03],\n",
       "       [ 3.80528614e-02],\n",
       "       [-8.41685513e-03],\n",
       "       [-1.63096088e-02],\n",
       "       [-1.50466304e-02],\n",
       "       [ 2.95783856e-02],\n",
       "       [-4.32080059e-03],\n",
       "       [ 2.36048660e-02],\n",
       "       [ 1.19264230e-02],\n",
       "       [ 1.76033751e-02],\n",
       "       [ 4.85257626e-03],\n",
       "       [ 1.15479007e-02],\n",
       "       [ 1.07027874e-03],\n",
       "       [ 7.84450682e-03],\n",
       "       [-1.82006206e-02],\n",
       "       [-4.50940434e-03],\n",
       "       [ 1.44793478e-02],\n",
       "       [-8.51485785e-03],\n",
       "       [-4.47264270e-03],\n",
       "       [ 1.10577319e-02],\n",
       "       [ 2.62695472e-02],\n",
       "       [ 2.16694791e-03],\n",
       "       [-9.47889837e-04],\n",
       "       [ 8.77766014e-03],\n",
       "       [ 1.85604027e-02],\n",
       "       [ 2.37145008e-02],\n",
       "       [ 2.04298609e-03],\n",
       "       [ 4.57778345e-03],\n",
       "       [ 9.78329002e-03],\n",
       "       [ 1.34427098e-02],\n",
       "       [ 3.42818930e-03],\n",
       "       [ 7.19742585e-03],\n",
       "       [-2.05320900e-03],\n",
       "       [ 1.84782850e-02],\n",
       "       [ 7.74668233e-03],\n",
       "       [-4.22549649e-03],\n",
       "       [-7.71832378e-03],\n",
       "       [ 1.66215012e-02],\n",
       "       [-1.03454955e-02],\n",
       "       [ 1.86232454e-02],\n",
       "       [ 5.92695027e-03],\n",
       "       [ 2.58693411e-03],\n",
       "       [ 2.48266920e-03],\n",
       "       [ 1.21413538e-02],\n",
       "       [-6.62917133e-03],\n",
       "       [ 6.02724606e-03],\n",
       "       [-6.04738213e-03],\n",
       "       [ 3.35308175e-03],\n",
       "       [ 1.44802441e-02],\n",
       "       [ 1.34540824e-02],\n",
       "       [-1.14610816e-02],\n",
       "       [-1.00433148e-02],\n",
       "       [-2.79106119e-02],\n",
       "       [ 2.03201460e-02],\n",
       "       [ 2.51679390e-02],\n",
       "       [-7.90636616e-04],\n",
       "       [-9.59509236e-03],\n",
       "       [-9.02678495e-04],\n",
       "       [ 1.85007651e-02],\n",
       "       [ 1.71214858e-03],\n",
       "       [ 1.76833042e-02],\n",
       "       [-3.18160772e-04],\n",
       "       [ 5.77747195e-03],\n",
       "       [ 3.66078374e-03],\n",
       "       [ 5.49350708e-03],\n",
       "       [ 1.62203109e-03],\n",
       "       [ 5.18006155e-03],\n",
       "       [-2.48280153e-03],\n",
       "       [ 1.61629051e-02],\n",
       "       [ 1.49247449e-03],\n",
       "       [ 3.20859435e-03],\n",
       "       [ 7.35871188e-04],\n",
       "       [ 9.64059842e-03],\n",
       "       [ 5.29592185e-03],\n",
       "       [ 6.14642080e-03],\n",
       "       [ 2.39527112e-04],\n",
       "       [-5.19759399e-03],\n",
       "       [ 2.41852662e-03],\n",
       "       [-2.13296802e-02],\n",
       "       [ 2.36606002e-02],\n",
       "       [ 1.06525719e-02],\n",
       "       [ 1.15150366e-03],\n",
       "       [ 1.14785591e-02],\n",
       "       [ 8.05069095e-03],\n",
       "       [ 5.82298333e-03],\n",
       "       [ 3.67978193e-03],\n",
       "       [ 4.12006897e-03],\n",
       "       [ 1.09286915e-02],\n",
       "       [ 1.39842043e-02],\n",
       "       [ 2.57941601e-04],\n",
       "       [ 8.02458620e-03],\n",
       "       [-8.91685344e-03],\n",
       "       [ 1.83801406e-02],\n",
       "       [ 8.09399863e-03],\n",
       "       [-2.04425877e-03],\n",
       "       [ 5.06348596e-03],\n",
       "       [-2.05377808e-03],\n",
       "       [-8.47541103e-03],\n",
       "       [-1.85171429e-02],\n",
       "       [ 2.36815848e-02],\n",
       "       [ 1.46408002e-02],\n",
       "       [ 5.93638815e-03],\n",
       "       [ 1.78192258e-02],\n",
       "       [ 6.45950948e-03],\n",
       "       [-3.70997814e-03],\n",
       "       [ 2.30477679e-03],\n",
       "       [ 8.91407731e-03],\n",
       "       [-4.14338329e-03],\n",
       "       [-1.43147584e-04],\n",
       "       [ 1.46975987e-02],\n",
       "       [-4.23401718e-03],\n",
       "       [ 1.20834423e-02],\n",
       "       [ 5.29584139e-03],\n",
       "       [ 1.71964802e-03],\n",
       "       [ 4.70344998e-03],\n",
       "       [ 6.50305796e-03],\n",
       "       [ 7.24566969e-03],\n",
       "       [ 5.53860858e-03],\n",
       "       [ 6.31420607e-03],\n",
       "       [-6.60701236e-03],\n",
       "       [-1.29730937e-02],\n",
       "       [ 5.14485513e-03],\n",
       "       [ 1.44389010e-02],\n",
       "       [ 1.56562679e-02],\n",
       "       [ 5.20155979e-03],\n",
       "       [ 5.94252458e-03],\n",
       "       [-5.66138875e-03],\n",
       "       [ 1.58657296e-02],\n",
       "       [ 9.27688033e-03],\n",
       "       [ 7.50860596e-04],\n",
       "       [ 3.67020191e-03],\n",
       "       [ 7.36120050e-03],\n",
       "       [ 2.54740789e-03],\n",
       "       [-2.28579454e-03],\n",
       "       [ 1.13275055e-03],\n",
       "       [-3.30775854e-03],\n",
       "       [-8.53481230e-03],\n",
       "       [ 6.61088530e-03],\n",
       "       [-4.92661821e-03],\n",
       "       [ 1.50125476e-02],\n",
       "       [ 6.00545795e-04],\n",
       "       [-1.58132130e-02],\n",
       "       [-2.12816282e-02],\n",
       "       [ 1.52955843e-03],\n",
       "       [ 1.70459997e-02],\n",
       "       [ 2.05195516e-02],\n",
       "       [ 5.28826305e-03],\n",
       "       [-1.24947182e-03],\n",
       "       [-2.63249700e-02],\n",
       "       [ 5.34036594e-03],\n",
       "       [-1.48255189e-02],\n",
       "       [ 2.01340229e-02],\n",
       "       [-1.58025177e-02],\n",
       "       [ 1.79888784e-02],\n",
       "       [ 8.92661737e-03],\n",
       "       [ 1.54375319e-02],\n",
       "       [ 2.54596942e-04],\n",
       "       [-7.59965980e-03],\n",
       "       [-6.70294706e-04],\n",
       "       [ 8.11675955e-03],\n",
       "       [ 2.72929415e-02],\n",
       "       [ 1.39439884e-02],\n",
       "       [ 7.19283909e-03],\n",
       "       [ 1.40876473e-02],\n",
       "       [ 8.59548618e-03],\n",
       "       [ 6.68195400e-03],\n",
       "       [ 1.39677866e-03],\n",
       "       [ 1.06766536e-02],\n",
       "       [ 4.20467694e-03],\n",
       "       [-3.52524978e-03],\n",
       "       [ 1.68923469e-02],\n",
       "       [ 5.84213180e-03],\n",
       "       [ 5.39413356e-03],\n",
       "       [ 8.76280003e-03],\n",
       "       [ 1.17533364e-02],\n",
       "       [ 9.73360833e-03],\n",
       "       [ 7.93112454e-03],\n",
       "       [ 4.13753501e-03],\n",
       "       [-1.89402668e-03],\n",
       "       [-8.76729479e-03],\n",
       "       [ 3.36864280e-03],\n",
       "       [ 1.38439766e-02],\n",
       "       [ 3.39604399e-03],\n",
       "       [ 8.63914085e-03],\n",
       "       [-6.23421528e-04],\n",
       "       [ 7.82497347e-03],\n",
       "       [ 3.06114450e-04],\n",
       "       [-1.18313805e-03],\n",
       "       [ 4.82243082e-03],\n",
       "       [ 6.77131437e-03],\n",
       "       [-2.94448469e-02],\n",
       "       [ 2.06886290e-02],\n",
       "       [-2.53181900e-02],\n",
       "       [-1.32083295e-02],\n",
       "       [ 2.51113290e-02],\n",
       "       [-9.71928054e-03],\n",
       "       [ 2.00747625e-02],\n",
       "       [ 3.28968182e-02],\n",
       "       [ 6.73957113e-03],\n",
       "       [-6.89169813e-03],\n",
       "       [ 1.65510158e-02],\n",
       "       [-9.94702769e-03],\n",
       "       [-7.07805564e-03],\n",
       "       [ 2.55590724e-02],\n",
       "       [-9.88925042e-03],\n",
       "       [-1.75580668e-02],\n",
       "       [-1.25212225e-02],\n",
       "       [ 2.86537461e-02],\n",
       "       [ 1.73997060e-02],\n",
       "       [ 1.19227855e-02],\n",
       "       [ 2.34230689e-02],\n",
       "       [ 1.71435373e-03],\n",
       "       [ 4.75458082e-03],\n",
       "       [-1.10969100e-03],\n",
       "       [-7.55343445e-04],\n",
       "       [ 1.12961252e-02],\n",
       "       [ 2.41372731e-03],\n",
       "       [-2.49476994e-02],\n",
       "       [ 1.53711177e-03],\n",
       "       [-2.83396634e-03],\n",
       "       [ 1.09486602e-03],\n",
       "       [ 1.61083711e-02],\n",
       "       [ 6.82016632e-03],\n",
       "       [-1.70824005e-02],\n",
       "       [ 3.49262591e-03],\n",
       "       [-2.27832155e-02],\n",
       "       [-1.21588908e-02],\n",
       "       [-1.31515758e-02],\n",
       "       [-2.55691132e-02],\n",
       "       [ 9.05812237e-03],\n",
       "       [-1.48061295e-02],\n",
       "       [-7.38823346e-04],\n",
       "       [-4.26162974e-03],\n",
       "       [ 3.89160449e-02],\n",
       "       [ 2.90193080e-02],\n",
       "       [ 1.26984278e-02],\n",
       "       [ 1.69869293e-02],\n",
       "       [-3.11877131e-02],\n",
       "       [ 9.71865325e-03],\n",
       "       [-1.75466889e-03],\n",
       "       [ 1.48315925e-02],\n",
       "       [ 2.41249031e-02],\n",
       "       [-2.31545167e-02],\n",
       "       [-2.56968473e-02],\n",
       "       [-1.84173722e-03],\n",
       "       [ 2.62868202e-02],\n",
       "       [ 4.52489205e-03],\n",
       "       [-2.80791018e-02],\n",
       "       [-6.49073362e-03],\n",
       "       [-1.26636950e-02],\n",
       "       [-2.28253370e-02],\n",
       "       [ 2.47238565e-02],\n",
       "       [ 3.48969199e-02],\n",
       "       [-8.10944415e-04],\n",
       "       [-1.91876496e-02],\n",
       "       [ 2.95778497e-02],\n",
       "       [-4.32037565e-03],\n",
       "       [-8.88295385e-03],\n",
       "       [-3.98515831e-02],\n",
       "       [-8.09560660e-03],\n",
       "       [ 4.17808057e-02],\n",
       "       [-3.64904587e-03],\n",
       "       [-1.55400601e-02],\n",
       "       [-7.69915131e-03],\n",
       "       [ 3.47902379e-02],\n",
       "       [ 3.50567376e-02],\n",
       "       [ 2.10429512e-02],\n",
       "       [ 1.42427868e-02],\n",
       "       [ 2.47542840e-03],\n",
       "       [ 1.98689469e-02],\n",
       "       [-1.57769665e-02],\n",
       "       [ 2.47604680e-02],\n",
       "       [ 9.98170770e-03],\n",
       "       [ 1.32148657e-02],\n",
       "       [ 2.08397703e-02],\n",
       "       [-6.05529336e-03],\n",
       "       [-1.94211991e-02],\n",
       "       [ 7.00952115e-03],\n",
       "       [ 1.53228045e-02],\n",
       "       [-1.54186271e-02],\n",
       "       [-1.16017177e-02],\n",
       "       [ 1.02070266e-02],\n",
       "       [-9.78310330e-04],\n",
       "       [-2.18879601e-02],\n",
       "       [-2.47390618e-03],\n",
       "       [ 1.95095653e-02],\n",
       "       [-1.51582181e-02],\n",
       "       [ 3.49569815e-03],\n",
       "       [ 2.63097445e-02],\n",
       "       [ 1.82406300e-03],\n",
       "       [-1.87863464e-02],\n",
       "       [-3.68930821e-02],\n",
       "       [ 1.13071745e-02],\n",
       "       [-3.90998493e-02],\n",
       "       [ 6.97713808e-03],\n",
       "       [ 3.95309859e-02],\n",
       "       [-5.06940353e-02],\n",
       "       [ 1.16289237e-02],\n",
       "       [ 9.54728809e-03],\n",
       "       [ 4.70626397e-02],\n",
       "       [-4.86451225e-02],\n",
       "       [-5.75674280e-03],\n",
       "       [-4.35323358e-02],\n",
       "       [ 6.25021240e-03],\n",
       "       [-2.01387844e-02],\n",
       "       [ 1.38554003e-03],\n",
       "       [ 3.75708838e-02],\n",
       "       [-2.98486563e-03],\n",
       "       [ 3.27308794e-02],\n",
       "       [-5.55608290e-02],\n",
       "       [-5.98253352e-03],\n",
       "       [ 3.53252918e-03],\n",
       "       [ 3.00330237e-02],\n",
       "       [-8.17112787e-03],\n",
       "       [ 1.57119346e-02],\n",
       "       [ 3.18766828e-02],\n",
       "       [ 3.85008942e-02],\n",
       "       [-5.23765085e-03],\n",
       "       [-8.83061497e-03],\n",
       "       [ 3.05165220e-02],\n",
       "       [-2.09007132e-02],\n",
       "       [ 7.31501879e-03],\n",
       "       [ 1.68102073e-02],\n",
       "       [-1.28674576e-02],\n",
       "       [-3.15907455e-02],\n",
       "       [-3.91503551e-02],\n",
       "       [-5.21623831e-02],\n",
       "       [-1.47052871e-03],\n",
       "       [ 2.35741583e-02],\n",
       "       [-4.50967811e-02],\n",
       "       [-2.25262058e-04],\n",
       "       [ 3.94065276e-02],\n",
       "       [ 2.70262564e-04],\n",
       "       [ 1.71152491e-02],\n",
       "       [ 4.90072750e-02],\n",
       "       [-2.63991802e-03],\n",
       "       [-2.67324900e-02],\n",
       "       [ 1.71842201e-03],\n",
       "       [-8.88249046e-03],\n",
       "       [ 1.82376379e-02]])"
      ]
     },
     "execution_count": 17,
     "metadata": {},
     "output_type": "execute_result"
    }
   ],
   "source": [
    "# x coef: 1.34497477\n",
    "# Constant coef: 0.00489288.\n",
    "# Linear equation: 𝑦 = 𝑎𝑥 + 𝑏.\n",
    "y_pred =  lr.coef_ * X + lr.intercept_\n",
    "y_pred"
   ]
  },
  {
   "cell_type": "code",
   "execution_count": 18,
   "id": "4d8e0bda",
   "metadata": {},
   "outputs": [
    {
     "data": {
      "text/plain": [
       "[<matplotlib.lines.Line2D at 0x1dbd3010ac0>]"
      ]
     },
     "execution_count": 18,
     "metadata": {},
     "output_type": "execute_result"
    },
    {
     "data": {
      "image/png": "[encoded data removed]",
      "text/plain": [
       "<Figure size 432x288 with 1 Axes>"
      ]
     },
     "metadata": {
      "needs_background": "light"
     },
     "output_type": "display_data"
    }
   ],
   "source": [
    "plt.scatter(X,y)\n",
    "plt.plot(X, y_pred, color='red')"
   ]
  },
  {
   "cell_type": "code",
   "execution_count": 19,
   "id": "600414e9",
   "metadata": {},
   "outputs": [],
   "source": [
    "#### Pull data for Microsoft from Yahoo Finance & Save as DataFrame"
   ]
  },
  {
   "cell_type": "code",
   "execution_count": 20,
   "id": "687cdab0",
   "metadata": {},
   "outputs": [
    {
     "data": {
      "text/html": [
       "<div>\n",
       "<style scoped>\n",
       "    .dataframe tbody tr th:only-of-type {\n",
       "        vertical-align: middle;\n",
       "    }\n",
       "\n",
       "    .dataframe tbody tr th {\n",
       "        vertical-align: top;\n",
       "    }\n",
       "\n",
       "    .dataframe thead th {\n",
       "        text-align: right;\n",
       "    }\n",
       "</style>\n",
       "<table border=\"1\" class=\"dataframe\">\n",
       "  <thead>\n",
       "    <tr style=\"text-align: right;\">\n",
       "      <th></th>\n",
       "      <th>High</th>\n",
       "      <th>Low</th>\n",
       "      <th>Open</th>\n",
       "      <th>Close</th>\n",
       "      <th>Volume</th>\n",
       "      <th>Adj Close</th>\n",
       "    </tr>\n",
       "    <tr>\n",
       "      <th>Date</th>\n",
       "      <th></th>\n",
       "      <th></th>\n",
       "      <th></th>\n",
       "      <th></th>\n",
       "      <th></th>\n",
       "      <th></th>\n",
       "    </tr>\n",
       "  </thead>\n",
       "  <tbody>\n",
       "    <tr>\n",
       "      <th>2020-03-02</th>\n",
       "      <td>172.919998</td>\n",
       "      <td>162.309998</td>\n",
       "      <td>165.309998</td>\n",
       "      <td>172.789993</td>\n",
       "      <td>71030800.0</td>\n",
       "      <td>169.275467</td>\n",
       "    </tr>\n",
       "    <tr>\n",
       "      <th>2020-03-03</th>\n",
       "      <td>175.000000</td>\n",
       "      <td>162.259995</td>\n",
       "      <td>173.800003</td>\n",
       "      <td>164.509995</td>\n",
       "      <td>71677000.0</td>\n",
       "      <td>161.163864</td>\n",
       "    </tr>\n",
       "    <tr>\n",
       "      <th>2020-03-04</th>\n",
       "      <td>170.699997</td>\n",
       "      <td>165.619995</td>\n",
       "      <td>168.490005</td>\n",
       "      <td>170.550003</td>\n",
       "      <td>49814400.0</td>\n",
       "      <td>167.081055</td>\n",
       "    </tr>\n",
       "    <tr>\n",
       "      <th>2020-03-05</th>\n",
       "      <td>170.869995</td>\n",
       "      <td>165.690002</td>\n",
       "      <td>166.050003</td>\n",
       "      <td>166.270004</td>\n",
       "      <td>47817300.0</td>\n",
       "      <td>162.888092</td>\n",
       "    </tr>\n",
       "    <tr>\n",
       "      <th>2020-03-06</th>\n",
       "      <td>163.110001</td>\n",
       "      <td>156.000000</td>\n",
       "      <td>162.610001</td>\n",
       "      <td>161.570007</td>\n",
       "      <td>72821100.0</td>\n",
       "      <td>158.283691</td>\n",
       "    </tr>\n",
       "  </tbody>\n",
       "</table>\n",
       "</div>"
      ],
      "text/plain": [
       "                  High         Low        Open       Close      Volume  \\\n",
       "Date                                                                     \n",
       "2020-03-02  172.919998  162.309998  165.309998  172.789993  71030800.0   \n",
       "2020-03-03  175.000000  162.259995  173.800003  164.509995  71677000.0   \n",
       "2020-03-04  170.699997  165.619995  168.490005  170.550003  49814400.0   \n",
       "2020-03-05  170.869995  165.690002  166.050003  166.270004  47817300.0   \n",
       "2020-03-06  163.110001  156.000000  162.610001  161.570007  72821100.0   \n",
       "\n",
       "             Adj Close  \n",
       "Date                    \n",
       "2020-03-02  169.275467  \n",
       "2020-03-03  161.163864  \n",
       "2020-03-04  167.081055  \n",
       "2020-03-05  162.888092  \n",
       "2020-03-06  158.283691  "
      ]
     },
     "execution_count": 20,
     "metadata": {},
     "output_type": "execute_result"
    }
   ],
   "source": [
    "df_msoft = web.DataReader('MSFT','yahoo',start,end)\n",
    "df_msoft.head()"
   ]
  },
  {
   "cell_type": "code",
   "execution_count": 21,
   "id": "355676f5",
   "metadata": {},
   "outputs": [
    {
     "data": {
      "text/plain": [
       "<matplotlib.legend.Legend at 0x1dbd301e2e0>"
      ]
     },
     "execution_count": 21,
     "metadata": {},
     "output_type": "execute_result"
    },
    {
     "data": {
      "image/png": "[encoded data removed]",
      "text/plain": [
       "<Figure size 720x576 with 1 Axes>"
      ]
     },
     "metadata": {
      "needs_background": "light"
     },
     "output_type": "display_data"
    }
   ],
   "source": [
    "df_msoft['Close'].plot(label = 'Microsoft', figsize=(10, 8))\n",
    "df_spy['Close'].plot(label = 'SPY')\n",
    "plt.legend()"
   ]
  },
  {
   "cell_type": "code",
   "execution_count": 31,
   "id": "c9c55185",
   "metadata": {},
   "outputs": [
    {
     "data": {
      "text/plain": [
       "<matplotlib.legend.Legend at 0x1dbd345ddf0>"
      ]
     },
     "execution_count": 31,
     "metadata": {},
     "output_type": "execute_result"
    },
    {
     "data": {
      "image/png": "[encoded data removed]",
      "text/plain": [
       "<Figure size 720x576 with 1 Axes>"
      ]
     },
     "metadata": {
      "needs_background": "light"
     },
     "output_type": "display_data"
    }
   ],
   "source": [
    "df_msoft['Cumu'] = df_msoft['Close']/df_msoft['Close'].iloc[0] \n",
    "df_spy['Cumu'] = df_spy['Close']/df_spy['Close'].iloc[0]\n",
    "\n",
    "df_msoft['Cumu'].plot(label = 'Microsoft', figsize=(10, 8))\n",
    "df_spy['Cumu'].plot(label = 'SPY')\n",
    "plt.legend()"
   ]
  },
  {
   "cell_type": "code",
   "execution_count": 32,
   "id": "f0a4734e",
   "metadata": {},
   "outputs": [
    {
     "data": {
      "text/plain": [
       "<matplotlib.collections.PathCollection at 0x1dbd353aa30>"
      ]
     },
     "execution_count": 32,
     "metadata": {},
     "output_type": "execute_result"
    },
    {
     "data": {
      "image/png": "[encoded data removed]",
      "text/plain": [
       "<Figure size 432x288 with 1 Axes>"
      ]
     },
     "metadata": {
      "needs_background": "light"
     },
     "output_type": "display_data"
    }
   ],
   "source": [
    "df_msoft['daily_ret'] = df_msoft['Close'].pct_change(1)\n",
    "df_spy['daily_ret'] = df_spy['Close'].pct_change(1)\n",
    "plt.scatter(df_msoft['daily_ret'],df_spy['daily_ret'])"
   ]
  },
  {
   "cell_type": "code",
   "execution_count": 33,
   "id": "70229582",
   "metadata": {},
   "outputs": [
    {
     "name": "stdout",
     "output_type": "stream",
     "text": [
      "             Microsoft         SPY\n",
      "Date                              \n",
      "2020-03-02  172.789993  309.089996\n",
      "2020-03-03  164.509995  300.239990\n",
      "2020-03-04  170.550003  312.859985\n",
      "2020-03-05  166.270004  302.459991\n",
      "2020-03-06  161.570007  297.459991\n"
     ]
    }
   ],
   "source": [
    "daily_prices = pd.concat([df_msoft['Close'], df_spy['Close']], axis=1)\n",
    "daily_prices.columns = ['Microsoft', 'SPY']\n",
    "\n",
    "print(daily_prices.head())"
   ]
  },
  {
   "cell_type": "code",
   "execution_count": 34,
   "id": "e3151279",
   "metadata": {},
   "outputs": [
    {
     "name": "stdout",
     "output_type": "stream",
     "text": [
      "            Microsoft       SPY\n",
      "Date                           \n",
      "2020-03-02        NaN       NaN\n",
      "2020-03-03  -0.047919 -0.028632\n",
      "2020-03-04   0.036715  0.042033\n",
      "2020-03-05  -0.025095 -0.033242\n",
      "2020-03-06  -0.028267 -0.016531\n"
     ]
    }
   ],
   "source": [
    "daily_returns = daily_prices.pct_change(1)\n",
    "print(daily_returns.head())"
   ]
  },
  {
   "cell_type": "code",
   "execution_count": 35,
   "id": "9269416a",
   "metadata": {},
   "outputs": [
    {
     "name": "stdout",
     "output_type": "stream",
     "text": [
      "            Microsoft       SPY\n",
      "Date                           \n",
      "2020-03-03  -0.047919 -0.028632\n",
      "2020-03-04   0.036715  0.042033\n",
      "2020-03-05  -0.025095 -0.033242\n",
      "2020-03-06  -0.028267 -0.016531\n",
      "2020-03-09  -0.067773 -0.078094\n"
     ]
    }
   ],
   "source": [
    "daily_returns = daily_prices.pct_change(1)\n",
    "clean_daily_returns = daily_returns.dropna(axis=0) \n",
    "print(clean_daily_returns.head())"
   ]
  },
  {
   "cell_type": "code",
   "execution_count": 36,
   "id": "1053d14e",
   "metadata": {},
   "outputs": [],
   "source": [
    "X = clean_daily_returns['SPY'].values.reshape(-1, 1)\n",
    "y = clean_daily_returns['Microsoft'].values.reshape(-1, 1)"
   ]
  },
  {
   "cell_type": "code",
   "execution_count": 37,
   "id": "7ec80fd1",
   "metadata": {},
   "outputs": [
    {
     "data": {
      "text/plain": [
       "LinearRegression()"
      ]
     },
     "execution_count": 37,
     "metadata": {},
     "output_type": "execute_result"
    }
   ],
   "source": [
    "lr = LinearRegression()\n",
    "lr.fit(X, y)"
   ]
  },
  {
   "cell_type": "code",
   "execution_count": 38,
   "id": "1576bc1c",
   "metadata": {},
   "outputs": [
    {
     "data": {
      "text/plain": [
       "array([[1.14986583]])"
      ]
     },
     "execution_count": 38,
     "metadata": {},
     "output_type": "execute_result"
    }
   ],
   "source": [
    "lr.coef_"
   ]
  },
  {
   "cell_type": "code",
   "execution_count": 39,
   "id": "ca5fde1d",
   "metadata": {},
   "outputs": [
    {
     "data": {
      "text/plain": [
       "array([0.0003679])"
      ]
     },
     "execution_count": 39,
     "metadata": {},
     "output_type": "execute_result"
    }
   ],
   "source": [
    "lr.intercept_"
   ]
  },
  {
   "cell_type": "code",
   "execution_count": 40,
   "id": "78c178f4",
   "metadata": {},
   "outputs": [
    {
     "data": {
      "text/plain": [
       "array([[-3.25555811e-02],\n",
       "       [ 4.87002427e-02],\n",
       "       [-3.78555776e-02],\n",
       "       [-1.86406577e-02],\n",
       "       [-8.94302598e-02],\n",
       "       [ 5.98675869e-02],\n",
       "       [-5.56862717e-02],\n",
       "       [-1.09647996e-01],\n",
       "       [ 9.86656820e-02],\n",
       "       [-1.25454711e-01],\n",
       "       [ 6.24515330e-02],\n",
       "       [-5.78531647e-02],\n",
       "       [ 2.81134172e-03],\n",
       "       [-5.56169596e-02],\n",
       "       [-2.90321057e-02],\n",
       "       [ 1.04549498e-01],\n",
       "       [ 1.75816026e-02],\n",
       "       [ 6.75083417e-02],\n",
       "       [-3.38816063e-02],\n",
       "       [ 3.77106186e-02],\n",
       "       [-1.67712898e-02],\n",
       "       [-5.13816629e-02],\n",
       "       [ 2.69015095e-02],\n",
       "       [-1.62524792e-02],\n",
       "       [ 7.76000380e-02],\n",
       "       [ 1.54016869e-03],\n",
       "       [ 3.89670759e-02],\n",
       "       [ 1.78658266e-02],\n",
       "       [-1.01305473e-02],\n",
       "       [ 3.42807476e-02],\n",
       "       [-2.40645622e-02],\n",
       "       [ 5.91519559e-03],\n",
       "       [ 3.14320307e-02],\n",
       "       [-1.98904111e-02],\n",
       "       [-3.45457619e-02],\n",
       "       [ 2.58886470e-02],\n",
       "       [ 2.85424563e-04],\n",
       "       [ 1.63955481e-02],\n",
       "       [ 1.69471770e-02],\n",
       "       [-4.91966449e-03],\n",
       "       [ 3.04696552e-02],\n",
       "       [-1.03381142e-02],\n",
       "       [-3.00729902e-02],\n",
       "       [ 3.53949308e-03],\n",
       "       [ 1.09918859e-02],\n",
       "       [-7.42671755e-03],\n",
       "       [ 1.42431235e-02],\n",
       "       [ 1.93938094e-02],\n",
       "       [ 6.03811859e-04],\n",
       "       [-2.25507374e-02],\n",
       "       [-1.99684694e-02],\n",
       "       [ 1.41287062e-02],\n",
       "       [ 5.65379789e-03],\n",
       "       [ 3.53924647e-02],\n",
       "       [-1.14425784e-02],\n",
       "       [ 1.99018439e-02],\n",
       "       [-7.57070518e-03],\n",
       "       [ 2.55157803e-03],\n",
       "       [ 1.45348858e-02],\n",
       "       [ 1.74767610e-02],\n",
       "       [-1.75354138e-03],\n",
       "       [ 5.49159818e-03],\n",
       "       [ 5.01535478e-03],\n",
       "       [ 9.88896112e-03],\n",
       "       [ 1.56706074e-02],\n",
       "       [-2.65246466e-03],\n",
       "       [ 2.98384273e-02],\n",
       "       [ 1.42668836e-02],\n",
       "       [-8.20629473e-03],\n",
       "       [-6.04834924e-03],\n",
       "       [-6.59206531e-02],\n",
       "       [ 1.41383173e-02],\n",
       "       [ 1.11026418e-02],\n",
       "       [ 2.25001667e-02],\n",
       "       [-4.40846310e-03],\n",
       "       [ 8.10623693e-04],\n",
       "       [-1.12125718e-02],\n",
       "       [ 7.74449652e-03],\n",
       "       [ 5.66150865e-03],\n",
       "       [-2.89636865e-02],\n",
       "       [ 1.26950888e-02],\n",
       "       [-2.69431151e-02],\n",
       "       [ 1.72681289e-02],\n",
       "       [ 1.50971610e-02],\n",
       "       [ 8.42249688e-03],\n",
       "       [ 6.70017130e-03],\n",
       "       [ 1.81186844e-02],\n",
       "       [-1.14915789e-02],\n",
       "       [ 9.16282630e-03],\n",
       "       [-6.17819244e-03],\n",
       "       [ 1.21086609e-02],\n",
       "       [-9.58874243e-03],\n",
       "       [ 1.52690348e-02],\n",
       "       [ 1.09319892e-02],\n",
       "       [-3.41912481e-03],\n",
       "       [ 3.70144463e-03],\n",
       "       [ 9.66063648e-03],\n",
       "       [ 2.81428393e-03],\n",
       "       [ 6.91300530e-03],\n",
       "       [-1.33519461e-02],\n",
       "       [-7.03767509e-03],\n",
       "       [ 8.75322412e-03],\n",
       "       [-6.92499613e-03],\n",
       "       [ 1.45097868e-02],\n",
       "       [-3.73473155e-03],\n",
       "       [ 9.45437616e-03],\n",
       "       [ 8.36195552e-03],\n",
       "       [ 4.80939144e-03],\n",
       "       [ 7.50966808e-03],\n",
       "       [ 8.05422292e-03],\n",
       "       [ 1.19340990e-03],\n",
       "       [ 3.80474987e-03],\n",
       "       [-9.12385934e-03],\n",
       "       [ 1.63997376e-02],\n",
       "       [-1.71079646e-03],\n",
       "       [ 4.02074361e-04],\n",
       "       [ 4.02057170e-03],\n",
       "       [ 2.85203999e-03],\n",
       "       [-4.41982116e-03],\n",
       "       [ 3.94808595e-03],\n",
       "       [ 4.44692951e-03],\n",
       "       [ 1.20196680e-02],\n",
       "       [ 4.39163431e-03],\n",
       "       [ 1.18960073e-02],\n",
       "       [ 2.88214244e-03],\n",
       "       [ 7.79533753e-03],\n",
       "       [-3.79752850e-03],\n",
       "       [ 1.11980209e-02],\n",
       "       [ 1.69995613e-02],\n",
       "       [-3.92039310e-02],\n",
       "       [-9.02041129e-03],\n",
       "       [-3.10497989e-02],\n",
       "       [ 2.30747157e-02],\n",
       "       [-1.95979617e-02],\n",
       "       [ 9.53298138e-04],\n",
       "       [ 1.55130946e-02],\n",
       "       [ 6.17744013e-03],\n",
       "       [-4.19547935e-03],\n",
       "       [-9.74546894e-03],\n",
       "       [-1.74018876e-02],\n",
       "       [-1.24296106e-02],\n",
       "       [ 1.20785731e-02],\n",
       "       [-2.62985870e-02],\n",
       "       [ 3.43282915e-03],\n",
       "       [ 1.89577360e-02],\n",
       "       [ 1.94664259e-02],\n",
       "       [-5.89429565e-03],\n",
       "       [ 9.08615207e-03],\n",
       "       [ 7.75004179e-03],\n",
       "       [-1.05494497e-02],\n",
       "       [ 2.07585730e-02],\n",
       "       [-1.59785516e-02],\n",
       "       [ 2.03832424e-02],\n",
       "       [ 1.05586006e-02],\n",
       "       [ 1.06363787e-02],\n",
       "       [ 1.88664927e-02],\n",
       "       [-7.13621803e-03],\n",
       "       [-6.85718132e-03],\n",
       "       [-1.05316975e-03],\n",
       "       [-3.26951520e-04],\n",
       "       [-1.71139997e-02],\n",
       "       [ 4.97393961e-03],\n",
       "       [-1.80871098e-03],\n",
       "       [ 6.67525359e-03],\n",
       "       [ 4.27190628e-03],\n",
       "       [-2.08815168e-02],\n",
       "       [-3.59614530e-03],\n",
       "       [-3.89332799e-02],\n",
       "       [ 1.20545588e-02],\n",
       "       [-1.16193116e-02],\n",
       "       [ 1.32561038e-02],\n",
       "       [ 2.06698477e-02],\n",
       "       [ 2.60665123e-02],\n",
       "       [ 2.27934717e-02],\n",
       "       [ 1.05300855e-04],\n",
       "       [ 1.48167339e-02],\n",
       "       [-1.31846193e-03],\n",
       "       [ 8.90974214e-03],\n",
       "       [-1.07868362e-02],\n",
       "       [ 1.62872171e-02],\n",
       "       [ 1.47211608e-02],\n",
       "       [-5.81642638e-03],\n",
       "       [-1.34705239e-02],\n",
       "       [ 5.20903583e-03],\n",
       "       [-7.50616843e-03],\n",
       "       [ 7.26070681e-03],\n",
       "       [ 1.88965177e-02],\n",
       "       [-1.40491237e-03],\n",
       "       [ 3.57028474e-03],\n",
       "       [-4.72270692e-03],\n",
       "       [ 1.29444344e-02],\n",
       "       [ 2.78694904e-03],\n",
       "       [ 5.43897022e-05],\n",
       "       [ 1.02770368e-02],\n",
       "       [-1.99497165e-03],\n",
       "       [ 3.73259675e-03],\n",
       "       [-9.94509585e-03],\n",
       "       [-8.21319642e-06],\n",
       "       [-9.80415669e-04],\n",
       "       [-4.78023165e-03],\n",
       "       [ 1.59134252e-02],\n",
       "       [ 2.17244829e-03],\n",
       "       [ 6.79790967e-03],\n",
       "       [-9.08456495e-03],\n",
       "       [-3.74345539e-03],\n",
       "       [-1.57009290e-03],\n",
       "       [ 1.40122029e-03],\n",
       "       [ 4.84133592e-03],\n",
       "       [ 1.02461962e-02],\n",
       "       [-1.82579858e-03],\n",
       "       [ 2.00853068e-03],\n",
       "       [ 6.21016590e-03],\n",
       "       [-1.52863517e-02],\n",
       "       [ 8.28740714e-03],\n",
       "       [ 7.24239118e-03],\n",
       "       [ 1.74520328e-02],\n",
       "       [ 6.91951055e-03],\n",
       "       [-7.38314214e-03],\n",
       "       [ 6.10776811e-04],\n",
       "       [ 3.46446740e-03],\n",
       "       [-3.65890422e-03],\n",
       "       [-8.01767498e-03],\n",
       "       [ 9.39660433e-03],\n",
       "       [ 1.62805426e-02],\n",
       "       [ 1.41618509e-03],\n",
       "       [-3.70195091e-03],\n",
       "       [ 4.90276684e-03],\n",
       "       [-1.42695751e-03],\n",
       "       [-2.77353483e-02],\n",
       "       [ 1.02569802e-02],\n",
       "       [-2.26519384e-02],\n",
       "       [ 1.95080053e-02],\n",
       "       [ 1.66272641e-02],\n",
       "       [ 1.27205940e-03],\n",
       "       [ 1.34369444e-02],\n",
       "       [ 4.89361179e-03],\n",
       "       [ 8.67216523e-03],\n",
       "       [-3.97701665e-04],\n",
       "       [-1.33038887e-04],\n",
       "       [ 2.22501224e-03],\n",
       "       [ 6.04799266e-03],\n",
       "       [-6.27882421e-04],\n",
       "       [ 6.31779799e-04],\n",
       "       [-4.52593029e-03],\n",
       "       [-1.66273318e-03],\n",
       "       [-8.47653830e-03],\n",
       "       [ 1.76427642e-03],\n",
       "       [ 1.30386502e-02],\n",
       "       [-2.73390079e-02],\n",
       "       [-5.55691878e-03],\n",
       "       [ 2.82408781e-02],\n",
       "       [-8.60475196e-03],\n",
       "       [-1.48628810e-02],\n",
       "       [-1.38614711e-02],\n",
       "       [ 2.15215042e-02],\n",
       "       [-5.35700866e-03],\n",
       "       [ 1.67851273e-02],\n",
       "       [ 7.52534220e-03],\n",
       "       [ 1.20265720e-02],\n",
       "       [ 1.91652076e-03],\n",
       "       [ 7.22521355e-03],\n",
       "       [-1.08244601e-03],\n",
       "       [ 4.28880910e-03],\n",
       "       [-1.63622558e-02],\n",
       "       [-5.50655173e-03],\n",
       "       [ 9.54954480e-03],\n",
       "       [-8.68245788e-03],\n",
       "       [-5.47740359e-03],\n",
       "       [ 6.83656090e-03],\n",
       "       [ 1.88979411e-02],\n",
       "       [-2.12901928e-04],\n",
       "       [-2.68264283e-03],\n",
       "       [ 5.02870219e-03],\n",
       "       [ 1.27853949e-02],\n",
       "       [ 1.68720562e-02],\n",
       "       [-3.11190705e-04],\n",
       "       [ 1.69863877e-03],\n",
       "       [ 5.82606162e-03],\n",
       "       [ 8.72759916e-03],\n",
       "       [ 7.87130720e-04],\n",
       "       [ 3.77574150e-03],\n",
       "       [-3.55904544e-03],\n",
       "       [ 1.27202842e-02],\n",
       "       [ 4.21124450e-03],\n",
       "       [-5.28144246e-03],\n",
       "       [-8.05088958e-03],\n",
       "       [ 1.12480487e-02],\n",
       "       [-1.01339622e-02],\n",
       "       [ 1.28352226e-02],\n",
       "       [ 2.76838710e-03],\n",
       "       [ 1.20103250e-04],\n",
       "       [ 3.74320649e-05],\n",
       "       [ 7.69575980e-03],\n",
       "       [-7.18730548e-03],\n",
       "       [ 2.84791118e-03],\n",
       "       [-6.72600743e-03],\n",
       "       [ 7.27578275e-04],\n",
       "       [ 9.55025547e-03],\n",
       "       [ 8.73661646e-03],\n",
       "       [-1.10185055e-02],\n",
       "       [-9.89436453e-03],\n",
       "       [-2.40612644e-02],\n",
       "       [ 1.41806876e-02],\n",
       "       [ 1.80244809e-02],\n",
       "       [-2.55795745e-03],\n",
       "       [-9.53897098e-03],\n",
       "       [-2.64679496e-03],\n",
       "       [ 1.27381086e-02],\n",
       "       [-5.73510285e-04],\n",
       "       [ 1.20899475e-02],\n",
       "       [-2.18333347e-03],\n",
       "       [ 2.64986641e-03],\n",
       "       [ 9.71553812e-04],\n",
       "       [ 2.42471194e-03],\n",
       "       [-6.44964036e-04],\n",
       "       [ 2.17618238e-03],\n",
       "       [-3.89966743e-03],\n",
       "       [ 1.08844299e-02],\n",
       "       [-7.47688883e-04],\n",
       "       [ 6.13014864e-04],\n",
       "       [-1.34759625e-03],\n",
       "       [ 5.71292209e-03],\n",
       "       [ 2.26804750e-03],\n",
       "       [ 2.94240430e-03],\n",
       "       [-1.74114525e-03],\n",
       "       [-6.05221422e-03],\n",
       "       [-1.34262978e-05],\n",
       "       [-1.88432731e-02],\n",
       "       [ 1.68293187e-02],\n",
       "       [ 6.51531134e-03],\n",
       "       [-1.01804313e-03],\n",
       "       [ 7.17023286e-03],\n",
       "       [ 4.45229157e-03],\n",
       "       [ 2.68595218e-03],\n",
       "       [ 9.86617385e-04],\n",
       "       [ 1.33571901e-03],\n",
       "       [ 6.73424530e-03],\n",
       "       [ 9.15694776e-03],\n",
       "       [-1.72654448e-03],\n",
       "       [ 4.43159323e-03],\n",
       "       [-9.00119838e-03],\n",
       "       [ 1.26424659e-02],\n",
       "       [ 4.48663004e-03],\n",
       "       [-3.55194884e-03],\n",
       "       [ 2.08375011e-03],\n",
       "       [-3.55949666e-03],\n",
       "       [-8.65118067e-03],\n",
       "       [-1.66132249e-02],\n",
       "       [ 1.68459573e-02],\n",
       "       [ 9.67755968e-03],\n",
       "       [ 2.77587035e-03],\n",
       "       [ 1.21977191e-02],\n",
       "       [ 3.19065091e-03],\n",
       "       [-4.87269028e-03],\n",
       "       [-1.03618029e-04],\n",
       "       [ 5.13686675e-03],\n",
       "       [-5.21633527e-03],\n",
       "       [-2.04456630e-03],\n",
       "       [ 9.72259495e-03],\n",
       "       [-5.28819848e-03],\n",
       "       [ 7.64984202e-03],\n",
       "       [ 2.26798369e-03],\n",
       "       [-5.67564008e-04],\n",
       "       [ 1.79827920e-03],\n",
       "       [ 3.22518031e-03],\n",
       "       [ 3.81399382e-03],\n",
       "       [ 2.46047271e-03],\n",
       "       [ 3.07544049e-03],\n",
       "       [-7.16973573e-03],\n",
       "       [-1.22173731e-02],\n",
       "       [ 2.14826737e-03],\n",
       "       [ 9.51747470e-03],\n",
       "       [ 1.04827195e-02],\n",
       "       [ 2.19322823e-03],\n",
       "       [ 2.78073590e-03],\n",
       "       [-6.41995501e-03],\n",
       "       [ 1.06488007e-02],\n",
       "       [ 5.42453164e-03],\n",
       "       [-1.33571122e-03],\n",
       "       [ 9.79021435e-04],\n",
       "       [ 3.90559769e-03],\n",
       "       [ 8.87630836e-05],\n",
       "       [-3.74346147e-03],\n",
       "       [-1.03291238e-03],\n",
       "       [-4.55377215e-03],\n",
       "       [-8.69827967e-03],\n",
       "       [ 3.31067612e-03],\n",
       "       [-5.83735873e-03],\n",
       "       [ 9.97231650e-03],\n",
       "       [-1.45489515e-03],\n",
       "       [-1.44692910e-02],\n",
       "       [-1.88051729e-02],\n",
       "       [-7.18285198e-04],\n",
       "       [ 1.15846316e-02],\n",
       "       [ 1.43387953e-02],\n",
       "       [ 2.26197487e-03],\n",
       "       [-2.92176583e-03],\n",
       "       [-2.28040160e-02],\n",
       "       [ 2.30328701e-03],\n",
       "       [-1.36861527e-02],\n",
       "       [ 1.40331114e-02],\n",
       "       [-1.44608107e-02],\n",
       "       [ 1.23322359e-02],\n",
       "       [ 5.14680971e-03],\n",
       "       [ 1.03092846e-02],\n",
       "       [-1.72919645e-03],\n",
       "       [-7.95680144e-03],\n",
       "       [-2.46253889e-03],\n",
       "       [ 4.50467707e-03],\n",
       "       [ 1.97093858e-02],\n",
       "       [ 9.12506074e-03],\n",
       "       [ 3.77210468e-03],\n",
       "       [ 9.23896719e-03],\n",
       "       [ 4.88425727e-03],\n",
       "       [ 3.36702618e-03],\n",
       "       [-8.23565681e-04],\n",
       "       [ 6.53440557e-03],\n",
       "       [ 1.40280429e-03],\n",
       "       [-4.72621999e-03],\n",
       "       [ 1.14628010e-02],\n",
       "       [ 2.70113492e-03],\n",
       "       [ 2.34591912e-03],\n",
       "       [ 5.01691967e-03],\n",
       "       [ 7.38810256e-03],\n",
       "       [ 5.78666922e-03],\n",
       "       [ 4.35748790e-03],\n",
       "       [ 1.34956775e-03],\n",
       "       [-3.43283049e-03],\n",
       "       [-8.88261400e-03],\n",
       "       [ 7.39916565e-04],\n",
       "       [ 9.04576179e-03],\n",
       "       [ 7.61642850e-04],\n",
       "       [ 4.91887086e-03],\n",
       "       [-2.42537336e-03],\n",
       "       [ 4.27332119e-03],\n",
       "       [-1.68834845e-03],\n",
       "       [-2.86917008e-03],\n",
       "       [ 1.89261857e-03],\n",
       "       [ 3.43787962e-03],\n",
       "       [-2.52777525e-02],\n",
       "       [ 1.44728560e-02],\n",
       "       [-2.20057447e-02],\n",
       "       [-1.24038905e-02],\n",
       "       [ 1.79795951e-02],\n",
       "       [-9.63743923e-03],\n",
       "       [ 1.39861240e-02],\n",
       "       [ 2.41526746e-02],\n",
       "       [ 3.41271054e-03],\n",
       "       [-7.39546181e-03],\n",
       "       [ 1.11921611e-02],\n",
       "       [-9.81801893e-03],\n",
       "       [-7.54322384e-03],\n",
       "       [ 1.83346088e-02],\n",
       "       [-9.77220759e-03],\n",
       "       [-1.58527778e-02],\n",
       "       [-1.18590865e-02],\n",
       "       [ 2.07883617e-02],\n",
       "       [ 1.18650837e-02],\n",
       "       [ 7.52245801e-03],\n",
       "       [ 1.66409812e-02],\n",
       "       [-5.71761827e-04],\n",
       "       [ 1.83882062e-03],\n",
       "       [-2.81093425e-03],\n",
       "       [-2.52997366e-03],\n",
       "       [ 7.02558188e-03],\n",
       "       [-1.72316508e-05],\n",
       "       [-2.17119844e-02],\n",
       "       [-7.12296188e-04],\n",
       "       [-4.17810444e-03],\n",
       "       [-1.06295086e-03],\n",
       "       [ 1.08411901e-02],\n",
       "       [ 3.47661411e-03],\n",
       "       [-1.54756240e-02],\n",
       "       [ 8.38222219e-04],\n",
       "       [-1.99957747e-02],\n",
       "       [-1.15717952e-02],\n",
       "       [-1.23588908e-02],\n",
       "       [-2.22047005e-02],\n",
       "       [ 5.25107943e-03],\n",
       "       [-1.36707790e-02],\n",
       "       [-2.51687495e-03],\n",
       "       [-5.31009235e-03],\n",
       "       [ 2.89252925e-02],\n",
       "       [ 2.10782141e-02],\n",
       "       [ 8.13746133e-03],\n",
       "       [ 1.15377950e-02],\n",
       "       [-2.66596633e-02],\n",
       "       [ 5.77481141e-03],\n",
       "       [-3.32233433e-03],\n",
       "       [ 9.82883805e-03],\n",
       "       [ 1.71974624e-02],\n",
       "       [-2.02901778e-02],\n",
       "       [-2.23059804e-02],\n",
       "       [-3.39137041e-03],\n",
       "       [ 1.89116368e-02],\n",
       "       [ 1.65670142e-03],\n",
       "       [-2.41948593e-02],\n",
       "       [-7.07753884e-03],\n",
       "       [-1.19720523e-02],\n",
       "       [-2.00291727e-02],\n",
       "       [ 1.76723699e-02],\n",
       "       [ 2.57385463e-02],\n",
       "       [-2.57405942e-03],\n",
       "       [-1.71448666e-02],\n",
       "       [ 2.15210793e-02],\n",
       "       [-5.35667173e-03],\n",
       "       [-8.97431955e-03],\n",
       "       [-3.35292070e-02],\n",
       "       [-8.35003543e-03],\n",
       "       [ 3.11967485e-02],\n",
       "       [-4.82437735e-03],\n",
       "       [-1.42527093e-02],\n",
       "       [-8.03568782e-03],\n",
       "       [ 2.56539586e-02],\n",
       "       [ 2.58652650e-02],\n",
       "       [ 1.47537965e-02],\n",
       "       [ 9.36197664e-03],\n",
       "       [ 3.16908676e-05],\n",
       "       [ 1.38229338e-02],\n",
       "       [-1.44405513e-02],\n",
       "       [ 1.77013989e-02],\n",
       "       [ 5.98338611e-03],\n",
       "       [ 8.54694258e-03],\n",
       "       [ 1.45926953e-02],\n",
       "       [-6.73228021e-03],\n",
       "       [-1.73300470e-02],\n",
       "       [ 3.62675270e-03],\n",
       "       [ 1.02183178e-02],\n",
       "       [-1.41564256e-02],\n",
       "       [-1.11300152e-02],\n",
       "       [ 6.16204044e-03],\n",
       "       [-2.70676310e-03],\n",
       "       [-1.92859307e-02],\n",
       "       [-3.89261435e-03],\n",
       "       [ 1.35379817e-02],\n",
       "       [-1.39499484e-02],\n",
       "       [ 8.40658180e-04],\n",
       "       [ 1.89298134e-02],\n",
       "       [-4.84773837e-04],\n",
       "       [-1.68266751e-02],\n",
       "       [-3.11834248e-02],\n",
       "       [ 7.03434280e-03],\n",
       "       [-3.29331606e-02],\n",
       "       [ 3.60107631e-03],\n",
       "       [ 2.94128764e-02],\n",
       "       [-4.21261388e-02],\n",
       "       [ 7.28945629e-03],\n",
       "       [ 5.63893674e-03],\n",
       "       [ 3.53846910e-02],\n",
       "       [-4.05015650e-02],\n",
       "       [-6.49556081e-03],\n",
       "       [-3.64476593e-02],\n",
       "       [ 3.02470019e-03],\n",
       "       [-1.78990171e-02],\n",
       "       [-8.32476736e-04],\n",
       "       [ 2.78587203e-02],\n",
       "       [-4.29775181e-03],\n",
       "       [ 2.40211024e-02],\n",
       "       [-4.59849977e-02],\n",
       "       [-6.67458926e-03],\n",
       "       [ 8.69861340e-04],\n",
       "       [ 2.18819848e-02],\n",
       "       [-8.40991591e-03],\n",
       "       [ 1.05268574e-02],\n",
       "       [ 2.33438138e-02],\n",
       "       [ 2.85961213e-02],\n",
       "       [-6.08397512e-03],\n",
       "       [-8.93282029e-03],\n",
       "       [ 2.22653484e-02],\n",
       "       [-1.85031471e-02],\n",
       "       [ 3.86898041e-03],\n",
       "       [ 1.13976729e-02],\n",
       "       [-1.21336147e-02],\n",
       "       [-2.69792258e-02],\n",
       "       [-3.29732064e-02],\n",
       "       [-4.32903852e-02],\n",
       "       [-3.09704085e-03],\n",
       "       [ 1.67607793e-02],\n",
       "       [-3.76881010e-02],\n",
       "       [-2.10967450e-03],\n",
       "       [ 2.93141940e-02],\n",
       "       [-1.71677525e-03],\n",
       "       [ 1.16395391e-02],\n",
       "       [ 3.69265836e-02],\n",
       "       [-4.02424440e-03],\n",
       "       [-2.31271368e-02],\n",
       "       [-5.68536111e-04],\n",
       "       [-8.97395213e-03],\n",
       "       [ 1.25294762e-02]])"
      ]
     },
     "execution_count": 40,
     "metadata": {},
     "output_type": "execute_result"
    }
   ],
   "source": [
    "# x coef: 1.14398066\n",
    "# Constant coef: 0.00069205\n",
    "# Linear equation: 𝑦 = 𝑎𝑥 + 𝑏\n",
    "y_pred =  lr.coef_ * X + lr.intercept_\n",
    "y_pred"
   ]
  },
  {
   "cell_type": "code",
   "execution_count": 41,
   "id": "42bbeab8",
   "metadata": {},
   "outputs": [
    {
     "data": {
      "text/plain": [
       "[<matplotlib.lines.Line2D at 0x1dbd35b8190>]"
      ]
     },
     "execution_count": 41,
     "metadata": {},
     "output_type": "execute_result"
    },
    {
     "data": {
      "image/png": "[encoded data removed]",
      "text/plain": [
       "<Figure size 432x288 with 1 Axes>"
      ]
     },
     "metadata": {
      "needs_background": "light"
     },
     "output_type": "display_data"
    }
   ],
   "source": [
    "plt.scatter(X,y)\n",
    "plt.plot(X, y_pred, color='red')"
   ]
  },
  {
   "cell_type": "markdown",
   "id": "9d7a5f20",
   "metadata": {},
   "source": [
    "## Linear regression to predict house prices"
   ]
  },
  {
   "cell_type": "code",
   "execution_count": 2,
   "id": "b179a0d1",
   "metadata": {},
   "outputs": [],
   "source": [
    "# Import the libraries\n",
    "import statsmodels.api as sm\n",
    "from sklearn import datasets \n",
    "import numpy as np\n",
    "from sklearn import linear_model\n",
    "import pandas as pd\n",
    "from statsmodels.stats.outliers_influence import variance_inflation_factor\n",
    "import sklearn\n",
    "from sklearn.model_selection import train_test_split\n",
    "from sklearn import metrics\n",
    "from sklearn.linear_model import LinearRegression\n",
    "import matplotlib.pyplot as plt\n",
    "\n",
    "# Note: Indicates situations that aren’t necessarily exceptions.\n",
    "import warnings  \n",
    "warnings.filterwarnings('ignore')  "
   ]
  },
  {
   "cell_type": "code",
   "execution_count": 3,
   "id": "ac99a356",
   "metadata": {},
   "outputs": [
    {
     "data": {
      "text/html": [
       "<div>\n",
       "<style scoped>\n",
       "    .dataframe tbody tr th:only-of-type {\n",
       "        vertical-align: middle;\n",
       "    }\n",
       "\n",
       "    .dataframe tbody tr th {\n",
       "        vertical-align: top;\n",
       "    }\n",
       "\n",
       "    .dataframe thead th {\n",
       "        text-align: right;\n",
       "    }\n",
       "</style>\n",
       "<table border=\"1\" class=\"dataframe\">\n",
       "  <thead>\n",
       "    <tr style=\"text-align: right;\">\n",
       "      <th></th>\n",
       "      <th>Rooms</th>\n",
       "      <th>Distance</th>\n",
       "      <th>Value</th>\n",
       "    </tr>\n",
       "  </thead>\n",
       "  <tbody>\n",
       "    <tr>\n",
       "      <th>0</th>\n",
       "      <td>6.575</td>\n",
       "      <td>4.0900</td>\n",
       "      <td>24.0</td>\n",
       "    </tr>\n",
       "    <tr>\n",
       "      <th>1</th>\n",
       "      <td>6.421</td>\n",
       "      <td>4.9671</td>\n",
       "      <td>21.6</td>\n",
       "    </tr>\n",
       "    <tr>\n",
       "      <th>2</th>\n",
       "      <td>7.185</td>\n",
       "      <td>4.9671</td>\n",
       "      <td>34.7</td>\n",
       "    </tr>\n",
       "    <tr>\n",
       "      <th>3</th>\n",
       "      <td>6.998</td>\n",
       "      <td>6.0622</td>\n",
       "      <td>33.4</td>\n",
       "    </tr>\n",
       "    <tr>\n",
       "      <th>4</th>\n",
       "      <td>7.147</td>\n",
       "      <td>6.0622</td>\n",
       "      <td>36.2</td>\n",
       "    </tr>\n",
       "  </tbody>\n",
       "</table>\n",
       "</div>"
      ],
      "text/plain": [
       "   Rooms  Distance  Value\n",
       "0  6.575    4.0900   24.0\n",
       "1  6.421    4.9671   21.6\n",
       "2  7.185    4.9671   34.7\n",
       "3  6.998    6.0622   33.4\n",
       "4  7.147    6.0622   36.2"
      ]
     },
     "execution_count": 3,
     "metadata": {},
     "output_type": "execute_result"
    }
   ],
   "source": [
    "# Import Data Set\n",
    "# Load the CSV file.\n",
    "hp = pd.read_csv('house_prices.csv')  \n",
    "\n",
    "# Print the DataFrame.\n",
    "hp.head() "
   ]
  },
  {
   "cell_type": "code",
   "execution_count": 4,
   "id": "874829c0",
   "metadata": {},
   "outputs": [
    {
     "name": "stdout",
     "output_type": "stream",
     "text": [
      "<class 'pandas.core.frame.DataFrame'>\n",
      "RangeIndex: 506 entries, 0 to 505\n",
      "Data columns (total 3 columns):\n",
      " #   Column    Non-Null Count  Dtype  \n",
      "---  ------    --------------  -----  \n",
      " 0   Rooms     506 non-null    float64\n",
      " 1   Distance  506 non-null    float64\n",
      " 2   Value     506 non-null    float64\n",
      "dtypes: float64(3)\n",
      "memory usage: 12.0 KB\n"
     ]
    }
   ],
   "source": [
    "# View the DataFrame.\n",
    "hp.info()"
   ]
  },
  {
   "cell_type": "code",
   "execution_count": 5,
   "id": "ed0f90d4",
   "metadata": {},
   "outputs": [
    {
     "data": {
      "text/html": [
       "<div>\n",
       "<style scoped>\n",
       "    .dataframe tbody tr th:only-of-type {\n",
       "        vertical-align: middle;\n",
       "    }\n",
       "\n",
       "    .dataframe tbody tr th {\n",
       "        vertical-align: top;\n",
       "    }\n",
       "\n",
       "    .dataframe thead th {\n",
       "        text-align: right;\n",
       "    }\n",
       "</style>\n",
       "<table border=\"1\" class=\"dataframe\">\n",
       "  <thead>\n",
       "    <tr style=\"text-align: right;\">\n",
       "      <th></th>\n",
       "      <th>Rooms</th>\n",
       "      <th>Distance</th>\n",
       "      <th>Value</th>\n",
       "    </tr>\n",
       "  </thead>\n",
       "  <tbody>\n",
       "    <tr>\n",
       "      <th>count</th>\n",
       "      <td>506.000000</td>\n",
       "      <td>506.000000</td>\n",
       "      <td>506.000000</td>\n",
       "    </tr>\n",
       "    <tr>\n",
       "      <th>mean</th>\n",
       "      <td>6.284634</td>\n",
       "      <td>3.795043</td>\n",
       "      <td>22.532806</td>\n",
       "    </tr>\n",
       "    <tr>\n",
       "      <th>std</th>\n",
       "      <td>0.702617</td>\n",
       "      <td>2.105710</td>\n",
       "      <td>9.197104</td>\n",
       "    </tr>\n",
       "    <tr>\n",
       "      <th>min</th>\n",
       "      <td>3.561000</td>\n",
       "      <td>1.129600</td>\n",
       "      <td>5.000000</td>\n",
       "    </tr>\n",
       "    <tr>\n",
       "      <th>25%</th>\n",
       "      <td>5.885500</td>\n",
       "      <td>2.100175</td>\n",
       "      <td>17.025000</td>\n",
       "    </tr>\n",
       "    <tr>\n",
       "      <th>50%</th>\n",
       "      <td>6.208500</td>\n",
       "      <td>3.207450</td>\n",
       "      <td>21.200000</td>\n",
       "    </tr>\n",
       "    <tr>\n",
       "      <th>75%</th>\n",
       "      <td>6.623500</td>\n",
       "      <td>5.188425</td>\n",
       "      <td>25.000000</td>\n",
       "    </tr>\n",
       "    <tr>\n",
       "      <th>max</th>\n",
       "      <td>8.780000</td>\n",
       "      <td>12.126500</td>\n",
       "      <td>50.000000</td>\n",
       "    </tr>\n",
       "  </tbody>\n",
       "</table>\n",
       "</div>"
      ],
      "text/plain": [
       "            Rooms    Distance       Value\n",
       "count  506.000000  506.000000  506.000000\n",
       "mean     6.284634    3.795043   22.532806\n",
       "std      0.702617    2.105710    9.197104\n",
       "min      3.561000    1.129600    5.000000\n",
       "25%      5.885500    2.100175   17.025000\n",
       "50%      6.208500    3.207450   21.200000\n",
       "75%      6.623500    5.188425   25.000000\n",
       "max      8.780000   12.126500   50.000000"
      ]
     },
     "execution_count": 5,
     "metadata": {},
     "output_type": "execute_result"
    }
   ],
   "source": [
    "# Descriptive statistics.\n",
    "hp.describe()"
   ]
  },
  {
   "cell_type": "code",
   "execution_count": 6,
   "id": "32e479a2",
   "metadata": {},
   "outputs": [],
   "source": [
    "# Set the variables, fitting the model & calling the predictions for X\n",
    "# Define the dependent variable.\n",
    "y = hp['Value']  \n",
    "\n",
    "# Define the independent variable.\n",
    "# Capital X because we have multiple variables = SET of variables.\n",
    "X = hp[['Rooms', 'Distance']] "
   ]
  },
  {
   "cell_type": "code",
   "execution_count": 7,
   "id": "1a05a262",
   "metadata": {},
   "outputs": [
    {
     "data": {
      "text/plain": [
       "array([25.23262311, 24.30597474, 31.03025338, 29.9197274 , 31.23113776,\n",
       "       24.92052548, 20.99628003, 22.59515685, 17.89792552, 21.43016488,\n",
       "       24.59312806, 21.29554669, 19.86012857, 20.02480328, 21.19854962,\n",
       "       18.91052046, 19.79946305, 20.16587486, 15.24036623, 17.62554884,\n",
       "       16.24441157, 19.82577837, 21.36632302, 18.52848931, 19.65425152,\n",
       "       16.82067934, 18.81534563, 20.76312523, 24.70679323, 26.17680132,\n",
       "       17.71571146, 20.84706509, 19.68285587, 17.39216584, 20.85532906,\n",
       "       19.22540394, 18.42427779, 18.77543693, 19.75391977, 26.04958067,\n",
       "       29.82538634, 27.7461615 , 22.45651299, 22.82617229, 21.57637181,\n",
       "       17.86689491, 18.78224174, 21.21771802, 15.7523132 , 17.64542212,\n",
       "       21.17812468, 22.51593928, 26.00129836, 21.48617409, 20.7648873 ,\n",
       "       33.41670435, 26.03470634, 29.42393915, 23.26887906, 20.91861579,\n",
       "       19.42498135, 21.20638654, 25.71803969, 28.7805479 , 32.39778062,\n",
       "       23.95685233, 19.52974218, 20.27518634, 17.77558538, 20.33679623,\n",
       "       24.4272984 , 20.4138546 , 21.32920143, 22.91345556, 22.65354578,\n",
       "       22.890714  , 22.60892674, 21.40425339, 22.66548379, 19.26453233,\n",
       "       27.21117149, 26.26061901, 23.47057146, 22.28238086, 23.93257269,\n",
       "       25.8866734 , 20.46867221, 21.0694004 , 28.70813555, 29.33831749,\n",
       "       23.35427586, 23.24856115, 23.85471467, 21.82158854, 22.1311598 ,\n",
       "       25.38192659, 21.31567433, 38.09116527, 35.89961373, 32.34384335,\n",
       "       25.92897066, 26.44252374, 23.06406971, 20.70529134, 20.82575888,\n",
       "       17.89096542, 17.80983337, 20.32773223, 23.53360961, 21.43211252,\n",
       "       21.24661957, 25.77432221, 18.55715411, 20.22773676, 21.51106612,\n",
       "       18.74280198, 21.05607467, 19.70031291, 18.25696233, 17.1536719 ,\n",
       "       18.1319106 , 19.28182222, 18.84934375, 17.85553459, 18.08822678,\n",
       "       19.02342728, 15.62527907, 16.3445952 , 22.85186727, 15.94537952,\n",
       "       23.23909304, 22.15185608, 22.58429208, 17.81317649, 17.18051639,\n",
       "       22.15270637, 18.6234551 , 23.07253379, 17.72951157, 20.31717554,\n",
       "       20.49184141, 10.24188438, 13.56404016, 14.18022607,  9.17521327,\n",
       "       20.01032929, 15.63968329,  9.43381443, 11.75581429, 15.37128804,\n",
       "       20.03714997, 13.70483068, 10.26376982, 16.4047089 , 20.16299455,\n",
       "       20.36352051, 12.61382958, 27.38986751, 19.61236751, 23.52439846,\n",
       "       21.25191896, 32.24119459, 35.03015812, 40.13266443, 18.07140582,\n",
       "       20.17760014, 36.15047943, 18.27574481, 22.0066531 , 22.81660817,\n",
       "       18.25814198, 18.28396388, 15.67451622, 23.127448  , 18.25224159,\n",
       "       24.50921193, 20.0862567 , 22.56662054, 27.16677511, 28.1807569 ,\n",
       "       35.04684651, 20.70980371, 29.65823582, 24.51936744, 16.14769225,\n",
       "       21.12231335, 35.85173009, 26.90717641, 25.29843038, 30.83451843,\n",
       "       29.71020419, 27.84430488, 31.70812468, 28.25399262, 26.5289159 ,\n",
       "       37.43628005, 33.07283177, 31.48857764, 32.95841342, 30.49515072,\n",
       "       31.90337661, 22.66332984, 35.40777416, 36.98336372, 38.57641927,\n",
       "       19.14176992, 23.17056754, 18.39140092, 20.80803787, 14.29298272,\n",
       "       19.71567898, 14.71840923, 18.25931648, 23.40165325, 14.75093477,\n",
       "       21.70298077, 18.7080082 , 25.49532692, 19.15358169, 23.09949169,\n",
       "       27.9415013 , 21.10586268, 27.50842309, 25.2112546 , 39.5313432 ,\n",
       "       43.57119123, 37.69929117, 29.98045299, 34.66151384, 24.68071282,\n",
       "       19.80000137, 32.3948217 , 40.61771646, 39.73441915, 26.34747175,\n",
       "       20.71456818, 25.75385539, 32.15248179, 25.43182344, 26.53199992,\n",
       "       29.16468042, 22.10594813, 24.76262011, 25.07066952, 18.47898741,\n",
       "       18.58460435, 23.06089266, 24.09945926, 25.80940519, 28.31780756,\n",
       "       26.07457433, 25.64330515, 30.94939918, 42.40883738, 23.63030344,\n",
       "       21.58837589, 34.06706681, 42.8518546 , 30.8308752 , 26.56613731,\n",
       "       29.79301622, 32.59660487, 40.39693624, 30.86811263, 29.73045002,\n",
       "       15.27089721, 28.13971743, 39.57305938, 32.51446918, 19.38337199,\n",
       "       19.07012766, 22.4498698 , 24.8226445 , 35.19016533, 26.83721976,\n",
       "       27.77488986, 31.6640253 , 27.81955963, 24.43868089, 27.3237884 ,\n",
       "       36.48598755, 29.25605137, 35.19857294, 37.97440938, 31.32051978,\n",
       "       25.73162327, 24.63998764, 23.58891838, 24.52186803, 26.72222099,\n",
       "       28.25172769, 30.77773288, 26.21860156, 21.98018694, 20.94162034,\n",
       "       27.05351083, 25.91812871, 19.41364706, 25.03551645, 31.16129908,\n",
       "       29.66505907, 26.04986328, 25.21372916, 29.50001672, 31.01711463,\n",
       "       25.24151005, 32.18546498, 27.20067768, 25.38307233, 19.44263385,\n",
       "       10.36497585, 20.53689983, 19.76025002, 22.10861135, 24.92380039,\n",
       "       17.50451178, 19.37020914, 18.22460366, 23.26141757, 21.12330329,\n",
       "       24.14139013, 23.70131954, 20.84118151, 17.91031137, 24.13290953,\n",
       "       24.61338408, 23.56601608, 21.55049277, 19.55978401, 23.65244051,\n",
       "       22.31112486, 18.8311022 , 21.69156104, 24.11084632, 24.05803785,\n",
       "       21.42397818, 19.57665143, 19.99315709, 21.04414102, 20.39283655,\n",
       "       20.24321255, 32.53543999, 25.98874808, 27.10033213, 29.02545606,\n",
       "       22.21307719, 21.19211342, 26.88641821, 27.8402695 , 30.73495172,\n",
       "       26.78311781, 28.50415273, 22.38717151, 30.50787039, 20.38114896,\n",
       "       22.78393439, 21.07575447, 22.87364182, 20.62118801, 20.38474878,\n",
       "       22.90640109, 21.50372698, 13.58546183, 17.36965247, 43.57145549,\n",
       "       -2.50561219,  9.90196602,  0.10225832,  9.75835729, 24.84700588,\n",
       "       27.70244669, 20.64503858, 17.62444762,  9.11768221,  2.34001276,\n",
       "       30.37214586, 24.54198947, 25.8245981 , 22.19455025, 20.81272859,\n",
       "       27.3846414 , 23.71184894, 14.86114194, 14.69719681,  4.51221416,\n",
       "       12.50614694,  7.02535622, 10.11327659,  9.0918643 , 13.64833874,\n",
       "       16.58818231, 19.68101866, 10.5531217 , 20.74671878, 18.04903824,\n",
       "       23.16149169, 22.55669381, 16.7441488 , 14.08623731, 17.60328019,\n",
       "       18.834685  , 21.96080153, 22.52941393, 13.27511298, 14.83033379,\n",
       "       16.07917795,  2.36010443, 15.3505355 , 15.51260803, 26.3876312 ,\n",
       "       16.7244207 , 24.70166451,  6.85650551, 11.51220367,  5.94813852,\n",
       "       22.88912394, 25.94458476, 12.85201613, 18.67515846, 26.30177842,\n",
       "       22.6985216 , 19.14162473, 16.0281651 , 20.06732019, 15.35254561,\n",
       "       18.19057913, 17.7143145 , 20.86098192, 20.81730851, 22.47910898,\n",
       "       22.2387715 , 26.52481036, 22.98868314, 23.14191179, 21.08943367,\n",
       "       24.74716532, 23.20883973, 20.44598926, 18.49032667, 15.77782974,\n",
       "       17.48285298, 22.75531511, 21.07997353, 23.40824348, 17.81407596,\n",
       "       23.18405083, 22.1865964 , 21.45606425, 20.90626183, 22.91074358,\n",
       "       25.90056672, 25.08868162, 21.94413121, 31.63178628, 25.80006344,\n",
       "       23.98389927, 19.22270945, 18.96773829, 22.18216012, 20.21378105,\n",
       "       25.61199456, 22.73667472, 22.29917578, 24.05710312, 21.46056962,\n",
       "       17.55033458, 19.1536816 , 19.44064697, 18.9428834 , 17.02677721,\n",
       "       21.12512972, 21.70303237, 23.43458755, 28.03600885, 14.31701599,\n",
       "       20.67664938, 23.55924665, 13.07356228, 20.86172773, 21.14178537,\n",
       "       21.97627762, 26.40217634, 29.17798557, 18.08113274, 18.85751062,\n",
       "       22.86979799, 20.90918977, 18.87728391, 14.25699424, 13.87291819,\n",
       "       11.08051561, 18.93601475, 19.05421832, 16.75789769, 18.68540688,\n",
       "       16.63604641, 14.1716511 , 17.77342212, 19.51733263, 15.5521999 ,\n",
       "       19.63130033, 24.60331799, 20.34683124, 27.82217794, 26.32855206,\n",
       "       19.66102874])"
      ]
     },
     "execution_count": 7,
     "metadata": {},
     "output_type": "execute_result"
    }
   ],
   "source": [
    "# Fit the regression model.\n",
    "mlr = linear_model.LinearRegression()\n",
    "mlr.fit(X, y) \n",
    "\n",
    "# Call the predictions for X (array).\n",
    "mlr.predict(X) "
   ]
  },
  {
   "cell_type": "code",
   "execution_count": 8,
   "id": "466b0b68",
   "metadata": {},
   "outputs": [
    {
     "name": "stdout",
     "output_type": "stream",
     "text": [
      "R-squared:  0.4955246476058477\n",
      "Intercept:  -34.636050175473315\n",
      "Coefficients:\n"
     ]
    },
    {
     "data": {
      "text/plain": [
       "[('Rooms', 8.801411828632594), ('Distance', 0.48884853656712307)]"
      ]
     },
     "execution_count": 8,
     "metadata": {},
     "output_type": "execute_result"
    }
   ],
   "source": [
    "# Check the value of R Squared, the intercept & the co-efficients.\n",
    "# Print the R-squared value.\n",
    "print(\"R-squared: \", mlr.score(X,y))  \n",
    "\n",
    "# Print the intercept.\n",
    "print(\"Intercept: \", mlr.intercept_) \n",
    "\n",
    "# Print the coefficients.\n",
    "print(\"Coefficients:\")  \n",
    "\n",
    "# Map a similar index of multiple containers (to be used as a single entity).\n",
    "list(zip(X, mlr.coef_))  \n",
    "\n",
    "# Note that the output is for all the independent variables!\n",
    "# Adjusted R2 is used to compare the predictive value of various models with different numbers of \n",
    "# independent variables. R2 is positively correlated with the number of independent variables\n",
    "# so R2 cant be used to compare quality of performance between models.\n",
    "# Adjusted R2 can be used!\n",
    "# Intercept has little to no sense here in MLR."
   ]
  },
  {
   "cell_type": "code",
   "execution_count": 9,
   "id": "36339c2f",
   "metadata": {},
   "outputs": [
    {
     "name": "stdout",
     "output_type": "stream",
     "text": [
      "Predicted Value: \n",
      " [23.40256559]\n"
     ]
    }
   ],
   "source": [
    "# Make predictions\n",
    "# Create a variable 'New_Rooms' and define it as 5.7.\n",
    "New_Rooms = 5.75\n",
    "\n",
    "# Create 'New_Distance' and define it as 15.2.\n",
    "New_Distance = 15.2  \n",
    "\n",
    "# Print the predicted value. \n",
    "print (\"Predicted Value: \\n\", mlr.predict([[New_Rooms ,New_Distance]]))  "
   ]
  },
  {
   "cell_type": "code",
   "execution_count": 10,
   "id": "5bc09c90",
   "metadata": {},
   "outputs": [],
   "source": [
    "# Train and test subsets with MLR (multiple linear regression)\n",
    "# Split the data in 'train' (80%) and 'test' (20%) sets.\n",
    "X_train, X_test, Y_train, Y_test = sklearn.model_selection.train_test_split(X,\n",
    "                                                                            y,\n",
    "                                                                            test_size = 0.20,\n",
    "                                                                            random_state = 5)\n",
    "\n",
    "# Note test data set is 20% of the whole data set."
   ]
  },
  {
   "cell_type": "code",
   "execution_count": 11,
   "id": "16cf116e",
   "metadata": {},
   "outputs": [
    {
     "name": "stdout",
     "output_type": "stream",
     "text": [
      "                            OLS Regression Results                            \n",
      "==============================================================================\n",
      "Dep. Variable:                  Value   R-squared:                       0.449\n",
      "Model:                            OLS   Adj. R-squared:                  0.446\n",
      "Method:                 Least Squares   F-statistic:                     163.3\n",
      "Date:                Sat, 23 Jul 2022   Prob (F-statistic):           1.33e-52\n",
      "Time:                        19:19:34   Log-Likelihood:                -1352.5\n",
      "No. Observations:                 404   AIC:                             2711.\n",
      "Df Residuals:                     401   BIC:                             2723.\n",
      "Df Model:                           2                                         \n",
      "Covariance Type:            nonrobust                                         \n",
      "==============================================================================\n",
      "                 coef    std err          t      P>|t|      [0.025      0.975]\n",
      "------------------------------------------------------------------------------\n",
      "const        -32.8597      3.141    -10.462      0.000     -39.035     -26.685\n",
      "Rooms          8.4852      0.507     16.733      0.000       7.488       9.482\n",
      "Distance       0.5603      0.171      3.279      0.001       0.224       0.896\n",
      "==============================================================================\n",
      "Omnibus:                      119.542   Durbin-Watson:                   2.115\n",
      "Prob(Omnibus):                  0.000   Jarque-Bera (JB):              620.242\n",
      "Skew:                           1.162   Prob(JB):                    2.07e-135\n",
      "Kurtosis:                       8.607   Cond. No.                         69.9\n",
      "==============================================================================\n",
      "\n",
      "Notes:\n",
      "[1] Standard Errors assume that the covariance matrix of the errors is correctly specified.\n"
     ]
    }
   ],
   "source": [
    "# Training the model using the 'statsmodel' OLS library.\n",
    "# Fit the model with the added constant.\n",
    "model = sm.OLS(Y_train, sm.add_constant(X_train)).fit()\n",
    "\n",
    "# Set the predicted response vector.\n",
    "Y_pred = model.predict(sm.add_constant(X_test)) \n",
    "\n",
    "# Call a summary of the model.\n",
    "print_model = model.summary()\n",
    "\n",
    "# Print the summary.\n",
    "print(print_model)  \n",
    "\n",
    "# This is for the test dataset only & so R2 for example is different from the whole data set earlier.\n",
    "# Smaller the std err the better\n",
    "# t= co-eff/std err\n",
    "# Inverse relationship between t value and P\n",
    "# P value is the statistical significance test.\n",
    "# by default, P is two tailed test.\n",
    "# If P value is small, then variable is significant.\n",
    "# 95% confident that the true impact of room to house price is between 7.488 & 9.482\n",
    "# 95% confident that the true impact of distance to house price is between 0.224 & 0.896"
   ]
  },
  {
   "cell_type": "code",
   "execution_count": 12,
   "id": "086f4dd1",
   "metadata": {},
   "outputs": [
    {
     "data": {
      "text/plain": [
       "LinearRegression()"
      ]
     },
     "execution_count": 12,
     "metadata": {},
     "output_type": "execute_result"
    }
   ],
   "source": [
    "# Run a regression test.\n",
    "# Specify the model.\n",
    "mlr = LinearRegression()  \n",
    "\n",
    "# Fit the model.\n",
    "mlr.fit(X_test, Y_test)  "
   ]
  },
  {
   "cell_type": "code",
   "execution_count": 13,
   "id": "4cc616b4",
   "metadata": {},
   "outputs": [
    {
     "name": "stdout",
     "output_type": "stream",
     "text": [
      "Prediction for test set: [39.5007791  26.01220208 23.40571915  7.97760017 36.32952212 12.03353551\n",
      " 28.71120259 26.60195665 26.25329031 23.55549835 33.39311645 19.5529638\n",
      " 19.00355373 31.74108834 24.80646556 19.47964643  5.31935431 13.00959399\n",
      " 13.16804638 16.45968889  9.9881162  22.77207093 41.65869276 23.16761129\n",
      " 31.08463065 17.53857053 23.35625302 20.93113313 23.23435817 26.88390622\n",
      " 17.57037584 13.14888443 17.83727856 32.90891385 24.76823466 22.30287688\n",
      " 25.7837162  17.95773792 42.81614435 29.98205908 20.86835099  9.16135295\n",
      " 25.43949309 18.91471376 25.41807537 29.06482076  4.2661231  18.64474863\n",
      " 20.12296035 20.63616287 20.29657713 20.67154466 22.45611771 20.39267666\n",
      " 16.03630521 24.5691534  37.39196791 24.31316323 26.69493635 19.82799285\n",
      " 19.39924173 19.58999435 15.91856374 28.31314942 20.44430288 12.49256072\n",
      " 24.51304292 22.0135639  19.43232398 18.35263298 23.8752249  20.37453461\n",
      " 16.0758568  27.31107959 14.9534151  28.7072379  17.87693131 14.90371929\n",
      " 32.16362438 19.03792108 21.54659008 42.55735702 20.89058628 21.12288649\n",
      " 18.03591416 23.18244483 14.84170002  9.41097766 17.99387438 20.00469393\n",
      " 37.42800591 19.15815623 21.26405813 21.1782669  23.09654424 25.2521775\n",
      " 16.68928763 29.97519601 17.50573165 11.73867189 21.75521951 24.72911238]\n"
     ]
    }
   ],
   "source": [
    "# Call the predictions for X in the test set.\n",
    "y_pred_mlr= mlr.predict(X_test)  \n",
    "\n",
    "# Print the predictions.\n",
    "print(\"Prediction for test set: {}\".format(y_pred_mlr))  "
   ]
  },
  {
   "cell_type": "code",
   "execution_count": 14,
   "id": "4708882e",
   "metadata": {},
   "outputs": [
    {
     "name": "stdout",
     "output_type": "stream",
     "text": [
      "71.03671013608054\n"
     ]
    }
   ],
   "source": [
    "# Print the R-squared value.\n",
    "print(mlr.score(X_test,Y_test)*100)  \n",
    "# This is expressed now as a %age."
   ]
  },
  {
   "cell_type": "markdown",
   "id": "c1b4b51d",
   "metadata": {},
   "source": [
    "## Multicollinearity\n",
    "\n",
    "When there are high correlations between two or more independent variables in MLR. This causes unreliable estimates. \n",
    "\n",
    "The **Variance Inflation Factor** measures correlation between independent variables and strength of correlation. If VIF value is:\n",
    "\n",
    "- 1, then there is no correlation between independent variables.\n",
    "- Between 1 & 5 suggests correlation is moderate but not enough to warrant fixing.\n",
    "- Greater than 5 is a problem and estimates will have large standard errors and unreliable p values.\n",
    "- VIF range can be between 1 (no linear correlation) and infinity.\n",
    "\n",
    "If std error in OLS is close to 0 then no need to worry about multicollinearity as a starting point. "
   ]
  },
  {
   "cell_type": "code",
   "execution_count": 16,
   "id": "cf120519",
   "metadata": {},
   "outputs": [
    {
     "name": "stdout",
     "output_type": "stream",
     "text": [
      "   VIF Factor  features\n",
      "0       83.56     const\n",
      "1        1.04     Rooms\n",
      "2        1.04  Distance\n"
     ]
    }
   ],
   "source": [
    "# Check for multicollinearity with python\n",
    "# Add a constant.\n",
    "x_temp = sm.add_constant(X_train)  \n",
    "\n",
    "# Create an empty DataFrame. vif[\"VIF Factor\"] = [variance_inflation_factor(x_temp.values,\n",
    "#i) for i in range(x_temp.values.shape[1])]  \n",
    "# Calculate the ‘vif’ for each value.\n",
    "vif = pd.DataFrame()  \n",
    "# Calculate the VIF\n",
    "vif['VIF Factor'] = [variance_inflation_factor(x_temp.values, i) for i in range\n",
    "                     (x_temp.values.shape[1])]\n",
    "# Create the feature columns.\n",
    "vif['features'] = x_temp.columns  \n",
    "\n",
    "# Print the values to two decimal points.\n",
    "print(vif.round(2))  \n",
    "\n",
    "# Note VIF is 1.04 so no issue of multi-collinearity"
   ]
  },
  {
   "cell_type": "code",
   "execution_count": 17,
   "id": "e52e954c",
   "metadata": {},
   "outputs": [
    {
     "name": "stdout",
     "output_type": "stream",
     "text": [
      "Mean Absolute Error (Final): 3.4749451018628648\n",
      "Mean Square Error (Final): 24.056805405025848\n"
     ]
    }
   ],
   "source": [
    "# Evaluate the model\n",
    "# Call the ‘metrics.mean_absolute_error’ function.  \n",
    "print('Mean Absolute Error (Final):', metrics.mean_absolute_error(Y_test, Y_pred))  \n",
    "\n",
    "# Call the ‘metrics.mean_squared_error’ function.\n",
    "print('Mean Square Error (Final):', metrics.mean_squared_error(Y_test, Y_pred))\n",
    "\n",
    "# Closer to MAE is to 0 the better\n",
    "# MSE is alternative but not substitute for MAE. \n",
    "# MSE benchmark for perfection is 0 but unrealistic.\n",
    "# These are all used to measure relative performance of one model over another."
   ]
  },
  {
   "cell_type": "markdown",
   "id": "fd28e6b8",
   "metadata": {},
   "source": [
    "### 1.3.5 Practical Activity: Conducting MLR using Python."
   ]
  },
  {
   "cell_type": "code",
   "execution_count": 19,
   "id": "55be70aa",
   "metadata": {},
   "outputs": [],
   "source": [
    "#Import all the necessary packages:\n",
    "import numpy as np\n",
    "import pandas as pd\n",
    "import statsmodels.api as sm\n",
    "import statsmodels.stats.api as sms\n",
    "import sklearn\n",
    "import matplotlib.pyplot as plt\n",
    "\n",
    "from sklearn import datasets \n",
    "from sklearn import linear_model\n",
    "from statsmodels.stats.outliers_influence import variance_inflation_factor\n",
    "from sklearn.model_selection import train_test_split\n",
    "from sklearn import metrics\n",
    "from sklearn.linear_model import LinearRegression\n",
    "from statsmodels.formula.api import ols"
   ]
  },
  {
   "cell_type": "code",
   "execution_count": 20,
   "id": "46327e90",
   "metadata": {},
   "outputs": [
    {
     "data": {
      "text/html": [
       "<div>\n",
       "<style scoped>\n",
       "    .dataframe tbody tr th:only-of-type {\n",
       "        vertical-align: middle;\n",
       "    }\n",
       "\n",
       "    .dataframe tbody tr th {\n",
       "        vertical-align: top;\n",
       "    }\n",
       "\n",
       "    .dataframe thead th {\n",
       "        text-align: right;\n",
       "    }\n",
       "</style>\n",
       "<table border=\"1\" class=\"dataframe\">\n",
       "  <thead>\n",
       "    <tr style=\"text-align: right;\">\n",
       "      <th></th>\n",
       "      <th>Sale</th>\n",
       "      <th>por_OS</th>\n",
       "      <th>por_NON</th>\n",
       "      <th>recc</th>\n",
       "      <th>avg_no_it</th>\n",
       "      <th>age</th>\n",
       "      <th>dis</th>\n",
       "      <th>diff_reg</th>\n",
       "      <th>tax</th>\n",
       "      <th>bk</th>\n",
       "      <th>lowstat</th>\n",
       "      <th>Median_s</th>\n",
       "    </tr>\n",
       "  </thead>\n",
       "  <tbody>\n",
       "    <tr>\n",
       "      <th>0</th>\n",
       "      <td>0.63</td>\n",
       "      <td>18.0</td>\n",
       "      <td>2.31</td>\n",
       "      <td>0</td>\n",
       "      <td>6.575</td>\n",
       "      <td>65.2</td>\n",
       "      <td>4.0900</td>\n",
       "      <td>1</td>\n",
       "      <td>296</td>\n",
       "      <td>396.90</td>\n",
       "      <td>4.98</td>\n",
       "      <td>24.0</td>\n",
       "    </tr>\n",
       "    <tr>\n",
       "      <th>1</th>\n",
       "      <td>2.73</td>\n",
       "      <td>0.0</td>\n",
       "      <td>7.07</td>\n",
       "      <td>0</td>\n",
       "      <td>6.421</td>\n",
       "      <td>78.9</td>\n",
       "      <td>4.9671</td>\n",
       "      <td>2</td>\n",
       "      <td>242</td>\n",
       "      <td>396.90</td>\n",
       "      <td>9.14</td>\n",
       "      <td>21.6</td>\n",
       "    </tr>\n",
       "    <tr>\n",
       "      <th>2</th>\n",
       "      <td>2.73</td>\n",
       "      <td>0.0</td>\n",
       "      <td>7.07</td>\n",
       "      <td>0</td>\n",
       "      <td>7.185</td>\n",
       "      <td>61.1</td>\n",
       "      <td>4.9671</td>\n",
       "      <td>2</td>\n",
       "      <td>242</td>\n",
       "      <td>392.83</td>\n",
       "      <td>4.03</td>\n",
       "      <td>34.7</td>\n",
       "    </tr>\n",
       "    <tr>\n",
       "      <th>3</th>\n",
       "      <td>3.24</td>\n",
       "      <td>0.0</td>\n",
       "      <td>2.18</td>\n",
       "      <td>0</td>\n",
       "      <td>6.998</td>\n",
       "      <td>45.8</td>\n",
       "      <td>6.0622</td>\n",
       "      <td>3</td>\n",
       "      <td>222</td>\n",
       "      <td>394.63</td>\n",
       "      <td>2.94</td>\n",
       "      <td>33.4</td>\n",
       "    </tr>\n",
       "    <tr>\n",
       "      <th>4</th>\n",
       "      <td>6.91</td>\n",
       "      <td>0.0</td>\n",
       "      <td>2.18</td>\n",
       "      <td>0</td>\n",
       "      <td>7.147</td>\n",
       "      <td>54.2</td>\n",
       "      <td>6.0622</td>\n",
       "      <td>3</td>\n",
       "      <td>222</td>\n",
       "      <td>396.90</td>\n",
       "      <td>5.33</td>\n",
       "      <td>36.2</td>\n",
       "    </tr>\n",
       "    <tr>\n",
       "      <th>...</th>\n",
       "      <td>...</td>\n",
       "      <td>...</td>\n",
       "      <td>...</td>\n",
       "      <td>...</td>\n",
       "      <td>...</td>\n",
       "      <td>...</td>\n",
       "      <td>...</td>\n",
       "      <td>...</td>\n",
       "      <td>...</td>\n",
       "      <td>...</td>\n",
       "      <td>...</td>\n",
       "      <td>...</td>\n",
       "    </tr>\n",
       "    <tr>\n",
       "      <th>501</th>\n",
       "      <td>6.26</td>\n",
       "      <td>0.0</td>\n",
       "      <td>11.93</td>\n",
       "      <td>0</td>\n",
       "      <td>6.593</td>\n",
       "      <td>69.1</td>\n",
       "      <td>2.4786</td>\n",
       "      <td>1</td>\n",
       "      <td>273</td>\n",
       "      <td>391.99</td>\n",
       "      <td>9.67</td>\n",
       "      <td>22.4</td>\n",
       "    </tr>\n",
       "    <tr>\n",
       "      <th>502</th>\n",
       "      <td>4.53</td>\n",
       "      <td>0.0</td>\n",
       "      <td>11.93</td>\n",
       "      <td>0</td>\n",
       "      <td>6.120</td>\n",
       "      <td>76.7</td>\n",
       "      <td>2.2875</td>\n",
       "      <td>1</td>\n",
       "      <td>273</td>\n",
       "      <td>396.90</td>\n",
       "      <td>9.08</td>\n",
       "      <td>20.6</td>\n",
       "    </tr>\n",
       "    <tr>\n",
       "      <th>503</th>\n",
       "      <td>6.08</td>\n",
       "      <td>0.0</td>\n",
       "      <td>11.93</td>\n",
       "      <td>0</td>\n",
       "      <td>6.976</td>\n",
       "      <td>91.0</td>\n",
       "      <td>2.1675</td>\n",
       "      <td>1</td>\n",
       "      <td>273</td>\n",
       "      <td>396.90</td>\n",
       "      <td>5.64</td>\n",
       "      <td>23.9</td>\n",
       "    </tr>\n",
       "    <tr>\n",
       "      <th>504</th>\n",
       "      <td>10.96</td>\n",
       "      <td>0.0</td>\n",
       "      <td>11.93</td>\n",
       "      <td>0</td>\n",
       "      <td>6.794</td>\n",
       "      <td>89.3</td>\n",
       "      <td>2.3889</td>\n",
       "      <td>1</td>\n",
       "      <td>273</td>\n",
       "      <td>393.45</td>\n",
       "      <td>6.48</td>\n",
       "      <td>22.0</td>\n",
       "    </tr>\n",
       "    <tr>\n",
       "      <th>505</th>\n",
       "      <td>4.74</td>\n",
       "      <td>0.0</td>\n",
       "      <td>11.93</td>\n",
       "      <td>0</td>\n",
       "      <td>6.030</td>\n",
       "      <td>80.8</td>\n",
       "      <td>2.5050</td>\n",
       "      <td>1</td>\n",
       "      <td>273</td>\n",
       "      <td>396.90</td>\n",
       "      <td>7.88</td>\n",
       "      <td>11.9</td>\n",
       "    </tr>\n",
       "  </tbody>\n",
       "</table>\n",
       "<p>506 rows × 12 columns</p>\n",
       "</div>"
      ],
      "text/plain": [
       "      Sale  por_OS  por_NON  recc  avg_no_it   age     dis  diff_reg  tax  \\\n",
       "0     0.63    18.0     2.31     0      6.575  65.2  4.0900         1  296   \n",
       "1     2.73     0.0     7.07     0      6.421  78.9  4.9671         2  242   \n",
       "2     2.73     0.0     7.07     0      7.185  61.1  4.9671         2  242   \n",
       "3     3.24     0.0     2.18     0      6.998  45.8  6.0622         3  222   \n",
       "4     6.91     0.0     2.18     0      7.147  54.2  6.0622         3  222   \n",
       "..     ...     ...      ...   ...        ...   ...     ...       ...  ...   \n",
       "501   6.26     0.0    11.93     0      6.593  69.1  2.4786         1  273   \n",
       "502   4.53     0.0    11.93     0      6.120  76.7  2.2875         1  273   \n",
       "503   6.08     0.0    11.93     0      6.976  91.0  2.1675         1  273   \n",
       "504  10.96     0.0    11.93     0      6.794  89.3  2.3889         1  273   \n",
       "505   4.74     0.0    11.93     0      6.030  80.8  2.5050         1  273   \n",
       "\n",
       "         bk  lowstat  Median_s  \n",
       "0    396.90     4.98      24.0  \n",
       "1    396.90     9.14      21.6  \n",
       "2    392.83     4.03      34.7  \n",
       "3    394.63     2.94      33.4  \n",
       "4    396.90     5.33      36.2  \n",
       "..      ...      ...       ...  \n",
       "501  391.99     9.67      22.4  \n",
       "502  396.90     9.08      20.6  \n",
       "503  396.90     5.64      23.9  \n",
       "504  393.45     6.48      22.0  \n",
       "505  396.90     7.88      11.9  \n",
       "\n",
       "[506 rows x 12 columns]"
      ]
     },
     "execution_count": 20,
     "metadata": {},
     "output_type": "execute_result"
    }
   ],
   "source": [
    "# Import the data set.\n",
    "df_ecom = pd.read_csv('Ecommerce_data.csv')\n",
    "\n",
    "# View the DataFrame.\n",
    "df_ecom"
   ]
  },
  {
   "cell_type": "code",
   "execution_count": 21,
   "id": "f6d264a5",
   "metadata": {},
   "outputs": [
    {
     "name": "stdout",
     "output_type": "stream",
     "text": [
      "<class 'pandas.core.frame.DataFrame'>\n",
      "RangeIndex: 506 entries, 0 to 505\n",
      "Data columns (total 12 columns):\n",
      " #   Column     Non-Null Count  Dtype  \n",
      "---  ------     --------------  -----  \n",
      " 0   Sale       506 non-null    float64\n",
      " 1   por_OS     506 non-null    float64\n",
      " 2   por_NON    506 non-null    float64\n",
      " 3   recc       506 non-null    int64  \n",
      " 4   avg_no_it  506 non-null    float64\n",
      " 5   age        506 non-null    float64\n",
      " 6   dis        506 non-null    float64\n",
      " 7   diff_reg   506 non-null    int64  \n",
      " 8   tax        506 non-null    int64  \n",
      " 9   bk         506 non-null    float64\n",
      " 10  lowstat    506 non-null    float64\n",
      " 11  Median_s   506 non-null    float64\n",
      "dtypes: float64(9), int64(3)\n",
      "memory usage: 47.6 KB\n"
     ]
    }
   ],
   "source": [
    "# View the metadata.\n",
    "df_ecom.info()"
   ]
  },
  {
   "cell_type": "code",
   "execution_count": 22,
   "id": "d5d5933a",
   "metadata": {},
   "outputs": [],
   "source": [
    "# Define the variables\n",
    "# Dependent variables.\n",
    "y = df_ecom['Median_s'] \n",
    "X = df_ecom[['avg_no_it', 'tax']] "
   ]
  },
  {
   "cell_type": "code",
   "execution_count": 23,
   "id": "3f0db28e",
   "metadata": {},
   "outputs": [],
   "source": [
    "# Create train and test data sets.\n",
    "x_train, x_test, y_train, y_test = train_test_split(X, y, test_size=0.2, random_state=5)"
   ]
  },
  {
   "cell_type": "code",
   "execution_count": 24,
   "id": "9ae2f714",
   "metadata": {},
   "outputs": [
    {
     "data": {
      "text/plain": [
       "LinearRegression()"
      ]
     },
     "execution_count": 24,
     "metadata": {},
     "output_type": "execute_result"
    }
   ],
   "source": [
    "# Specify the model.\n",
    "multi = LinearRegression()  \n",
    "multi.fit(x_train, y_train)"
   ]
  },
  {
   "cell_type": "code",
   "execution_count": 25,
   "id": "440a3838",
   "metadata": {},
   "outputs": [
    {
     "data": {
      "text/plain": [
       "array([19.68077167, 38.76268832, 15.79429553, 23.49922927, 19.2739039 ,\n",
       "        8.11113341, 22.59791218, 14.06288888, 26.39447012, 21.86039213,\n",
       "       19.79545594, 30.26529047, 21.22777796, 21.44808858, 20.79264432,\n",
       "       23.45370907, 21.97392517, 18.46339447, 23.11847005, 34.4541126 ,\n",
       "       25.78072075, 19.76882387, 23.04084157, 26.82686538, 17.75595394,\n",
       "       22.13454223, 20.1246662 , 37.45556138, 34.46353646, 25.41954164,\n",
       "       14.71226966, 21.05474884, 20.37149849, 22.93705789, 11.66858537,\n",
       "        5.63570732, 25.934629  , 26.27064708, 22.2364656 , 21.61934447,\n",
       "       17.77360377, 18.96641292, 31.56527838, 15.15597811, 26.66444607,\n",
       "       20.36881247, 24.43706724, 23.85868181, 18.76614735, 24.03793148,\n",
       "       19.70204364, 17.6314042 , 21.96729204, 33.05748004, 11.14180696,\n",
       "       25.42261122, 31.1691132 , 31.06150421, 21.95950768, 28.04224855,\n",
       "       18.54177868, 31.03384325, 24.53573494, 19.40072084, 20.55261985,\n",
       "       21.02538463, 30.45308592, -2.85702811, 24.909733  , 19.05594186,\n",
       "       17.05358842, 21.07872391, 22.54333459, 12.74517546, 19.53717674,\n",
       "       29.52410786, 22.68984204, 16.15237603, 31.01355975, 36.30385414,\n",
       "       21.09084518, 23.29169095,  8.0566429 , 21.41668368, 32.02703216,\n",
       "       19.22719775, 32.86618479, 24.12806479, 17.86720216, 21.38031987,\n",
       "       22.03620004, 24.877491  , 28.85074631, 17.86493496, 22.91933239,\n",
       "       27.25260989, 22.86244664, 24.32851643, 29.30614581, 17.56912933,\n",
       "       28.19548814, 25.86720913, 12.39253074, 32.57945417, 25.64924709,\n",
       "       19.28168826, 29.81948328, 21.79603615, 23.73407972, 26.05492321,\n",
       "       20.74475221, 20.36043514, 21.55432553, 25.06625729, 23.39089358,\n",
       "       29.27659552, 22.76119763, 20.71609139,  1.6345469 , 13.66138122,\n",
       "       23.51369342, 15.12484067, 25.36408029, 21.8167032 , 17.56912933,\n",
       "       27.54071254, 34.54472279, 17.42901087, 18.88676707, 24.68964319,\n",
       "       19.52300339, 26.01901864, 22.1202932 , 23.95161154, 14.86017247,\n",
       "       24.87956641, 13.22545713, 22.01284696, 29.10550239, 22.6549897 ,\n",
       "       21.93045136, 19.08707929, 20.43628469, 37.66611693, 23.01522699,\n",
       "       17.39305965, 15.25973276, 23.78482629, 18.2255268 , 23.6555908 ,\n",
       "       25.41873355, 19.47064634, 32.32898265, 13.38892867, 23.89994648,\n",
       "       18.5577429 , 39.21649498, 25.04117764, 24.25673633, 24.40614491,\n",
       "       30.00924374, 26.35000213, 21.29919159, 22.79863698, 35.45215002,\n",
       "       21.3879705 , 32.29725224, 27.38120005, 20.55261985, 29.26692753,\n",
       "       21.11489594, 17.86012118, 18.4936948 , 19.71761236, 26.62832639,\n",
       "       15.78885974, 19.28947262, 26.24077698, 26.30526099, 27.78008598,\n",
       "       22.47233924, 17.70146343, 27.89504911, 27.2207981 , 21.44030422,\n",
       "       24.99619806, 22.64313589, 28.74588709, 27.18123098, 23.23436929,\n",
       "       18.47211495, 18.66102067, 17.00087114, 25.65196783, 12.51708048,\n",
       "       31.96010056, 38.62181413, 13.89491199, 10.71110924, 29.72598959,\n",
       "       29.08125985, 20.4907752 , 23.93281049, 21.9384218 , 19.20384468,\n",
       "       19.43737544, 26.34988604, 31.66647505, 19.4786458 , 22.04726909,\n",
       "       19.32839442, 20.78054638, 21.60781617, 29.68798059, 18.48340481,\n",
       "       19.883165  , 17.39008908, 28.88298832, 43.76140359, 20.91202004,\n",
       "       23.91635231, 19.50743467, 28.92360766, 23.44454698, 16.75955602,\n",
       "       26.40651001, 19.50199888, 15.62303964, 21.18107181, 15.63082399,\n",
       "       16.29484306, 18.94279238, 22.34781853, 33.86966369, 29.28774595,\n",
       "       19.76103951, 14.09965389, 34.15550485, 23.98827184, 19.42781785,\n",
       "       19.02906565, 18.08289701, 29.19554862, 27.39787334, 22.26299866,\n",
       "       13.89491199, 28.31664279, 25.28712616, 14.59550428, 25.25219244,\n",
       "       19.08707929, 30.60583724, 17.81044445, 18.83797981, 23.56543416,\n",
       "       21.22913236, 25.18218556, 24.78496815, 32.07708105, 27.39353643,\n",
       "       21.58585846, 23.11367389, 22.55021185, 27.00049318, 23.75769456,\n",
       "       26.84025398, 29.41122015, 21.61129265, 15.75537373, 22.38221163,\n",
       "       22.54703187, 24.64051279, 32.73904804, -0.50615176, 21.94529337,\n",
       "       24.76455093, 20.81039315, 43.22067263, 22.94516776, 21.64412763,\n",
       "       27.25495276, 25.30444478, 24.84610943, 14.25299249, 25.69088962,\n",
       "       37.61464365, 39.49974913, 12.47815869, 18.79905802, 21.22234217,\n",
       "       20.94458756, 24.38822762, 32.10043413, 32.09251604, 12.74282689,\n",
       "       17.92239605, 19.90443697,  3.42494942, 23.82684669, 16.93081191,\n",
       "       26.43869966, 11.8709787 , 22.21639152, 18.85673421, 22.29874047,\n",
       "       21.61907701, 22.56876878, 40.20034142, 22.6777498 ,  1.6345469 ,\n",
       "       14.15958018, 13.14761354, 26.60537451, 25.42673302, 11.3805641 ,\n",
       "       20.12239901, 29.29224562, 22.20217721, 19.28737957, 18.44097751,\n",
       "       22.75559339, 24.55254196, 21.50231162, 16.52602525, 32.04535064,\n",
       "       27.51353415, 26.63573289,  9.55123979, 18.35182644, 22.32397718,\n",
       "       25.76690193,  8.34466417, 28.25784439, 23.66428226, 20.06279822,\n",
       "       40.59316956, 27.92093115, 15.25973276, 22.52989934, 37.76954037,\n",
       "       17.77930702, 22.48707085, 18.55680678, 21.44574   , 28.77680942,\n",
       "       12.0757206 , 19.58741172, 22.37313661, 25.56633988, 33.0890477 ,\n",
       "       23.86450116, 14.27634557, 31.503922  , 18.08289701, 19.29960555,\n",
       "       22.26523114,  7.41054112, 34.35849115, 26.47115678, 26.74759741,\n",
       "       18.59666469, 11.89668035, 21.81373833, 22.18822466, 10.50093156,\n",
       "       20.05660101, 29.21413457, 11.16260205, 23.41340955, 22.30980383,\n",
       "       22.71799128, 17.54034047, 23.84815338, 23.10766846, 15.55298041,\n",
       "       19.77418397, 22.61339382, 23.77445493, 37.79198635, 21.6511039 ,\n",
       "       23.75729906, 22.37415981, 28.09332064, 17.31224549, 20.67735568,\n",
       "       14.97693786, 39.20095529, 23.28169745, 22.99779797, 20.94988961,\n",
       "       19.28395546, 21.24334668, 18.7834893 , 32.99980954, 35.13272385,\n",
       "       19.07035935, 23.94821645, 16.02782629, 18.96479675, 17.01643986,\n",
       "       29.7424711 , 18.06380516, 25.03729997, 21.06792232])"
      ]
     },
     "execution_count": 25,
     "metadata": {},
     "output_type": "execute_result"
    }
   ],
   "source": [
    "multi.predict(x_train)"
   ]
  },
  {
   "cell_type": "code",
   "execution_count": 26,
   "id": "2930d34b",
   "metadata": {},
   "outputs": [
    {
     "name": "stdout",
     "output_type": "stream",
     "text": [
      "R-squared:  0.516326158853115\n",
      "Intercept:  -19.670179474543467\n",
      "Coefficients:\n"
     ]
    },
    {
     "data": {
      "text/plain": [
       "[('avg_no_it', 7.784358782154019), ('tax', -0.016376802195044216)]"
      ]
     },
     "execution_count": 26,
     "metadata": {},
     "output_type": "execute_result"
    }
   ],
   "source": [
    "# Checking the value of R-squared, intercept and coefficients.\n",
    "print(\"R-squared: \", multi.score(x_train, y_train))\n",
    "print(\"Intercept: \", multi.intercept_)\n",
    "print(\"Coefficients:\")\n",
    "list(zip(x_train, multi.coef_))"
   ]
  },
  {
   "cell_type": "code",
   "execution_count": 27,
   "id": "de4479ed",
   "metadata": {},
   "outputs": [
    {
     "name": "stdout",
     "output_type": "stream",
     "text": [
      "Predicted Value: \n",
      " [24.84095613]\n"
     ]
    }
   ],
   "source": [
    "# Make predictions.\n",
    "New_Value1 = 5.75\n",
    "New_Value2 = 15.2\n",
    "print ('Predicted Value: \\n', multi.predict([[New_Value1 ,New_Value2]]))  "
   ]
  },
  {
   "cell_type": "code",
   "execution_count": 28,
   "id": "2ed6b09f",
   "metadata": {},
   "outputs": [
    {
     "name": "stdout",
     "output_type": "stream",
     "text": [
      "                            OLS Regression Results                            \n",
      "==============================================================================\n",
      "Dep. Variable:               Median_s   R-squared:                       0.516\n",
      "Model:                            OLS   Adj. R-squared:                  0.514\n",
      "Method:                 Least Squares   F-statistic:                     214.0\n",
      "Date:                Sat, 23 Jul 2022   Prob (F-statistic):           5.66e-64\n",
      "Time:                        19:42:50   Log-Likelihood:                -1326.1\n",
      "No. Observations:                 404   AIC:                             2658.\n",
      "Df Residuals:                     401   BIC:                             2670.\n",
      "Df Model:                           2                                         \n",
      "Covariance Type:            nonrobust                                         \n",
      "==============================================================================\n",
      "                 coef    std err          t      P>|t|      [0.025      0.975]\n",
      "------------------------------------------------------------------------------\n",
      "const        -19.6702      3.347     -5.877      0.000     -26.250     -13.091\n",
      "avg_no_it      7.7844      0.482     16.156      0.000       6.837       8.732\n",
      "tax           -0.0164      0.002     -8.257      0.000      -0.020      -0.012\n",
      "==============================================================================\n",
      "Omnibus:                      216.200   Durbin-Watson:                   2.110\n",
      "Prob(Omnibus):                  0.000   Jarque-Bera (JB):             1876.960\n",
      "Skew:                           2.121   Prob(JB):                         0.00\n",
      "Kurtosis:                      12.670   Cond. No.                     4.61e+03\n",
      "==============================================================================\n",
      "\n",
      "Notes:\n",
      "[1] Standard Errors assume that the covariance matrix of the errors is correctly specified.\n",
      "[2] The condition number is large, 4.61e+03. This might indicate that there are\n",
      "strong multicollinearity or other numerical problems.\n"
     ]
    }
   ],
   "source": [
    "# Training and testing subsets with MLR\n",
    "model = sm.OLS(y_train, sm.add_constant(x_train)).fit()\n",
    "Y_pred = model.predict(sm.add_constant(x_train))\n",
    "print_model = model.summary()\n",
    "\n",
    "print(print_model)"
   ]
  },
  {
   "cell_type": "code",
   "execution_count": 29,
   "id": "2fcb0146",
   "metadata": {},
   "outputs": [
    {
     "name": "stdout",
     "output_type": "stream",
     "text": [
      "51.632615885311495\n"
     ]
    }
   ],
   "source": [
    "print(multi.score(x_train,y_train)*100)\n",
    "# R squared expressed as % "
   ]
  },
  {
   "cell_type": "markdown",
   "id": "8adf07e9",
   "metadata": {},
   "source": [
    "#### Check the model with OLS"
   ]
  },
  {
   "cell_type": "code",
   "execution_count": 30,
   "id": "59f4d910",
   "metadata": {},
   "outputs": [
    {
     "data": {
      "text/plain": [
       "LinearRegression()"
      ]
     },
     "execution_count": 30,
     "metadata": {},
     "output_type": "execute_result"
    }
   ],
   "source": [
    "# Run regression on the train subset.\n",
    "mlr = LinearRegression()  \n",
    "mlr.fit(x_train, y_train)"
   ]
  },
  {
   "cell_type": "code",
   "execution_count": 31,
   "id": "8f3528a6",
   "metadata": {},
   "outputs": [
    {
     "name": "stdout",
     "output_type": "stream",
     "text": [
      "                            OLS Regression Results                            \n",
      "==============================================================================\n",
      "Dep. Variable:               Median_s   R-squared:                       0.516\n",
      "Model:                            OLS   Adj. R-squared:                  0.514\n",
      "Method:                 Least Squares   F-statistic:                     214.0\n",
      "Date:                Sat, 23 Jul 2022   Prob (F-statistic):           5.66e-64\n",
      "Time:                        19:44:41   Log-Likelihood:                -1326.1\n",
      "No. Observations:                 404   AIC:                             2658.\n",
      "Df Residuals:                     401   BIC:                             2670.\n",
      "Df Model:                           2                                         \n",
      "Covariance Type:            nonrobust                                         \n",
      "==============================================================================\n",
      "                 coef    std err          t      P>|t|      [0.025      0.975]\n",
      "------------------------------------------------------------------------------\n",
      "const        -19.6702      3.347     -5.877      0.000     -26.250     -13.091\n",
      "avg_no_it      7.7844      0.482     16.156      0.000       6.837       8.732\n",
      "tax           -0.0164      0.002     -8.257      0.000      -0.020      -0.012\n",
      "==============================================================================\n",
      "Omnibus:                      216.200   Durbin-Watson:                   2.110\n",
      "Prob(Omnibus):                  0.000   Jarque-Bera (JB):             1876.960\n",
      "Skew:                           2.121   Prob(JB):                         0.00\n",
      "Kurtosis:                      12.670   Cond. No.                     4.61e+03\n",
      "==============================================================================\n",
      "\n",
      "Notes:\n",
      "[1] Standard Errors assume that the covariance matrix of the errors is correctly specified.\n",
      "[2] The condition number is large, 4.61e+03. This might indicate that there are\n",
      "strong multicollinearity or other numerical problems.\n"
     ]
    }
   ],
   "source": [
    "model = sm.OLS(y_train, sm.add_constant(x_train)).fit()\n",
    "Y_pred = model.predict(sm.add_constant(x_train))\n",
    "print_model = model.summary()\n",
    "print(print_model)"
   ]
  },
  {
   "cell_type": "code",
   "execution_count": 32,
   "id": "6ad397df",
   "metadata": {},
   "outputs": [
    {
     "name": "stdout",
     "output_type": "stream",
     "text": [
      "Prediction for test set: [19.68077167 38.76268832 15.79429553 23.49922927 19.2739039   8.11113341\n",
      " 22.59791218 14.06288888 26.39447012 21.86039213 19.79545594 30.26529047\n",
      " 21.22777796 21.44808858 20.79264432 23.45370907 21.97392517 18.46339447\n",
      " 23.11847005 34.4541126  25.78072075 19.76882387 23.04084157 26.82686538\n",
      " 17.75595394 22.13454223 20.1246662  37.45556138 34.46353646 25.41954164\n",
      " 14.71226966 21.05474884 20.37149849 22.93705789 11.66858537  5.63570732\n",
      " 25.934629   26.27064708 22.2364656  21.61934447 17.77360377 18.96641292\n",
      " 31.56527838 15.15597811 26.66444607 20.36881247 24.43706724 23.85868181\n",
      " 18.76614735 24.03793148 19.70204364 17.6314042  21.96729204 33.05748004\n",
      " 11.14180696 25.42261122 31.1691132  31.06150421 21.95950768 28.04224855\n",
      " 18.54177868 31.03384325 24.53573494 19.40072084 20.55261985 21.02538463\n",
      " 30.45308592 -2.85702811 24.909733   19.05594186 17.05358842 21.07872391\n",
      " 22.54333459 12.74517546 19.53717674 29.52410786 22.68984204 16.15237603\n",
      " 31.01355975 36.30385414 21.09084518 23.29169095  8.0566429  21.41668368\n",
      " 32.02703216 19.22719775 32.86618479 24.12806479 17.86720216 21.38031987\n",
      " 22.03620004 24.877491   28.85074631 17.86493496 22.91933239 27.25260989\n",
      " 22.86244664 24.32851643 29.30614581 17.56912933 28.19548814 25.86720913\n",
      " 12.39253074 32.57945417 25.64924709 19.28168826 29.81948328 21.79603615\n",
      " 23.73407972 26.05492321 20.74475221 20.36043514 21.55432553 25.06625729\n",
      " 23.39089358 29.27659552 22.76119763 20.71609139  1.6345469  13.66138122\n",
      " 23.51369342 15.12484067 25.36408029 21.8167032  17.56912933 27.54071254\n",
      " 34.54472279 17.42901087 18.88676707 24.68964319 19.52300339 26.01901864\n",
      " 22.1202932  23.95161154 14.86017247 24.87956641 13.22545713 22.01284696\n",
      " 29.10550239 22.6549897  21.93045136 19.08707929 20.43628469 37.66611693\n",
      " 23.01522699 17.39305965 15.25973276 23.78482629 18.2255268  23.6555908\n",
      " 25.41873355 19.47064634 32.32898265 13.38892867 23.89994648 18.5577429\n",
      " 39.21649498 25.04117764 24.25673633 24.40614491 30.00924374 26.35000213\n",
      " 21.29919159 22.79863698 35.45215002 21.3879705  32.29725224 27.38120005\n",
      " 20.55261985 29.26692753 21.11489594 17.86012118 18.4936948  19.71761236\n",
      " 26.62832639 15.78885974 19.28947262 26.24077698 26.30526099 27.78008598\n",
      " 22.47233924 17.70146343 27.89504911 27.2207981  21.44030422 24.99619806\n",
      " 22.64313589 28.74588709 27.18123098 23.23436929 18.47211495 18.66102067\n",
      " 17.00087114 25.65196783 12.51708048 31.96010056 38.62181413 13.89491199\n",
      " 10.71110924 29.72598959 29.08125985 20.4907752  23.93281049 21.9384218\n",
      " 19.20384468 19.43737544 26.34988604 31.66647505 19.4786458  22.04726909\n",
      " 19.32839442 20.78054638 21.60781617 29.68798059 18.48340481 19.883165\n",
      " 17.39008908 28.88298832 43.76140359 20.91202004 23.91635231 19.50743467\n",
      " 28.92360766 23.44454698 16.75955602 26.40651001 19.50199888 15.62303964\n",
      " 21.18107181 15.63082399 16.29484306 18.94279238 22.34781853 33.86966369\n",
      " 29.28774595 19.76103951 14.09965389 34.15550485 23.98827184 19.42781785\n",
      " 19.02906565 18.08289701 29.19554862 27.39787334 22.26299866 13.89491199\n",
      " 28.31664279 25.28712616 14.59550428 25.25219244 19.08707929 30.60583724\n",
      " 17.81044445 18.83797981 23.56543416 21.22913236 25.18218556 24.78496815\n",
      " 32.07708105 27.39353643 21.58585846 23.11367389 22.55021185 27.00049318\n",
      " 23.75769456 26.84025398 29.41122015 21.61129265 15.75537373 22.38221163\n",
      " 22.54703187 24.64051279 32.73904804 -0.50615176 21.94529337 24.76455093\n",
      " 20.81039315 43.22067263 22.94516776 21.64412763 27.25495276 25.30444478\n",
      " 24.84610943 14.25299249 25.69088962 37.61464365 39.49974913 12.47815869\n",
      " 18.79905802 21.22234217 20.94458756 24.38822762 32.10043413 32.09251604\n",
      " 12.74282689 17.92239605 19.90443697  3.42494942 23.82684669 16.93081191\n",
      " 26.43869966 11.8709787  22.21639152 18.85673421 22.29874047 21.61907701\n",
      " 22.56876878 40.20034142 22.6777498   1.6345469  14.15958018 13.14761354\n",
      " 26.60537451 25.42673302 11.3805641  20.12239901 29.29224562 22.20217721\n",
      " 19.28737957 18.44097751 22.75559339 24.55254196 21.50231162 16.52602525\n",
      " 32.04535064 27.51353415 26.63573289  9.55123979 18.35182644 22.32397718\n",
      " 25.76690193  8.34466417 28.25784439 23.66428226 20.06279822 40.59316956\n",
      " 27.92093115 15.25973276 22.52989934 37.76954037 17.77930702 22.48707085\n",
      " 18.55680678 21.44574    28.77680942 12.0757206  19.58741172 22.37313661\n",
      " 25.56633988 33.0890477  23.86450116 14.27634557 31.503922   18.08289701\n",
      " 19.29960555 22.26523114  7.41054112 34.35849115 26.47115678 26.74759741\n",
      " 18.59666469 11.89668035 21.81373833 22.18822466 10.50093156 20.05660101\n",
      " 29.21413457 11.16260205 23.41340955 22.30980383 22.71799128 17.54034047\n",
      " 23.84815338 23.10766846 15.55298041 19.77418397 22.61339382 23.77445493\n",
      " 37.79198635 21.6511039  23.75729906 22.37415981 28.09332064 17.31224549\n",
      " 20.67735568 14.97693786 39.20095529 23.28169745 22.99779797 20.94988961\n",
      " 19.28395546 21.24334668 18.7834893  32.99980954 35.13272385 19.07035935\n",
      " 23.94821645 16.02782629 18.96479675 17.01643986 29.7424711  18.06380516\n",
      " 25.03729997 21.06792232]\n"
     ]
    }
   ],
   "source": [
    "y_pred_mlr= mlr.predict(x_train)\n",
    "print(\"Prediction for test set: {}\".format(y_pred_mlr))"
   ]
  },
  {
   "cell_type": "code",
   "execution_count": 33,
   "id": "8301b2c7",
   "metadata": {},
   "outputs": [
    {
     "name": "stdout",
     "output_type": "stream",
     "text": [
      "51.632615885311495\n"
     ]
    }
   ],
   "source": [
    "print(mlr.score(x_train,y_train)*100)"
   ]
  },
  {
   "cell_type": "code",
   "execution_count": 34,
   "id": "dfec3412",
   "metadata": {},
   "outputs": [
    {
     "name": "stdout",
     "output_type": "stream",
     "text": [
      "R squared: 56.03\n",
      "Mean Absolute Error: 4.257056211181979\n",
      "Mean Square Error: 41.54840402298601\n"
     ]
    }
   ],
   "source": [
    "meanAbErr = metrics.mean_absolute_error(y_train, y_pred_mlr)\n",
    "meanSqErr = metrics.mean_squared_error(y_train, y_pred_mlr)\n",
    "\n",
    "print('R squared: {:.2f}'.format(mlr.score(X,y)*100))\n",
    "print('Mean Absolute Error:', meanAbErr)\n",
    "print('Mean Square Error:', meanSqErr)"
   ]
  },
  {
   "cell_type": "code",
   "execution_count": 35,
   "id": "c9ac98ad",
   "metadata": {},
   "outputs": [
    {
     "name": "stdout",
     "output_type": "stream",
     "text": [
      "Predicted Value: \n",
      " [24.84095613]\n"
     ]
    }
   ],
   "source": [
    "New_Value1 = 5.75\n",
    "New_Value2 = 15.2\n",
    "print (\"Predicted Value: \\n\", mlr.predict([[New_Value1 ,New_Value2]])) "
   ]
  },
  {
   "cell_type": "code",
   "execution_count": 37,
   "id": "5d9c310b",
   "metadata": {},
   "outputs": [
    {
     "name": "stdout",
     "output_type": "stream",
     "text": [
      "   VIF Factor   features\n",
      "0       108.1      const\n",
      "1         1.1  avg_no_it\n",
      "2         1.1        tax\n"
     ]
    }
   ],
   "source": [
    "# Check multicollinearity.\n",
    "x_temp = sm.add_constant(x_train)\n",
    "\n",
    "vif = pd.DataFrame()\n",
    "vif['VIF Factor'] = [variance_inflation_factor(x_temp.values, i) for i in range\n",
    "                     (x_temp.values.shape[1])]\n",
    "vif['features'] = x_temp.columns\n",
    "print(vif.round(1))"
   ]
  },
  {
   "cell_type": "code",
   "execution_count": 38,
   "id": "a7cb5546",
   "metadata": {},
   "outputs": [],
   "source": [
    "# Heteroscedasticity?\n",
    "model = sms.het_breuschpagan(model.resid, model.model.exog) "
   ]
  },
  {
   "cell_type": "code",
   "execution_count": 39,
   "id": "d40958ce",
   "metadata": {},
   "outputs": [
    {
     "name": "stdout",
     "output_type": "stream",
     "text": [
      "{'LM stat': 25.71361477472052, 'LM Test p-value': 2.6083117438457607e-06, 'F-stat': 13.62877429295051, 'F-test p-value': 1.8775385253290402e-06}\n"
     ]
    }
   ],
   "source": [
    "terms = ['LM stat', 'LM Test p-value', 'F-stat', 'F-test p-value']\n",
    "print(dict(zip(terms, model)))"
   ]
  },
  {
   "cell_type": "markdown",
   "id": "49cf793f",
   "metadata": {},
   "source": [
    "`Note:` We always fit the model to train data and evaluate the performance of the model using the test data. We predict the test data and compare the predictions with actual test values.\n",
    "- rerun the model on the test data and jot down your observation."
   ]
  },
  {
   "cell_type": "code",
   "execution_count": null,
   "id": "51b01217",
   "metadata": {},
   "outputs": [],
   "source": []
  },
  {
   "cell_type": "code",
   "execution_count": null,
   "id": "a07cea65",
   "metadata": {},
   "outputs": [],
   "source": []
  }
 ],
 "metadata": {
  "kernelspec": {
   "display_name": "Python 3 (ipykernel)",
   "language": "python",
   "name": "python3"
  },
  "language_info": {
   "codemirror_mode": {
    "name": "ipython",
    "version": 3
   },
   "file_extension": ".py",
   "mimetype": "text/x-python",
   "name": "python",
   "nbconvert_exporter": "python",
   "pygments_lexer": "ipython3",
   "version": "3.9.12"
  }
 },
 "nbformat": 4,
 "nbformat_minor": 5
}
