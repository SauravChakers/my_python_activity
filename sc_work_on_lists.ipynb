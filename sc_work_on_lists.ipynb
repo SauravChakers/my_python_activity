{
 "cells": [
  {
   "cell_type": "code",
   "execution_count": 2,
   "id": "e1cebc7b",
   "metadata": {},
   "outputs": [
    {
     "name": "stdout",
     "output_type": "stream",
     "text": [
      "['python', 'java', 'ruby']\n"
     ]
    }
   ],
   "source": [
    "#Example of creating a list\n",
    "#Notice the use of square brackets[]\n",
    "newlist = ['python', 'java', 'ruby']\n",
    "print(newlist)"
   ]
  },
  {
   "cell_type": "code",
   "execution_count": 4,
   "id": "682f6f31",
   "metadata": {},
   "outputs": [
    {
     "name": "stdout",
     "output_type": "stream",
     "text": [
      "['cat', 12, 15.2, 14.33333]\n"
     ]
    }
   ],
   "source": [
    "#This is a new list with mixed data types such as string, integer and float\n",
    "list2 = ['cat', 12, 15.2, 14.33333]\n",
    "print(list2)"
   ]
  },
  {
   "cell_type": "code",
   "execution_count": 5,
   "id": "cbb6b34b",
   "metadata": {},
   "outputs": [
    {
     "name": "stdout",
     "output_type": "stream",
     "text": [
      "['apple', 'banana', 'james', 5, 2, 4, 6, 8, 10.2, 4, 'banana', 'james']\n"
     ]
    }
   ],
   "source": [
    "#Lists can have duplicate values\n",
    "list_a= ['apple', 'banana', 'james', 5, 2, 4, 6, 8, 10.2, 4, 'banana', 'james']\n",
    "print(list_a)"
   ]
  },
  {
   "cell_type": "code",
   "execution_count": 7,
   "id": "79df20c4",
   "metadata": {},
   "outputs": [
    {
     "name": "stdout",
     "output_type": "stream",
     "text": [
      "['apples', 'oranges', 'gauva', 3, 2.3, 5.6, 1, ['toby', 'spinneys', 'grandoise']]\n"
     ]
    }
   ],
   "source": [
    "#This is a an example of a nested list which means its a list inside a list\n",
    "list_nested = ['apples', 'oranges', 'gauva', 3, 2.3, 5.6, 1, ['toby', 'spinneys', 'grandoise']]\n",
    "print(list_nested)"
   ]
  },
  {
   "cell_type": "code",
   "execution_count": 8,
   "id": "d21115fe",
   "metadata": {},
   "outputs": [
    {
     "data": {
      "text/plain": [
       "8"
      ]
     },
     "execution_count": 8,
     "metadata": {},
     "output_type": "execute_result"
    }
   ],
   "source": [
    "#Example of count function in lists\n",
    "planets = ['mercury','venus', 'earth', 'mars', 'jupiter', 'saturn', 'uranus', 'neptune']\n",
    "\n",
    "#Counting the number of planets in this list\n",
    "len(planets)"
   ]
  },
  {
   "cell_type": "code",
   "execution_count": 9,
   "id": "b38cdfd0",
   "metadata": {},
   "outputs": [
    {
     "name": "stdout",
     "output_type": "stream",
     "text": [
      "['mercury', 'venus', 'earth', 'mars', 'jupiter', 'saturn', 'uranus', 'neptune', 'pluto']\n"
     ]
    },
    {
     "data": {
      "text/plain": [
       "9"
      ]
     },
     "execution_count": 9,
     "metadata": {},
     "output_type": "execute_result"
    }
   ],
   "source": [
    "#Adding to list using append function\n",
    "planets.append('pluto')\n",
    "\n",
    "print(planets)\n",
    "len(planets)\n",
    "\n",
    "#note how you dont need to list all the planets again in this line\n",
    "#it just pulls the list from previous line and adds the new item"
   ]
  },
  {
   "cell_type": "code",
   "execution_count": 10,
   "id": "4c9970a4",
   "metadata": {},
   "outputs": [
    {
     "name": "stdout",
     "output_type": "stream",
     "text": [
      "['pluto', 'mercury', 'venus', 'earth', 'mars', 'jupiter', 'saturn', 'uranus', 'neptune', 'pluto']\n"
     ]
    },
    {
     "data": {
      "text/plain": [
       "10"
      ]
     },
     "execution_count": 10,
     "metadata": {},
     "output_type": "execute_result"
    }
   ],
   "source": [
    "#Using insert function to add an item at a particular order in list\n",
    "planets.insert(0, 'pluto')\n",
    "\n",
    "print(planets)\n",
    "len(planets)"
   ]
  },
  {
   "cell_type": "code",
   "execution_count": 12,
   "id": "3b2e593a",
   "metadata": {},
   "outputs": [
    {
     "name": "stdout",
     "output_type": "stream",
     "text": [
      "['pluto', 'mercury', 'venus', 'earth', 'mars', 'jupiter', 'saturn', 'uranus', 'neptune', 'pluto', 'Ceres', 'Makemake', 'Haumea', 'Eris']\n"
     ]
    },
    {
     "data": {
      "text/plain": [
       "14"
      ]
     },
     "execution_count": 12,
     "metadata": {},
     "output_type": "execute_result"
    }
   ],
   "source": [
    "#Using extend function to append elements from one list to another\n",
    "#Create a second list\n",
    "dwarf_planets = ['Ceres', 'Makemake', 'Haumea', 'Eris']\n",
    "\n",
    "#Second list is appended to starting list\n",
    "planets.extend(dwarf_planets)\n",
    "\n",
    "print(planets)\n",
    "len(planets)"
   ]
  },
  {
   "cell_type": "code",
   "execution_count": null,
   "id": "8c5b3f02",
   "metadata": {},
   "outputs": [],
   "source": []
  }
 ],
 "metadata": {
  "kernelspec": {
   "display_name": "Python 3 (ipykernel)",
   "language": "python",
   "name": "python3"
  },
  "language_info": {
   "codemirror_mode": {
    "name": "ipython",
    "version": 3
   },
   "file_extension": ".py",
   "mimetype": "text/x-python",
   "name": "python",
   "nbconvert_exporter": "python",
   "pygments_lexer": "ipython3",
   "version": "3.9.12"
  }
 },
 "nbformat": 4,
 "nbformat_minor": 5
}
