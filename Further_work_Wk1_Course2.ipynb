{
 "cells": [
  {
   "cell_type": "code",
   "execution_count": 1,
   "id": "319ced4a",
   "metadata": {},
   "outputs": [
    {
     "name": "stdout",
     "output_type": "stream",
     "text": [
      "('Python', 'Java', 'SQL')\n"
     ]
    },
    {
     "data": {
      "text/plain": [
       "3"
      ]
     },
     "execution_count": 1,
     "metadata": {},
     "output_type": "execute_result"
    }
   ],
   "source": [
    "#Working with Tuples 1.2.10\n",
    "#Tuples are like lists except that once created, they cannot be changed\n",
    "\n",
    "#Creating a tuple\n",
    "tuple_1= ('Python', 'Java', 'SQL')\n",
    "\n",
    "#Print Tuple and count length\n",
    "print(tuple_1)\n",
    "len(tuple_1)\n"
   ]
  },
  {
   "cell_type": "code",
   "execution_count": 2,
   "id": "f518196e",
   "metadata": {},
   "outputs": [
    {
     "name": "stdout",
     "output_type": "stream",
     "text": [
      "('apple', 'banana', 5, 2, 10.2, 8.3)\n"
     ]
    }
   ],
   "source": [
    "# Example of a list with different data types.\n",
    "tuple_a = ('apple', 'banana', 5, 2, 10.2, 8.3)\n",
    "\n",
    "print(tuple_a)\n",
    "\n",
    "#tuples can contain different data types"
   ]
  },
  {
   "cell_type": "code",
   "execution_count": 3,
   "id": "019a4df6",
   "metadata": {},
   "outputs": [
    {
     "name": "stdout",
     "output_type": "stream",
     "text": [
      "('apple', 'banana', 5, 2, 10.2, 8.3, 'apple', 'banana', 5, 2, 10.2, 8.3)\n"
     ]
    }
   ],
   "source": [
    "# Example of a list with duplicate items.\n",
    "tuple_b = ('apple', 'banana', 5, 2, 10.2, 8.3,\n",
    "           'apple', 'banana', 5, 2, 10.2, 8.3)\n",
    "\n",
    "print(tuple_b)\n",
    "\n",
    "#Tuples can contain duplicate values"
   ]
  },
  {
   "cell_type": "code",
   "execution_count": 5,
   "id": "8686a1be",
   "metadata": {},
   "outputs": [
    {
     "name": "stdout",
     "output_type": "stream",
     "text": [
      "('apple', 'banana', 5, 2, 10.2, 8.3, ('apple', 'banana', 5, 2, 10.2, 8.3))\n"
     ]
    },
    {
     "data": {
      "text/plain": [
       "7"
      ]
     },
     "execution_count": 5,
     "metadata": {},
     "output_type": "execute_result"
    }
   ],
   "source": [
    "#Nested Tuple is a tuple inside a tuple\n",
    "\n",
    "# Example of a nested tupple. \n",
    "tuple_c = ('apple', 'banana', 5, 2, 10.2, 8.3,\n",
    "           ('apple', 'banana', 5, 2, 10.2, 8.3))\n",
    "\n",
    "print(tuple_c)\n",
    "len(tuple_c)\n",
    "\n",
    "#Tuple treats the items inside the second ( ) as just one item, same as nested lists \n",
    "#Look at the len function to confirm this"
   ]
  },
  {
   "cell_type": "code",
   "execution_count": 7,
   "id": "a360786d",
   "metadata": {},
   "outputs": [
    {
     "name": "stdout",
     "output_type": "stream",
     "text": [
      "('Venus', 1, 'Mars')\n"
     ]
    }
   ],
   "source": [
    "# Example of the tuple() constructor. \n",
    "# Notice the round brackets.\n",
    "tup_1 = tuple(['Venus', 1, 'Mars']) \n",
    "\n",
    "tup_1\n",
    "\n",
    "#This method means you dont need to type print \n",
    "# But see what happens if you use print too\n",
    "\n",
    "print(tup_1)\n",
    "\n",
    "#Same result as just typing tup_1"
   ]
  },
  {
   "cell_type": "code",
   "execution_count": 8,
   "id": "fa6f1a94",
   "metadata": {},
   "outputs": [
    {
     "name": "stdout",
     "output_type": "stream",
     "text": [
      "Java\n"
     ]
    }
   ],
   "source": [
    "# Create a tuple.\n",
    "tuple_1 = ('Python', 'Java', 'Ruby')\n",
    "\n",
    "# Example of indexing.\n",
    "# Note: index position in Python starts at 0.\n",
    "# Locate item at index position 1.\n",
    "tuple_1[1]\n",
    "\n",
    "print(tuple_1[1])"
   ]
  },
  {
   "cell_type": "code",
   "execution_count": 9,
   "id": "d5b4e182",
   "metadata": {},
   "outputs": [
    {
     "name": "stdout",
     "output_type": "stream",
     "text": [
      "4\n",
      "2\n",
      "(4, 5, 6)\n"
     ]
    }
   ],
   "source": [
    "# Example of nesting tuples within tuples.\n",
    "nested_tup = (1, 2, 3, (4, 5, 6))\n",
    "\n",
    "# Print the length of the nested tuple.\n",
    "print(len(nested_tup))\n",
    "\n",
    "# This will show item at index position 1.\n",
    "print(nested_tup[1])\n",
    "\n",
    "# This will show item at index position 3.\n",
    "print(nested_tup[3])"
   ]
  },
  {
   "cell_type": "code",
   "execution_count": 11,
   "id": "aee53cdf",
   "metadata": {},
   "outputs": [
    {
     "data": {
      "text/plain": [
       "8"
      ]
     },
     "execution_count": 11,
     "metadata": {},
     "output_type": "execute_result"
    }
   ],
   "source": [
    "# Example of the len() function.\n",
    "# Start with a tuple .\n",
    "planets = ('Mercury', 'Venus', 'Earth', 'Mars', 'Jupiter', \n",
    "          'Saturn', 'Uranus', 'Neptune')\n",
    "\n",
    "# Measure the length of the tuple.\n",
    "len(planets)"
   ]
  },
  {
   "cell_type": "code",
   "execution_count": 12,
   "id": "fe74fbaa",
   "metadata": {},
   "outputs": [
    {
     "name": "stdout",
     "output_type": "stream",
     "text": [
      "('Mercury', 'Venus', 'Earth', 'Mars', 'Jupiter', 'Saturn', 'Uranus', 'Neptune')\n",
      "('Python', 'Java', 'Ruby')\n",
      "('Mercury', 'Venus', 'Earth', 'Mars', 'Jupiter', 'Saturn', 'Uranus', 'Neptune', 'Python', 'Java', 'Ruby')\n",
      "11\n"
     ]
    }
   ],
   "source": [
    "#Combining tuples with + operator\n",
    "\n",
    "# Original tuples.\n",
    "print(planets)\n",
    "print(tuple_1)\n",
    "\n",
    "# Example of using the + operator.\n",
    "tuple_d = planets + tuple_1\n",
    "\n",
    "# This will show the concatenated tuple.\n",
    "print(tuple_d)\n",
    "print(len(tuple_d))"
   ]
  },
  {
   "cell_type": "code",
   "execution_count": 13,
   "id": "45995035",
   "metadata": {},
   "outputs": [
    {
     "name": "stdout",
     "output_type": "stream",
     "text": [
      "(1, 2, 3, (4, 5, 6))\n"
     ]
    },
    {
     "data": {
      "text/plain": [
       "(1, 2, 3, (4, 5, 6), 1, 2, 3, (4, 5, 6), 1, 2, 3, (4, 5, 6))"
      ]
     },
     "execution_count": 13,
     "metadata": {},
     "output_type": "execute_result"
    }
   ],
   "source": [
    "#Tuples can be used with * operator to multiply\n",
    "\n",
    "# Original tuple.\n",
    "print(nested_tup)\n",
    "\n",
    "# Example of using the * operator.\n",
    "# This will make three copies of the tuple.\n",
    "nested_tup * 3"
   ]
  },
  {
   "cell_type": "code",
   "execution_count": 14,
   "id": "935b04a5",
   "metadata": {},
   "outputs": [
    {
     "name": "stdout",
     "output_type": "stream",
     "text": [
      "44\n",
      "1\n"
     ]
    }
   ],
   "source": [
    "# Example of using max() and min().\n",
    "a = (1, 13, 44, 23)\n",
    "\n",
    "# This will show the highest value.\n",
    "print(max(a))\n",
    "\n",
    "# This will show the lowest value.\n",
    "print(min(a))"
   ]
  },
  {
   "cell_type": "code",
   "execution_count": 15,
   "id": "eb6a9cc8",
   "metadata": {},
   "outputs": [
    {
     "name": "stdout",
     "output_type": "stream",
     "text": [
      "Earth\n",
      "Saturn\n",
      "Pluto\n",
      "Pluto Saturn Earth\n"
     ]
    }
   ],
   "source": [
    "#Unpacking Tuples can only occur if the left operand is equal to right operand\n",
    "\n",
    "# Example of assigning values to objects.\n",
    "celestial_objects = ('Earth', 'Saturn', 'Pluto')\n",
    "\n",
    "# Notice the sequence.\n",
    "planet, gas_giant, dwarf_planet = celestial_objects\n",
    "\n",
    "# Each of these will output the corresponding object from the tuple.\n",
    "print(planet)\n",
    "print(gas_giant)\n",
    "print(dwarf_planet)\n",
    "print(dwarf_planet, gas_giant, planet)\n",
    "\n",
    "#Bascially labels each item within a tuple with an alternative name"
   ]
  },
  {
   "cell_type": "code",
   "execution_count": 16,
   "id": "6e9b8f35",
   "metadata": {},
   "outputs": [
    {
     "ename": "ValueError",
     "evalue": "too many values to unpack (expected 2)",
     "output_type": "error",
     "traceback": [
      "\u001b[1;31m---------------------------------------------------------------------------\u001b[0m",
      "\u001b[1;31mValueError\u001b[0m                                Traceback (most recent call last)",
      "Input \u001b[1;32mIn [16]\u001b[0m, in \u001b[0;36m<cell line: 8>\u001b[1;34m()\u001b[0m\n\u001b[0;32m      4\u001b[0m celestial_objects \u001b[38;5;241m=\u001b[39m (\u001b[38;5;124m'\u001b[39m\u001b[38;5;124mEarth\u001b[39m\u001b[38;5;124m'\u001b[39m, \u001b[38;5;124m'\u001b[39m\u001b[38;5;124mSaturn\u001b[39m\u001b[38;5;124m'\u001b[39m, \u001b[38;5;124m'\u001b[39m\u001b[38;5;124mPluto\u001b[39m\u001b[38;5;124m'\u001b[39m)\n\u001b[0;32m      6\u001b[0m \u001b[38;5;66;03m# Notice two variables, while the tuple contains three objects.\u001b[39;00m\n\u001b[0;32m      7\u001b[0m \u001b[38;5;66;03m# This will result in an error.\u001b[39;00m\n\u001b[1;32m----> 8\u001b[0m planet, gas_giant \u001b[38;5;241m=\u001b[39m celestial_objects\n",
      "\u001b[1;31mValueError\u001b[0m: too many values to unpack (expected 2)"
     ]
    }
   ],
   "source": [
    "#Unequal number of variables doesnt work\n",
    "\n",
    "# Example when the number of variables isn't equal.\n",
    "celestial_objects = ('Earth', 'Saturn', 'Pluto')\n",
    "\n",
    "# Notice two variables, while the tuple contains three objects.\n",
    "# This will result in an error.\n",
    "planet, gas_giant = celestial_objects"
   ]
  },
  {
   "cell_type": "code",
   "execution_count": 19,
   "id": "1c3edb31",
   "metadata": {},
   "outputs": [
    {
     "name": "stdout",
     "output_type": "stream",
     "text": [
      "('tuli', 'teesh', '2012', '2015', '2.24')\n",
      "2.24\n",
      "tuli\n",
      "tuli\n",
      "2015\n"
     ]
    }
   ],
   "source": [
    "#practical example to test knowledge\n",
    "\n",
    "tuple_sc = ('tuli', 'teesh', '2012', '2015', '2.24')\n",
    "\n",
    "print(tuple_sc)\n",
    "len(tuple_sc)\n",
    "print(min(tuple_sc))\n",
    "print(max(tuple_sc))\n",
    "\n",
    "print(tuple_sc[0])\n",
    "print(tuple_sc[3])"
   ]
  },
  {
   "cell_type": "code",
   "execution_count": 25,
   "id": "d66e25c4",
   "metadata": {},
   "outputs": [
    {
     "name": "stdout",
     "output_type": "stream",
     "text": [
      "{'key1': 'Name', 'key2': 'Age', 'key3': 1964}\n"
     ]
    }
   ],
   "source": [
    "#Dictionary is used to store values in this format of key:value pairs\n",
    "#Note use of {}\n",
    "#Note each key value is joined together by :\n",
    "\n",
    "dict_1 = {'key1': 'Name',\n",
    "        'key2': 'Age',\n",
    "        'key3': 1964}\n",
    "\n",
    "print(dict_1)\n"
   ]
  },
  {
   "cell_type": "code",
   "execution_count": 26,
   "id": "945be46a",
   "metadata": {},
   "outputs": [
    {
     "name": "stdout",
     "output_type": "stream",
     "text": [
      "{'key1': 'Name', 'key2': 'Age', 'key3': 1964}\n",
      "{'key1': 'Name', 'key2': 'new_value', 'key3': 1964}\n"
     ]
    }
   ],
   "source": [
    "#changing keys in dictionaries\n",
    "\n",
    "# Original dictionary.\n",
    "print(dict_1)\n",
    "\n",
    "# Change the value of key 2.\n",
    "dict_1['key2'] = 'new_value'\n",
    "\n",
    "print(dict_1)"
   ]
  },
  {
   "cell_type": "code",
   "execution_count": 28,
   "id": "a0c37145",
   "metadata": {},
   "outputs": [
    {
     "name": "stdout",
     "output_type": "stream",
     "text": [
      "{'key1': 'Name', 'key2': 'new_value', 'key3': 1964, 'key4': 'address'}\n",
      "{'key1': 'Name', 'key2': 'new_value', 'key3': 1964, 'key4': 'address'}\n"
     ]
    }
   ],
   "source": [
    "#Adding new key values in an existing dictionary\n",
    "# Dictionary before edits.\n",
    "print(dict_1)\n",
    "\n",
    "# Add a new key value pair.\n",
    "dict_1['key4'] = 'address'\n",
    "\n",
    "print(dict_1)"
   ]
  },
  {
   "cell_type": "code",
   "execution_count": 29,
   "id": "7c35ce05",
   "metadata": {},
   "outputs": [
    {
     "name": "stdout",
     "output_type": "stream",
     "text": [
      "{'key1': 'Name', 'key2': 'new_value', 'key3': 1964, 'key4': 'address'}\n",
      "{'key1': 'Name', 'key2': 'new_value', 'key3': 1964, 'key4': ['48 Mainstreet']}\n"
     ]
    }
   ],
   "source": [
    "#Replacing a value within a list\n",
    "\n",
    "# Dictionary before edits.\n",
    "print(dict_1)\n",
    "\n",
    "# Example of changing and replacing values in a dictionary.\n",
    "dict_1['key4'] = ['48 Mainstreet']\n",
    "\n",
    "print(dict_1)\n"
   ]
  },
  {
   "cell_type": "code",
   "execution_count": 31,
   "id": "2513a6d0",
   "metadata": {},
   "outputs": [
    {
     "name": "stdout",
     "output_type": "stream",
     "text": [
      "{'key1': 'Name', 'key2': 'new_value', 'key3': 1964, 'key4': ['48 Mainstreet']}\n",
      "{'key1': 'Name', 'key2': 'new_value', 'key3': 1964, 'key4': ['48 Mainstreet']}\n"
     ]
    }
   ],
   "source": [
    "#Changing values in keys\n",
    "\n",
    "# Original dictionary.\n",
    "print(dict_1)\n",
    "\n",
    "# Change the value of key 2.\n",
    "dict_1['key2'] = 'new_value'\n",
    "\n",
    "print(dict_1)"
   ]
  },
  {
   "cell_type": "code",
   "execution_count": 32,
   "id": "bd71202e",
   "metadata": {},
   "outputs": [
    {
     "name": "stdout",
     "output_type": "stream",
     "text": [
      "{'key1': 'Name', 'key2': 'new_value', 'key3': 1964, 'key4': ['48 Mainstreet']}\n",
      "{'key1': 'Name', 'key2': 'new_value', 'key3': 1964, 'key4': 'address'}\n"
     ]
    }
   ],
   "source": [
    "#Adding keys\n",
    "\n",
    "# Dictionary before edits.\n",
    "print(dict_1)\n",
    "\n",
    "# Add a new key value pair.\n",
    "dict_1['key4'] = 'address'\n",
    "\n",
    "print(dict_1)\n"
   ]
  },
  {
   "cell_type": "code",
   "execution_count": 33,
   "id": "8218949e",
   "metadata": {},
   "outputs": [
    {
     "name": "stdout",
     "output_type": "stream",
     "text": [
      "{'key1': 'Name', 'key2': 'new_value', 'key3': 1964, 'key4': 'address'}\n",
      "{'key1': 'Name', 'key2': 'new_value', 'key3': 1964, 'key4': ['48 Mainstreet']}\n"
     ]
    }
   ],
   "source": [
    "#replacing a value with a list\n",
    "\n",
    "# Dictionary before edits.\n",
    "print(dict_1)\n",
    "\n",
    "# Example of changing and replacing values in a dictionary.\n",
    "dict_1['key4'] = ['48 Mainstreet']\n",
    "\n",
    "print(dict_1)\n"
   ]
  },
  {
   "cell_type": "code",
   "execution_count": 34,
   "id": "808906e3",
   "metadata": {},
   "outputs": [
    {
     "name": "stdout",
     "output_type": "stream",
     "text": [
      "{'key1': 'Name', 'key2': 'new_value', 'key3': 1964, 'key4': ['48 Mainstreet']}\n",
      "['48 Mainstreet']\n"
     ]
    }
   ],
   "source": [
    "#Storing the value of a key in a seperate variable\n",
    "\n",
    "# Dictionary before edits.\n",
    "print(dict_1)\n",
    "\n",
    "# Example of storing values in a separate variable.\n",
    "# Define the new variable.\n",
    "new_val = dict_1['key4']\n",
    "\n",
    "print(new_val)"
   ]
  },
  {
   "cell_type": "code",
   "execution_count": 35,
   "id": "9397e5f2",
   "metadata": {},
   "outputs": [
    {
     "name": "stdout",
     "output_type": "stream",
     "text": [
      "{'key1': 'Name', 'key2': 'new_value', 'key3': 1964, 'key4': ['48 Mainstreet']}\n",
      "{'key2': 'new_value', 'key3': 1964, 'key4': ['48 Mainstreet']}\n"
     ]
    }
   ],
   "source": [
    "#Deleting entries from a dictionary\n",
    "\n",
    "# Dictionary before edits.\n",
    "print(dict_1)\n",
    "\n",
    "# Example of deleting an entry from a dictionary.\n",
    "# Delete an entry.\n",
    "del dict_1['key1']\n",
    "\n",
    "print(dict_1)"
   ]
  },
  {
   "cell_type": "code",
   "execution_count": 36,
   "id": "e524e57e",
   "metadata": {},
   "outputs": [
    {
     "name": "stdout",
     "output_type": "stream",
     "text": [
      "{'key2': 'new_value', 'key3': 1964, 'key4': ['48 Mainstreet']}\n",
      "{'key2': 'new_value', 'key4': ['48 Mainstreet']}\n"
     ]
    }
   ],
   "source": [
    "#Using the pop method to delete an entry\n",
    "\n",
    "# Dictionary before edits.\n",
    "print(dict_1)\n",
    "\n",
    "# Example of deleting an entry from a dictionary using the pop() method.\n",
    "# Delete key 3.\n",
    "dict_1.pop('key3')\n",
    "\n",
    "print(dict_1)\n"
   ]
  },
  {
   "cell_type": "code",
   "execution_count": 37,
   "id": "121104ee",
   "metadata": {},
   "outputs": [
    {
     "name": "stdout",
     "output_type": "stream",
     "text": [
      "dict_keys(['key1', 'key2', 'key3'])\n",
      "dict_values(['Name', 'Age', 1964])\n"
     ]
    }
   ],
   "source": [
    "#An iterator is an object containing a countable number of values. \n",
    "#You can also iterate throughout all the values.\n",
    "\n",
    "# Example of the keys() method.\n",
    "dict_1 = {'key1': 'Name', 'key2': 'Age', 'key3': 1964}\n",
    "\n",
    "# Show keys only.\n",
    "print(dict_1.keys())\n",
    "\n",
    "# Show values only.\n",
    "print(dict_1.values())"
   ]
  },
  {
   "cell_type": "code",
   "execution_count": 38,
   "id": "794a0be1",
   "metadata": {},
   "outputs": [
    {
     "name": "stdout",
     "output_type": "stream",
     "text": [
      "['key1', 'key2', 'key3', 'key4', 'key5']\n",
      "['Apple', 'Fruit', 'Red', 'Juicy', 'Firm']\n",
      "{'key1': 'Apple', 'key2': 'Fruit', 'key3': 'Red', 'key4': 'Juicy', 'key5': 'Firm'}\n"
     ]
    }
   ],
   "source": [
    "#Creating a dictionary from from two seperate sequences using zip function\n",
    "\n",
    "# Example of creating a dictionary from a sequence.\n",
    "key_list = ['key1', 'key2', 'key3', 'key4', 'key5']\n",
    "value_list = ['Apple', 'Fruit', 'Red', 'Juicy', 'Firm']\n",
    "\n",
    "# View keys.\n",
    "print(key_list)\n",
    "\n",
    "# View values.\n",
    "print(value_list)\n",
    "\n",
    "# Creating new dictionary .\n",
    "dict_3 = dict(zip(key_list, value_list))\n",
    "\n",
    "# View dictionary.\n",
    "print(dict_3)"
   ]
  },
  {
   "cell_type": "code",
   "execution_count": 30,
   "id": "fc56f8eb",
   "metadata": {},
   "outputs": [
    {
     "name": "stdout",
     "output_type": "stream",
     "text": [
      "{1, 2, 3, 4}\n",
      "<class 'set'>\n"
     ]
    }
   ],
   "source": [
    "#A set is an unordered collection of unique elements with no duplicates\n",
    "\n",
    "# Example of a set.\n",
    "set1 = set([1, 2, 3, 4, 4, 2])\n",
    "\n",
    "# View the set.\n",
    "print(set1)\n",
    "\n",
    "# View the data type.\n",
    "print(type(set1))"
   ]
  },
  {
   "cell_type": "code",
   "execution_count": 39,
   "id": "6e39876e",
   "metadata": {},
   "outputs": [
    {
     "name": "stdout",
     "output_type": "stream",
     "text": [
      "{5, 6, 7}\n",
      "<class 'set'>\n"
     ]
    }
   ],
   "source": [
    "#A set can also be created by using curly brackets {}\n",
    "\n",
    "# Example of a set.\n",
    "set2 = {5, 6, 7, 7, 6, 5}\n",
    "\n",
    "# View the set.\n",
    "print(set2)\n",
    "\n",
    "# View the data type.\n",
    "print(type(set2))"
   ]
  },
  {
   "cell_type": "code",
   "execution_count": 40,
   "id": "585c274b",
   "metadata": {},
   "outputs": [
    {
     "name": "stdout",
     "output_type": "stream",
     "text": [
      "{1, 2, 3, 4, 'cake'}\n",
      "<class 'set'>\n"
     ]
    }
   ],
   "source": [
    "# Example of adding an item to a set.\n",
    "# Use the .add() method.\n",
    "set1.add('cake')\n",
    "\n",
    "# View the set.\n",
    "print(set1)\n",
    "\n",
    "# View the data type.\n",
    "print(type(set1))"
   ]
  },
  {
   "cell_type": "code",
   "execution_count": 41,
   "id": "11b2bffd",
   "metadata": {},
   "outputs": [
    {
     "name": "stdout",
     "output_type": "stream",
     "text": [
      "{1, 2, 3, 4, 5, 6, 7, 'cake'}\n",
      "<class 'set'>\n"
     ]
    }
   ],
   "source": [
    "# Example of adding an item to a set.\n",
    "# Use the .update() method.\n",
    "set1.update(set2)\n",
    "\n",
    "# View the set.\n",
    "print(set1)\n",
    "\n",
    "# View the data type.\n",
    "print(type(set1))"
   ]
  },
  {
   "cell_type": "code",
   "execution_count": 42,
   "id": "6a53aae0",
   "metadata": {},
   "outputs": [
    {
     "name": "stdout",
     "output_type": "stream",
     "text": [
      "{1, 2, 3, 4, 5, 6, 7, 'cake'}\n",
      "{'cherry', 'apple', 'banana'}\n",
      "{'google', 'apple', 'microsoft'}\n",
      "{1, 2, 3, 4, 5, 6, 7, 'cherry', 'cake', 'apple', 'google', 'banana', 'microsoft'}\n",
      "<class 'set'>\n"
     ]
    }
   ],
   "source": [
    "# Example of the union() method.\n",
    "# Create two new sets.\n",
    "set3 = {'apple', 'banana', 'cherry'}\n",
    "set4 = {'google', 'microsoft', 'apple'}\n",
    "\n",
    "# View the set1, set3, set4.\n",
    "print(set1)\n",
    "print(set3)\n",
    "print(set4)\n",
    "\n",
    "# Syntax: set.union(set1, set2...).\n",
    "set5 = set1.union(set3, set4)\n",
    "\n",
    "# View the set.\n",
    "print(set5)\n",
    "\n",
    "# View the data type.\n",
    "print(type(set5))"
   ]
  },
  {
   "cell_type": "code",
   "execution_count": 43,
   "id": "66ef544d",
   "metadata": {},
   "outputs": [
    {
     "name": "stdout",
     "output_type": "stream",
     "text": [
      "{'cherry', 'apple', 'banana'}\n",
      "{'google', 'apple', 'microsoft'}\n",
      "{'apple'}\n",
      "<class 'set'>\n"
     ]
    }
   ],
   "source": [
    "# View the set.\n",
    "print(set3)\n",
    "print(set4)\n",
    "\n",
    "# Example of the intersection() method.\n",
    "# Use the intersection() method.\n",
    "# Syntax : set.intersection(set1, set2 ... etc).\n",
    "z = set3.intersection(set4)\n",
    "\n",
    "# View the set.\n",
    "print(z)\n",
    "\n",
    "# View the data type.\n",
    "print(type(z))"
   ]
  },
  {
   "cell_type": "code",
   "execution_count": 44,
   "id": "6e6a0605",
   "metadata": {},
   "outputs": [
    {
     "name": "stdout",
     "output_type": "stream",
     "text": [
      "{'cherry', 'apple', 'banana'}\n",
      "{'google', 'apple', 'microsoft'}\n",
      "{'google', 'microsoft'}\n",
      "<class 'set'>\n"
     ]
    }
   ],
   "source": [
    "#Removing elements from set 4 that are in set 3 using difference method\n",
    "\n",
    "# View the set.\n",
    "print(set3)\n",
    "print(set4)\n",
    "\n",
    "# Example of the .difference() method.\n",
    "# Syntax : set.difference(set).\n",
    "x = set4.difference(set3)\n",
    "\n",
    "# View the set.\n",
    "print(x)\n",
    "\n",
    "# View the data type.\n",
    "print(type(x))"
   ]
  },
  {
   "cell_type": "code",
   "execution_count": 45,
   "id": "5cc47f66",
   "metadata": {},
   "outputs": [
    {
     "name": "stdout",
     "output_type": "stream",
     "text": [
      "{1, 2, 3, 4, 5, 6, 7, 'cake'}\n",
      "{5, 6, 7}\n",
      "{1, 2, 3, 4, 'cake'}\n",
      "<class 'set'>\n"
     ]
    }
   ],
   "source": [
    "#Determining differences between sets can also be done using symmetric_difference() method\n",
    "\n",
    "# View the set.\n",
    "print(set1)\n",
    "print(set2)\n",
    "\n",
    "# Example of the symmetric_difference() method.\n",
    "# Syntax : set.symmetric_difference(set).\n",
    "a = set1.symmetric_difference(set2)\n",
    "\n",
    "# View the set.\n",
    "print(a)\n",
    "\n",
    "# View the data type.\n",
    "print(type(a))\n"
   ]
  },
  {
   "cell_type": "code",
   "execution_count": 46,
   "id": "5e4e28fc",
   "metadata": {},
   "outputs": [
    {
     "name": "stdout",
     "output_type": "stream",
     "text": [
      "{'tomato'}\n"
     ]
    }
   ],
   "source": [
    "#Applying learning\n",
    "\n",
    "# Find the intersection.\n",
    "fruit = {'apple', 'pear', 'watermelon','tomato'}\n",
    "vegetables = {'carrot', 'tomato', 'parsnip', 'leek'} \n",
    "\n",
    "print(fruit.intersection(vegetables))"
   ]
  },
  {
   "cell_type": "code",
   "execution_count": 47,
   "id": "b3fd04af",
   "metadata": {},
   "outputs": [
    {
     "name": "stdout",
     "output_type": "stream",
     "text": [
      "{'parsnip', 'beetroot', 'tomato', 'carrot', 'leek'}\n"
     ]
    }
   ],
   "source": [
    "#adding to a set\n",
    "\n",
    "# Add beetroot to vegetables with add().\n",
    "vegetables.add('beetroot')\n",
    "\n",
    "# View set vegetable.\n",
    "print(vegetables)\n"
   ]
  },
  {
   "cell_type": "code",
   "execution_count": 48,
   "id": "5bab217f",
   "metadata": {},
   "outputs": [
    {
     "name": "stdout",
     "output_type": "stream",
     "text": [
      "{'pear', 'parsnip', 'beetroot', 'tomato', 'carrot', 'apple', 'watermelon', 'leek'}\n"
     ]
    }
   ],
   "source": [
    "#Combine two sets with union ()\n",
    "\n",
    "edible_plants = vegetables.union(fruit)\n",
    "\n",
    "# View the vegetables set.\n",
    "print(edible_plants)"
   ]
  },
  {
   "cell_type": "code",
   "execution_count": 49,
   "id": "35cf16ce",
   "metadata": {},
   "outputs": [
    {
     "name": "stdout",
     "output_type": "stream",
     "text": [
      "{'carrot', 'leek', 'beetroot', 'parsnip'}\n"
     ]
    }
   ],
   "source": [
    "# Identify the vegetables in the edible_plants set.\n",
    "# Use .difference().\n",
    "print(edible_plants.difference(fruit))"
   ]
  },
  {
   "cell_type": "code",
   "execution_count": 53,
   "id": "b8ce54c9",
   "metadata": {},
   "outputs": [
    {
     "name": "stdout",
     "output_type": "stream",
     "text": [
      "a is less than b\n"
     ]
    }
   ],
   "source": [
    "#Conditional statements\n",
    "\n",
    "#IF Statement\n",
    "\n",
    "a=5\n",
    "b=10\n",
    "\n",
    "if a>b:\n",
    "    print(\"a is greater than b\")\n",
    "elif a<b:\n",
    "    print(\"a is less than b\")\n",
    "else:\n",
    "    print(\"a is equal to b\")"
   ]
  },
  {
   "cell_type": "code",
   "execution_count": 56,
   "id": "0cf8e073",
   "metadata": {},
   "outputs": [
    {
     "name": "stdout",
     "output_type": "stream",
     "text": [
      "0\n",
      "1\n",
      "2\n",
      "3\n",
      "4\n",
      "This will print once\n"
     ]
    }
   ],
   "source": [
    "#Writing loop codes to repeat code blocks more efficiently\n",
    "#two types of loop statements; while and for \n",
    "\n",
    "#While loop\n",
    "\n",
    "counter = 0\n",
    "\n",
    "while counter<5:\n",
    "    print(counter)\n",
    "    counter =counter+1\n",
    "print(\"This will print once\")\n",
    "\n",
    "#loop stops when value hits 5"
   ]
  },
  {
   "cell_type": "code",
   "execution_count": 58,
   "id": "f5ad5e77",
   "metadata": {},
   "outputs": [
    {
     "name": "stdout",
     "output_type": "stream",
     "text": [
      "hello yar world: 0\n",
      "hello yar world: 1\n",
      "hello yar world: 2\n",
      "hello yar world: 3\n",
      "hello yar world: 4\n"
     ]
    }
   ],
   "source": [
    "# For loop\n",
    "\n",
    "for i in range(5):\n",
    "    print(\"hello yar world:\",i)"
   ]
  },
  {
   "cell_type": "code",
   "execution_count": 59,
   "id": "19bb9158",
   "metadata": {},
   "outputs": [
    {
     "name": "stdout",
     "output_type": "stream",
     "text": [
      "hellow yar world: 10\n",
      "hellow yar world: 100\n",
      "hellow yar world: 1000\n"
     ]
    }
   ],
   "source": [
    "for i in [10,100,1000]:\n",
    "    print ('hellow yar world:',i)"
   ]
  },
  {
   "cell_type": "code",
   "execution_count": 62,
   "id": "e8cdb6ae",
   "metadata": {},
   "outputs": [
    {
     "name": "stdout",
     "output_type": "stream",
     "text": [
      "('London', 'Paris', 'New York City', 'Singapore')\n",
      "s\n",
      "s\n",
      "s\n",
      "s\n",
      "s\n",
      "s\n",
      "s\n",
      "s\n",
      "s\n",
      "s\n"
     ]
    }
   ],
   "source": [
    "#for loops are used to loop over a collection of data structures and perform an action repeatedly.\n",
    "\n",
    "cities=(\"London\", \"Paris\", \"New York City\", \"Singapore\")\n",
    "print(cities)\n",
    "\n",
    "a=\"Top Cities\"\n",
    "for z in a:\n",
    "    print(i)"
   ]
  },
  {
   "cell_type": "code",
   "execution_count": 73,
   "id": "413c1ac0",
   "metadata": {},
   "outputs": [
    {
     "name": "stdout",
     "output_type": "stream",
     "text": [
      "Enter number of term: 23\n",
      "First 23 terms of fibonacci series [0, 1, 1, 2, 3, 5, 8, 13, 21, 34, 55, 89, 144, 233, 377, 610, 987, 1597, 2584, 4181, 6765, 10946, 17711]\n",
      "bye and see how I powerful I am!\n"
     ]
    }
   ],
   "source": [
    "#Creating Fib series using Python\n",
    "#list 1 is a list with the first and second values of the fib series:\n",
    "\n",
    "list_1 = [0,1]\n",
    "\n",
    "#Here n = number of terms\n",
    "n = int(input(\"Enter number of term: \"))\n",
    "if n == 1:\n",
    "    print(\"0\")\n",
    "elif n == 2:\n",
    "    print(list_1)\n",
    "else:\n",
    "    while (len(list_1) < n):\n",
    "        list_1.append(0)\n",
    "    if (n==0 or n==1):\n",
    "        print(1)\n",
    "    else:\n",
    "        list_1[0] = 0\n",
    "        list_1[1] = 1\n",
    "        for i in range (2,n):\n",
    "            list_1[i] = list_1[i-1]+list_1[i-2]\n",
    "        print(f'First {n} terms of fibonacci series {list_1}')\n",
    "        print('bye and see how I powerful I am!')"
   ]
  },
  {
   "cell_type": "code",
   "execution_count": 71,
   "id": "5f548475",
   "metadata": {},
   "outputs": [
    {
     "name": "stdout",
     "output_type": "stream",
     "text": [
      "Nissan\n",
      "Ford\n",
      "Toyota\n"
     ]
    }
   ],
   "source": [
    "# Create a list of five cars.\n",
    "cars = [\"Nissan\", \"Ford\", \"Toyota\", \"Fiat\", \"VW\"]\n",
    "\n",
    "# Create a for loop.\n",
    "for i in cars:\n",
    "    # Create a statement.\n",
    "    print(i)\n",
    "    \n",
    "    # Create an if statement.\n",
    "    if i== 'Toyota':\n",
    "        # Insert a break statement.\n",
    "        break"
   ]
  },
  {
   "cell_type": "code",
   "execution_count": 80,
   "id": "82d9ad24",
   "metadata": {},
   "outputs": [
    {
     "name": "stdout",
     "output_type": "stream",
     "text": [
      "Hello my name is Jane and I'm 22 years old.\n"
     ]
    }
   ],
   "source": [
    "class Person:\n",
    "    def __init__(self, name, age):\n",
    "        self.name = name\n",
    "        self.age = age\n",
    "    def introduce(self):\n",
    "        print(f\"Hello my name is {self.name} and I\\'m {self.age} years old.\")\n",
    "\n",
    "person_object = Person('Jane', '22')\n",
    "person_object.introduce()"
   ]
  },
  {
   "cell_type": "code",
   "execution_count": 82,
   "id": "ad9bb66c",
   "metadata": {},
   "outputs": [
    {
     "name": "stdout",
     "output_type": "stream",
     "text": [
      "Hello my name is Saurav. I'm 43 years old and I speak Bangla.\n"
     ]
    }
   ],
   "source": [
    "class Person:\n",
    "    def __init__(self, name, age, language):\n",
    "        self.name = name\n",
    "        self.age = age\n",
    "        self.language = language\n",
    "    def introduce(self):\n",
    "        print(f\"Hello my name is {self.name}. I'm {self.age} years old and I speak {self.language}.\")\n",
    "\n",
    "person_object = Person('Saurav', '43', 'Bangla')\n",
    "person_object.introduce()"
   ]
  },
  {
   "cell_type": "code",
   "execution_count": 84,
   "id": "b9ed9916",
   "metadata": {},
   "outputs": [
    {
     "name": "stdout",
     "output_type": "stream",
     "text": [
      "Hello my name is Jane and I'm 22 years old and I speak German.\n",
      "Hello my name is Ted and I'm 24 years old and I speak French.\n",
      "Hello my name is Saskia and I'm 20 years old and I speak Italian.\n",
      "Hello my name is Saurav and I'm 43 years old and I speak Bangla.\n"
     ]
    }
   ],
   "source": [
    "class Person:\n",
    "    def __init__(self, name, age, language):\n",
    "        self.name = name\n",
    "        self.age = age\n",
    "        self.language = language\n",
    "    def introduce(self):\n",
    "        print(f\"Hello my name is {self.name} and I\\'m {self.age} years old and I speak {self.language}.\")\n",
    "\n",
    "person_object = Person('Jane', '22', 'German')\n",
    "person_object_2 = Person('Ted', '24', 'French')\n",
    "person_object_3 = Person('Saskia', '20', 'Italian')\n",
    "person_object_4 = Person('Saurav', '43', 'Bangla')\n",
    "\n",
    "person_object.introduce()\n",
    "person_object_2.introduce()\n",
    "person_object_3.introduce()\n",
    "person_object_4.introduce()"
   ]
  },
  {
   "cell_type": "code",
   "execution_count": 85,
   "id": "0c570709",
   "metadata": {},
   "outputs": [
    {
     "name": "stdout",
     "output_type": "stream",
     "text": [
      "True\n"
     ]
    }
   ],
   "source": [
    "class Person:\n",
    "    name = \"Jane\"\n",
    "    age = 22\n",
    "\n",
    "x = hasattr(Person, 'age')\n",
    "print(x)"
   ]
  },
  {
   "cell_type": "code",
   "execution_count": 86,
   "id": "2f7e288e",
   "metadata": {},
   "outputs": [
    {
     "name": "stdout",
     "output_type": "stream",
     "text": [
      "False\n"
     ]
    }
   ],
   "source": [
    "class Person:\n",
    "    name = 'Jane'\n",
    " \n",
    "x = hasattr(Person, 'age')\n",
    "print(x)"
   ]
  },
  {
   "cell_type": "code",
   "execution_count": 87,
   "id": "85f3c6d1",
   "metadata": {},
   "outputs": [
    {
     "name": "stdout",
     "output_type": "stream",
     "text": [
      "22\n"
     ]
    }
   ],
   "source": [
    "class Person:\n",
    "    name = 'Jane'\n",
    "    age = 22\n",
    "\n",
    "x = getattr(Person, 'age')\n",
    "print(x)"
   ]
  },
  {
   "cell_type": "code",
   "execution_count": 91,
   "id": "40c7c758",
   "metadata": {},
   "outputs": [
    {
     "ename": "AttributeError",
     "evalue": "type object 'Person' has no attribute 'age'",
     "output_type": "error",
     "traceback": [
      "\u001b[1;31m---------------------------------------------------------------------------\u001b[0m",
      "\u001b[1;31mAttributeError\u001b[0m                            Traceback (most recent call last)",
      "Input \u001b[1;32mIn [91]\u001b[0m, in \u001b[0;36m<cell line: 4>\u001b[1;34m()\u001b[0m\n\u001b[0;32m      1\u001b[0m \u001b[38;5;28;01mclass\u001b[39;00m \u001b[38;5;21;01mPerson\u001b[39;00m:\n\u001b[0;32m      2\u001b[0m     name \u001b[38;5;241m=\u001b[39m \u001b[38;5;124m'\u001b[39m\u001b[38;5;124mJane\u001b[39m\u001b[38;5;124m'\u001b[39m\n\u001b[1;32m----> 4\u001b[0m x \u001b[38;5;241m=\u001b[39m \u001b[38;5;28;43mgetattr\u001b[39;49m\u001b[43m(\u001b[49m\u001b[43mPerson\u001b[49m\u001b[43m,\u001b[49m\u001b[43m \u001b[49m\u001b[38;5;124;43m'\u001b[39;49m\u001b[38;5;124;43mage\u001b[39;49m\u001b[38;5;124;43m'\u001b[39;49m\u001b[43m)\u001b[49m\n\u001b[0;32m      5\u001b[0m \u001b[38;5;28mprint\u001b[39m(x)\n",
      "\u001b[1;31mAttributeError\u001b[0m: type object 'Person' has no attribute 'age'"
     ]
    }
   ],
   "source": [
    "class Person:\n",
    "    name = 'Jane'\n",
    " \n",
    "x = getattr(Person, 'age')\n",
    "print(x)"
   ]
  },
  {
   "cell_type": "code",
   "execution_count": 92,
   "id": "141b69c3",
   "metadata": {},
   "outputs": [
    {
     "name": "stdout",
     "output_type": "stream",
     "text": [
      "32\n"
     ]
    }
   ],
   "source": [
    "class Person:\n",
    "    name = 'Jane'\n",
    "    age = 22\n",
    "\n",
    "setattr(Person, 'age', 32)\n",
    "\n",
    "x = getattr(Person, 'age')\n",
    "\n",
    "print(x)"
   ]
  },
  {
   "cell_type": "code",
   "execution_count": 93,
   "id": "b9514d54",
   "metadata": {},
   "outputs": [
    {
     "ename": "AttributeError",
     "evalue": "type object 'Person' has no attribute 'age'",
     "output_type": "error",
     "traceback": [
      "\u001b[1;31m---------------------------------------------------------------------------\u001b[0m",
      "\u001b[1;31mAttributeError\u001b[0m                            Traceback (most recent call last)",
      "Input \u001b[1;32mIn [93]\u001b[0m, in \u001b[0;36m<cell line: 7>\u001b[1;34m()\u001b[0m\n\u001b[0;32m      3\u001b[0m     age \u001b[38;5;241m=\u001b[39m \u001b[38;5;241m32\u001b[39m\n\u001b[0;32m      5\u001b[0m \u001b[38;5;28mdelattr\u001b[39m(Person, \u001b[38;5;124m'\u001b[39m\u001b[38;5;124mage\u001b[39m\u001b[38;5;124m'\u001b[39m)\n\u001b[1;32m----> 7\u001b[0m x \u001b[38;5;241m=\u001b[39m \u001b[38;5;28;43mgetattr\u001b[39;49m\u001b[43m(\u001b[49m\u001b[43mPerson\u001b[49m\u001b[43m,\u001b[49m\u001b[43m \u001b[49m\u001b[38;5;124;43m'\u001b[39;49m\u001b[38;5;124;43mage\u001b[39;49m\u001b[38;5;124;43m'\u001b[39;49m\u001b[43m)\u001b[49m\n\u001b[0;32m      8\u001b[0m \u001b[38;5;28mprint\u001b[39m(x)\n",
      "\u001b[1;31mAttributeError\u001b[0m: type object 'Person' has no attribute 'age'"
     ]
    }
   ],
   "source": [
    "class Person:\n",
    "    name = 'Jane'\n",
    "    age = 32\n",
    "\n",
    "delattr(Person, 'age')\n",
    "\n",
    "x = getattr(Person, 'age')\n",
    "print(x)"
   ]
  },
  {
   "cell_type": "code",
   "execution_count": 94,
   "id": "e7d87cdf",
   "metadata": {},
   "outputs": [
    {
     "name": "stdout",
     "output_type": "stream",
     "text": [
      "Hello my name is James and I'm 30 years old and I speak English.\n"
     ]
    }
   ],
   "source": [
    "class Person:\n",
    "    def __init__(self, name, age, language):\n",
    "        self.name = name\n",
    "        self.age = age\n",
    "        self.language = language\n",
    "    def introduce(self):\n",
    "         print(f\"Hello my name is {self.name} and I\\'m {self.age} years old and I speak {self.language}.\")\n",
    "\n",
    "class Student(Person):\n",
    "    pass\n",
    "\n",
    "person_object = Student('James', '30', 'English')\n",
    "person_object.introduce()"
   ]
  },
  {
   "cell_type": "code",
   "execution_count": 95,
   "id": "145c4ab3",
   "metadata": {},
   "outputs": [
    {
     "name": "stdout",
     "output_type": "stream",
     "text": [
      "2021-06-10\n",
      "<class 'datetime.date'>\n"
     ]
    }
   ],
   "source": [
    "# Printing a specific date.\n",
    "import datetime\n",
    "d = datetime.date(2021, 6, 10)\n",
    "\n",
    "print(d)\n",
    "print(type(d))"
   ]
  },
  {
   "cell_type": "code",
   "execution_count": 96,
   "id": "5a65e93f",
   "metadata": {},
   "outputs": [
    {
     "name": "stdout",
     "output_type": "stream",
     "text": [
      "2022-02-10\n",
      "<class 'datetime.date'>\n"
     ]
    }
   ],
   "source": [
    "# Import the DateTime module and date class.\n",
    "from datetime import date\n",
    "\n",
    "d = date(2022, 2, 10)\n",
    "print(d)\n",
    "print(type(d))"
   ]
  },
  {
   "cell_type": "code",
   "execution_count": 97,
   "id": "188f8068",
   "metadata": {},
   "outputs": [
    {
     "name": "stdout",
     "output_type": "stream",
     "text": [
      "2022-06-06 13:04:48.770939\n"
     ]
    }
   ],
   "source": [
    "x = datetime.datetime.now()\n",
    "print(x)"
   ]
  },
  {
   "cell_type": "code",
   "execution_count": 98,
   "id": "4b2f3ec5",
   "metadata": {},
   "outputs": [
    {
     "name": "stdout",
     "output_type": "stream",
     "text": [
      "2022-06-06 13:05:01.969210\n"
     ]
    }
   ],
   "source": [
    "x = datetime.datetime.now()\n",
    "print(x)"
   ]
  },
  {
   "cell_type": "code",
   "execution_count": 99,
   "id": "9935ceb6",
   "metadata": {},
   "outputs": [
    {
     "name": "stdout",
     "output_type": "stream",
     "text": [
      "Current year: 2022\n",
      "Current month: 6\n",
      "Current day: 6\n"
     ]
    }
   ],
   "source": [
    "# Printing current year, month and day.\n",
    "from datetime import date\n",
    "#date object of today's date\n",
    "today = date.today()\n",
    "\n",
    "print(\"Current year:\", today.year)\n",
    "print(\"Current month:\", today.month)\n",
    "print(\"Current day:\", today.day)"
   ]
  },
  {
   "cell_type": "code",
   "execution_count": 100,
   "id": "caa34746",
   "metadata": {},
   "outputs": [
    {
     "name": "stdout",
     "output_type": "stream",
     "text": [
      "time = 06:45:25.234566\n"
     ]
    }
   ],
   "source": [
    "# Import module.\n",
    "from datetime import time\n",
    "\n",
    "# Creating a time object.\n",
    "# time(hour, minute, second, microsecond). \n",
    "t = time(6, 45, 25, 234566) \n",
    "\n",
    "print(\"time =\",t)"
   ]
  },
  {
   "cell_type": "code",
   "execution_count": 101,
   "id": "6b6ab785",
   "metadata": {},
   "outputs": [
    {
     "name": "stdout",
     "output_type": "stream",
     "text": [
      "hour = 6\n",
      "minute = 45\n",
      "second = 25\n",
      "microsecond = 234566\n"
     ]
    }
   ],
   "source": [
    "# Creating a time object.\n",
    "# time (hour, minute, second, microsecond) \n",
    "t = time (6, 45, 25, 234566)\n",
    "\n",
    "print(\"hour =\", t.hour)\n",
    "print(\"minute =\", t.minute)\n",
    "print(\"second =\", t.second)\n",
    "print(\"microsecond =\", t.microsecond)"
   ]
  },
  {
   "cell_type": "code",
   "execution_count": 102,
   "id": "e7de8eec",
   "metadata": {},
   "outputs": [
    {
     "name": "stdout",
     "output_type": "stream",
     "text": [
      "year = 2017\n",
      "month = 11\n",
      "day = 28\n",
      "hour = 23\n",
      "minute = 55\n",
      "seconds = 59\n",
      "micro seconds = 342380\n"
     ]
    }
   ],
   "source": [
    "# Import module and class.\n",
    "from datetime import datetime\n",
    "\n",
    "t = datetime (2017, 11, 28, 23, 55, 59, 342380)\n",
    "print(\"year =\", t.year)\n",
    "print(\"month =\", t.month)\n",
    "print(\"day =\", t.day)\n",
    "print(\"hour =\", t.hour)\n",
    "print(\"minute =\", t.minute)\n",
    "print(\"seconds =\", t.second)\n",
    "print(\"micro seconds =\", t.microsecond)"
   ]
  },
  {
   "cell_type": "code",
   "execution_count": 103,
   "id": "3e16ee17",
   "metadata": {},
   "outputs": [
    {
     "name": "stdout",
     "output_type": "stream",
     "text": [
      "time difference = 778 days, 16:50:12\n",
      "type of t3 = <class 'datetime.timedelta'>\n"
     ]
    }
   ],
   "source": [
    "from datetime import datetime, date \n",
    "# You can import more than one class or object at a time from a module.\n",
    "\n",
    "t1 = datetime(year=2021, month=12, day=15, hour=5, minute=45, second=25)\n",
    "t2 = datetime(year=2019, month=10, day=28, hour=12, minute=55, second=13)\n",
    "t3 = t1 - t2\n",
    "print(\"time difference =\", t3)\n",
    "print(\"type of t3 =\", type(t3))"
   ]
  },
  {
   "cell_type": "code",
   "execution_count": 104,
   "id": "19431ff1",
   "metadata": {},
   "outputs": [
    {
     "name": "stdout",
     "output_type": "stream",
     "text": [
      "time difference in seconds = 67279812.0\n",
      "type of t3 = <class 'datetime.timedelta'>\n"
     ]
    }
   ],
   "source": [
    "t1 = datetime(year=2021, month=12, day=15, hour= 5, minute=45, second=25)\n",
    "t2 = datetime(year=2019, month=10, day=28, hour= 12, minute=55, second=13)\n",
    "t3 = t1 - t2\n",
    "\n",
    "print(\"time difference in seconds =\", t3.total_seconds())\n",
    "print(\"type of t3 =\", type(t3))"
   ]
  },
  {
   "cell_type": "code",
   "execution_count": 113,
   "id": "650a3981",
   "metadata": {},
   "outputs": [
    {
     "name": "stdout",
     "output_type": "stream",
     "text": [
      "Current time 2022-06-06 13:14:46.439796\n",
      "Time with only hours, minutes and seconds: 13:14:46\n"
     ]
    }
   ],
   "source": [
    "# Import the datetime module and datetime class.\n",
    "from datetime import datetime\n",
    "\n",
    "# Current date and time .\n",
    "now = datetime.now() \n",
    "print('Current time', now)\n",
    "\n",
    "# Using strftime to only print hours, minutes and seconds. \n",
    "t = now.strftime(\"%H:%M:%S\")\n",
    "print(\"Time with only hours, minutes and seconds:\", t)"
   ]
  },
  {
   "cell_type": "code",
   "execution_count": 114,
   "id": "f11e7160",
   "metadata": {},
   "outputs": [
    {
     "name": "stdout",
     "output_type": "stream",
     "text": [
      "Date with / separators : 06/06/2022\n"
     ]
    }
   ],
   "source": [
    "# Changing the separators: \n",
    "t1 = now.strftime(\"%m/%d/%Y\")\n",
    "\n",
    "# MM/DD/YY format.\n",
    "print(\"Date with / separators :\", t1)"
   ]
  },
  {
   "cell_type": "code",
   "execution_count": 116,
   "id": "001d18d2",
   "metadata": {},
   "outputs": [
    {
     "name": "stdout",
     "output_type": "stream",
     "text": [
      "Local: 06/06/2022, 13:15:26\n",
      "NY: 06/06/2022, 05:15:26\n",
      "London: 06/06/2022, 10:15:26\n"
     ]
    }
   ],
   "source": [
    "# Import modules and classes.\n",
    "import datetime \n",
    "from datetime import datetime, date \n",
    "import pytz\n",
    "\n",
    "local = datetime.now()\n",
    "print(\"Local:\", local.strftime (\"%d/%m/%Y, %H:%M:%S\"))\n",
    "\n",
    "# Here, datetime_NY and datetime_London are datetime objects containing the \n",
    "# current date and time of their respective time zones.\n",
    "tz_NY = pytz.timezone ('America/New_York')\n",
    "datetime_NY = datetime.now(tz_NY)\n",
    "\n",
    "print(\"NY:\", datetime_NY.strftime(\"%d/%m/%Y, %H:%M:%S\"))\n",
    "\n",
    "tz_London = pytz.timezone ('Europe/London') \n",
    "datetime_London = datetime.now(tz_London)\n",
    "\n",
    "print(\"London:\", datetime_London.strftime (\"%d/%m/%Y, %H:%M:%S\"))"
   ]
  },
  {
   "cell_type": "code",
   "execution_count": 119,
   "id": "fd911ccc",
   "metadata": {},
   "outputs": [
    {
     "name": "stdout",
     "output_type": "stream",
     "text": [
      "time = 14:42:05.000566\n"
     ]
    }
   ],
   "source": [
    "#Practical activity 1.3.5\n",
    "\n",
    "import datetime\n",
    "from datetime import time\n",
    "t = time (14, 42, 5, 566)\n",
    "\n",
    "print(\"time =\",t)"
   ]
  },
  {
   "cell_type": "code",
   "execution_count": 120,
   "id": "07a1bd08",
   "metadata": {},
   "outputs": [
    {
     "name": "stdout",
     "output_type": "stream",
     "text": [
      "year = 2019\n",
      "month = 1\n",
      "day = 28\n",
      "hour = 23\n",
      "minute = 55\n",
      "seconds = 59\n",
      "micro seconds = 1023\n"
     ]
    }
   ],
   "source": [
    "import datetime\n",
    "from datetime import datetime\n",
    "\n",
    "t = datetime (2019, 1, 28, 23, 55, 59, 1023)\n",
    "print(\"year =\", t.year)\n",
    "print(\"month =\", t.month)\n",
    "print(\"day =\", t.day)\n",
    "print(\"hour =\", t.hour)\n",
    "print(\"minute =\", t.minute)\n",
    "print(\"seconds =\", t.second)\n",
    "print(\"micro seconds =\", t.microsecond)"
   ]
  },
  {
   "cell_type": "code",
   "execution_count": 121,
   "id": "64bdaf9d",
   "metadata": {},
   "outputs": [
    {
     "name": "stdout",
     "output_type": "stream",
     "text": [
      "year = 2017\n",
      "month = 11\n",
      "day = 28\n",
      "hour = 23\n",
      "minute = 55\n",
      "seconds = 59\n",
      "micro seconds = 342380\n"
     ]
    }
   ],
   "source": [
    "t = datetime (2017, 11, 28, 23, 55, 59, 342380)\n",
    "print(\"year =\", t.year)\n",
    "print(\"month =\", t.month)\n",
    "print(\"day =\", t.day)\n",
    "print(\"hour =\", t.hour)\n",
    "print(\"minute =\", t.minute)\n",
    "print(\"seconds =\", t.second)\n",
    "print(\"micro seconds =\", t.microsecond)"
   ]
  },
  {
   "cell_type": "code",
   "execution_count": 129,
   "id": "23ccc523",
   "metadata": {},
   "outputs": [],
   "source": [
    "import this"
   ]
  },
  {
   "cell_type": "code",
   "execution_count": null,
   "id": "207e6365",
   "metadata": {},
   "outputs": [],
   "source": []
  }
 ],
 "metadata": {
  "kernelspec": {
   "display_name": "Python 3 (ipykernel)",
   "language": "python",
   "name": "python3"
  },
  "language_info": {
   "codemirror_mode": {
    "name": "ipython",
    "version": 3
   },
   "file_extension": ".py",
   "mimetype": "text/x-python",
   "name": "python",
   "nbconvert_exporter": "python",
   "pygments_lexer": "ipython3",
   "version": "3.9.12"
  }
 },
 "nbformat": 4,
 "nbformat_minor": 5
}
