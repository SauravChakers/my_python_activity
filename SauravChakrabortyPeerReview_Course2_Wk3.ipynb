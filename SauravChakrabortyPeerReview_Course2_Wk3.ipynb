{
 "cells": [
  {
   "cell_type": "markdown",
   "id": "9ba72d6a",
   "metadata": {},
   "source": [
    "# 3.2.10 Peer Review: Pythonic code & user-defined functions."
   ]
  },
  {
   "cell_type": "markdown",
   "id": "936e6228",
   "metadata": {},
   "source": [
    "   Hello Peer,\n",
    "   \n",
    "   Please ensure that you have the 'products.csv' file stored in the same directory as where \n",
    "   you have downloaded this Jupyter notebook. Failing to do so will mean that my code snippets won't run :-(\n",
    "    \n",
    "   Thanks & look forward to hearing your thoughts on my submission."
   ]
  },
  {
   "cell_type": "code",
   "execution_count": 96,
   "id": "83bbc5d7",
   "metadata": {},
   "outputs": [
    {
     "name": "stdout",
     "output_type": "stream",
     "text": [
      "(3945, 2)\n"
     ]
    }
   ],
   "source": [
    "# Set up the environment first.\n",
    "import pandas as pd\n",
    "\n",
    "# Create the DataFrame by reading the csv file.\n",
    "products = pd.read_csv('products.csv')\n",
    "\n",
    "# Determine shape of products.\n",
    "print(products.shape)\n",
    "\n",
    "# Shows there are 3945 rows of data & 3 columns."
   ]
  },
  {
   "cell_type": "code",
   "execution_count": 97,
   "id": "667b6ebc",
   "metadata": {},
   "outputs": [
    {
     "data": {
      "text/html": [
       "<div>\n",
       "<style scoped>\n",
       "    .dataframe tbody tr th:only-of-type {\n",
       "        vertical-align: middle;\n",
       "    }\n",
       "\n",
       "    .dataframe tbody tr th {\n",
       "        vertical-align: top;\n",
       "    }\n",
       "\n",
       "    .dataframe thead th {\n",
       "        text-align: right;\n",
       "    }\n",
       "</style>\n",
       "<table border=\"1\" class=\"dataframe\">\n",
       "  <thead>\n",
       "    <tr style=\"text-align: right;\">\n",
       "      <th></th>\n",
       "      <th>StockCode</th>\n",
       "      <th>Description</th>\n",
       "    </tr>\n",
       "  </thead>\n",
       "  <tbody>\n",
       "    <tr>\n",
       "      <th>0</th>\n",
       "      <td>10002</td>\n",
       "      <td>INFLATABLE POLITICAL GLOBE</td>\n",
       "    </tr>\n",
       "    <tr>\n",
       "      <th>1</th>\n",
       "      <td>10080</td>\n",
       "      <td>GROOVY CACTUS INFLATABLE</td>\n",
       "    </tr>\n",
       "    <tr>\n",
       "      <th>2</th>\n",
       "      <td>10120</td>\n",
       "      <td>DOGGY RUBBER</td>\n",
       "    </tr>\n",
       "    <tr>\n",
       "      <th>3</th>\n",
       "      <td>10123C</td>\n",
       "      <td>HEARTS WRAPPING TAPE</td>\n",
       "    </tr>\n",
       "    <tr>\n",
       "      <th>4</th>\n",
       "      <td>10124A</td>\n",
       "      <td>SPOTS ON RED BOOKCOVER TAPE</td>\n",
       "    </tr>\n",
       "  </tbody>\n",
       "</table>\n",
       "</div>"
      ],
      "text/plain": [
       "  StockCode                  Description\n",
       "0     10002   INFLATABLE POLITICAL GLOBE\n",
       "1     10080     GROOVY CACTUS INFLATABLE\n",
       "2     10120                 DOGGY RUBBER\n",
       "3    10123C         HEARTS WRAPPING TAPE\n",
       "4    10124A  SPOTS ON RED BOOKCOVER TAPE"
      ]
     },
     "execution_count": 97,
     "metadata": {},
     "output_type": "execute_result"
    }
   ],
   "source": [
    "# Examine the key features of the DataFrame.\n",
    "# This helps us gain an overview of the DataFrame that we are dealing with.\n",
    "# Look at the top of the DataFrame first.\n",
    "products.head()\n",
    "\n",
    "# Note column names.\n",
    "# Product names listed under the column 'Description'."
   ]
  },
  {
   "cell_type": "code",
   "execution_count": 98,
   "id": "ec74ac1e",
   "metadata": {},
   "outputs": [
    {
     "data": {
      "text/html": [
       "<div>\n",
       "<style scoped>\n",
       "    .dataframe tbody tr th:only-of-type {\n",
       "        vertical-align: middle;\n",
       "    }\n",
       "\n",
       "    .dataframe tbody tr th {\n",
       "        vertical-align: top;\n",
       "    }\n",
       "\n",
       "    .dataframe thead th {\n",
       "        text-align: right;\n",
       "    }\n",
       "</style>\n",
       "<table border=\"1\" class=\"dataframe\">\n",
       "  <thead>\n",
       "    <tr style=\"text-align: right;\">\n",
       "      <th></th>\n",
       "      <th>StockCode</th>\n",
       "      <th>Description</th>\n",
       "    </tr>\n",
       "  </thead>\n",
       "  <tbody>\n",
       "    <tr>\n",
       "      <th>3940</th>\n",
       "      <td>gift_0001_20</td>\n",
       "      <td>Dotcomgiftshop Gift Voucher £20.0</td>\n",
       "    </tr>\n",
       "    <tr>\n",
       "      <th>3941</th>\n",
       "      <td>gift_0001_30</td>\n",
       "      <td>Dotcomgiftshop Gift Voucher £30.0</td>\n",
       "    </tr>\n",
       "    <tr>\n",
       "      <th>3942</th>\n",
       "      <td>gift_0001_40</td>\n",
       "      <td>Dotcomgiftshop Gift Voucher £40.0</td>\n",
       "    </tr>\n",
       "    <tr>\n",
       "      <th>3943</th>\n",
       "      <td>gift_0001_50</td>\n",
       "      <td>Dotcomgiftshop Gift Voucher £50.0</td>\n",
       "    </tr>\n",
       "    <tr>\n",
       "      <th>3944</th>\n",
       "      <td>m</td>\n",
       "      <td>Manual</td>\n",
       "    </tr>\n",
       "  </tbody>\n",
       "</table>\n",
       "</div>"
      ],
      "text/plain": [
       "         StockCode                        Description\n",
       "3940  gift_0001_20  Dotcomgiftshop Gift Voucher £20.0\n",
       "3941  gift_0001_30  Dotcomgiftshop Gift Voucher £30.0\n",
       "3942  gift_0001_40  Dotcomgiftshop Gift Voucher £40.0\n",
       "3943  gift_0001_50  Dotcomgiftshop Gift Voucher £50.0\n",
       "3944             m                             Manual"
      ]
     },
     "execution_count": 98,
     "metadata": {},
     "output_type": "execute_result"
    }
   ],
   "source": [
    "# Look at the other end of the rows too.\n",
    "# This completes our overview of the DataFrame that we are dealing with.\n",
    "products.tail()\n",
    "\n",
    "# Note last row likely to be a footer."
   ]
  },
  {
   "cell_type": "markdown",
   "id": "94411489",
   "metadata": {},
   "source": [
    "  Question 1"
   ]
  },
  {
   "cell_type": "code",
   "execution_count": 99,
   "id": "3a9857ae",
   "metadata": {
    "scrolled": false
   },
   "outputs": [
    {
     "name": "stdout",
     "output_type": "stream",
     "text": [
      "Question: How many products contain the word 'Fire' in their description?\n",
      "As can be seen below, the number of products containing the word 'Fire' in their description is  9\n"
     ]
    },
    {
     "data": {
      "text/html": [
       "<div>\n",
       "<style scoped>\n",
       "    .dataframe tbody tr th:only-of-type {\n",
       "        vertical-align: middle;\n",
       "    }\n",
       "\n",
       "    .dataframe tbody tr th {\n",
       "        vertical-align: top;\n",
       "    }\n",
       "\n",
       "    .dataframe thead th {\n",
       "        text-align: right;\n",
       "    }\n",
       "</style>\n",
       "<table border=\"1\" class=\"dataframe\">\n",
       "  <thead>\n",
       "    <tr style=\"text-align: right;\">\n",
       "      <th></th>\n",
       "      <th>StockCode</th>\n",
       "      <th>Description</th>\n",
       "    </tr>\n",
       "  </thead>\n",
       "  <tbody>\n",
       "    <tr>\n",
       "      <th>1318</th>\n",
       "      <td>22428</td>\n",
       "      <td>ENAMEL FIRE BUCKET CREAM</td>\n",
       "    </tr>\n",
       "    <tr>\n",
       "      <th>3033</th>\n",
       "      <td>84569B</td>\n",
       "      <td>PACK 3 FIRE ENGINE/CAR PATCHES</td>\n",
       "    </tr>\n",
       "    <tr>\n",
       "      <th>3626</th>\n",
       "      <td>90039A</td>\n",
       "      <td>FIRE POLISHED GLASS BRACELET RED</td>\n",
       "    </tr>\n",
       "    <tr>\n",
       "      <th>3627</th>\n",
       "      <td>90039B</td>\n",
       "      <td>FIRE POLISHED GLASS BRACELET MONTAN</td>\n",
       "    </tr>\n",
       "    <tr>\n",
       "      <th>3628</th>\n",
       "      <td>90039C</td>\n",
       "      <td>FIRE POLISHED GLASS BRACELET BLACK</td>\n",
       "    </tr>\n",
       "    <tr>\n",
       "      <th>3629</th>\n",
       "      <td>90039D</td>\n",
       "      <td>FIRE POLISHED GLASS BRACELET GREEN</td>\n",
       "    </tr>\n",
       "    <tr>\n",
       "      <th>3656</th>\n",
       "      <td>90060B</td>\n",
       "      <td>FIRE POLISHED GLASS NECKL GOLD</td>\n",
       "    </tr>\n",
       "    <tr>\n",
       "      <th>3657</th>\n",
       "      <td>90060D</td>\n",
       "      <td>FIRE POLISHED GLASS NECKL BRONZE</td>\n",
       "    </tr>\n",
       "    <tr>\n",
       "      <th>3658</th>\n",
       "      <td>90060F</td>\n",
       "      <td>FIRE POLISHED GLASS NECKL GREEN</td>\n",
       "    </tr>\n",
       "  </tbody>\n",
       "</table>\n",
       "</div>"
      ],
      "text/plain": [
       "     StockCode                          Description\n",
       "1318     22428             ENAMEL FIRE BUCKET CREAM\n",
       "3033    84569B       PACK 3 FIRE ENGINE/CAR PATCHES\n",
       "3626    90039A     FIRE POLISHED GLASS BRACELET RED\n",
       "3627    90039B  FIRE POLISHED GLASS BRACELET MONTAN\n",
       "3628    90039C   FIRE POLISHED GLASS BRACELET BLACK\n",
       "3629    90039D   FIRE POLISHED GLASS BRACELET GREEN\n",
       "3656    90060B       FIRE POLISHED GLASS NECKL GOLD\n",
       "3657    90060D     FIRE POLISHED GLASS NECKL BRONZE\n",
       "3658    90060F      FIRE POLISHED GLASS NECKL GREEN"
      ]
     },
     "execution_count": 99,
     "metadata": {},
     "output_type": "execute_result"
    }
   ],
   "source": [
    "# Display the question. \n",
    "print(\"Question: How many products contain the word 'Fire' in their description?\")\n",
    "\n",
    "# Look for the word \"Fire\" in the Description column.\n",
    "# Note that the search needs to case insensitive.\n",
    "Fire = products.loc[products['Description'].str.contains(\"Fire\", case=False)]\n",
    "\n",
    "# Answer the question.\n",
    "print(\"As can be seen below, the number of products containing the word 'Fire' in their description is \", len(Fire))\n",
    "\n",
    "# Display the evidence.\n",
    "Fire"
   ]
  },
  {
   "cell_type": "markdown",
   "id": "1e1e54c1",
   "metadata": {},
   "source": [
    "Question 2"
   ]
  },
  {
   "cell_type": "code",
   "execution_count": 100,
   "id": "487b89c9",
   "metadata": {},
   "outputs": [
    {
     "name": "stdout",
     "output_type": "stream",
     "text": [
      "Question: How many products contain the word 'candle' in their description?\n",
      "As can be seen below, the number of products containing the word 'candle' in their description is  178\n"
     ]
    },
    {
     "data": {
      "text/html": [
       "<div>\n",
       "<style scoped>\n",
       "    .dataframe tbody tr th:only-of-type {\n",
       "        vertical-align: middle;\n",
       "    }\n",
       "\n",
       "    .dataframe tbody tr th {\n",
       "        vertical-align: top;\n",
       "    }\n",
       "\n",
       "    .dataframe thead th {\n",
       "        text-align: right;\n",
       "    }\n",
       "</style>\n",
       "<table border=\"1\" class=\"dataframe\">\n",
       "  <thead>\n",
       "    <tr style=\"text-align: right;\">\n",
       "      <th></th>\n",
       "      <th>StockCode</th>\n",
       "      <th>Description</th>\n",
       "    </tr>\n",
       "  </thead>\n",
       "  <tbody>\n",
       "    <tr>\n",
       "      <th>83</th>\n",
       "      <td>17012A</td>\n",
       "      <td>ORIGAMI VANILLA INCENSE/CANDLE SET</td>\n",
       "    </tr>\n",
       "    <tr>\n",
       "      <th>84</th>\n",
       "      <td>17012B</td>\n",
       "      <td>ORIGAMI JASMINE INCENSE/CANDLE SET</td>\n",
       "    </tr>\n",
       "    <tr>\n",
       "      <th>86</th>\n",
       "      <td>17012D</td>\n",
       "      <td>ORIGAMI ROSE INCENSE/CANDLE SET</td>\n",
       "    </tr>\n",
       "    <tr>\n",
       "      <th>87</th>\n",
       "      <td>17012E</td>\n",
       "      <td>ORIGAMI OPIUM INCENSE/CANDLE SET</td>\n",
       "    </tr>\n",
       "    <tr>\n",
       "      <th>107</th>\n",
       "      <td>17136A</td>\n",
       "      <td>BLUE STONES ON WIRE FOR CANDLE</td>\n",
       "    </tr>\n",
       "    <tr>\n",
       "      <th>...</th>\n",
       "      <td>...</td>\n",
       "      <td>...</td>\n",
       "    </tr>\n",
       "    <tr>\n",
       "      <th>3530</th>\n",
       "      <td>85230A</td>\n",
       "      <td>OPIUM SCENTED VOTIVE CANDLE</td>\n",
       "    </tr>\n",
       "    <tr>\n",
       "      <th>3531</th>\n",
       "      <td>85230B</td>\n",
       "      <td>CINNAMON SCENTED VOTIVE CANDLE</td>\n",
       "    </tr>\n",
       "    <tr>\n",
       "      <th>3532</th>\n",
       "      <td>85230E</td>\n",
       "      <td>STRAWBRY SCENTED VOTIVE CANDLE</td>\n",
       "    </tr>\n",
       "    <tr>\n",
       "      <th>3533</th>\n",
       "      <td>85230F</td>\n",
       "      <td>JASMINE VOTIVE CANDLE</td>\n",
       "    </tr>\n",
       "    <tr>\n",
       "      <th>3534</th>\n",
       "      <td>85230G</td>\n",
       "      <td>ORANGE VOTIVE CANDLE</td>\n",
       "    </tr>\n",
       "  </tbody>\n",
       "</table>\n",
       "<p>178 rows × 2 columns</p>\n",
       "</div>"
      ],
      "text/plain": [
       "     StockCode                         Description\n",
       "83      17012A  ORIGAMI VANILLA INCENSE/CANDLE SET\n",
       "84      17012B  ORIGAMI JASMINE INCENSE/CANDLE SET\n",
       "86      17012D     ORIGAMI ROSE INCENSE/CANDLE SET\n",
       "87      17012E    ORIGAMI OPIUM INCENSE/CANDLE SET\n",
       "107     17136A      BLUE STONES ON WIRE FOR CANDLE\n",
       "...        ...                                 ...\n",
       "3530    85230A         OPIUM SCENTED VOTIVE CANDLE\n",
       "3531    85230B      CINNAMON SCENTED VOTIVE CANDLE\n",
       "3532    85230E      STRAWBRY SCENTED VOTIVE CANDLE\n",
       "3533    85230F               JASMINE VOTIVE CANDLE\n",
       "3534    85230G                ORANGE VOTIVE CANDLE\n",
       "\n",
       "[178 rows x 2 columns]"
      ]
     },
     "execution_count": 100,
     "metadata": {},
     "output_type": "execute_result"
    }
   ],
   "source": [
    "# Display the question. \n",
    "print(\"Question: How many products contain the word 'candle' in their description?\")\n",
    "\n",
    "# Look for the word \"candle\" in the Description column.\n",
    "# Note that the search needs to case insensitive.\n",
    "Candle = products.loc[products['Description'].str.contains(\"Candle\", case=False)]\n",
    "\n",
    "# Answer the question.\n",
    "print(\"As can be seen below, the number of products containing the word 'candle' in their description is \", len(Candle))\n",
    "\n",
    "# Display the evidence.\n",
    "Candle"
   ]
  },
  {
   "cell_type": "markdown",
   "id": "9bcff8b1",
   "metadata": {},
   "source": [
    "Question 3"
   ]
  },
  {
   "cell_type": "code",
   "execution_count": 101,
   "id": "6ba955b5",
   "metadata": {},
   "outputs": [
    {
     "name": "stdout",
     "output_type": "stream",
     "text": [
      "How many products contain the word 'matches' in their description?\n",
      "As can be seen below, the number of products containing the word 'matches' is  6\n"
     ]
    },
    {
     "data": {
      "text/html": [
       "<div>\n",
       "<style scoped>\n",
       "    .dataframe tbody tr th:only-of-type {\n",
       "        vertical-align: middle;\n",
       "    }\n",
       "\n",
       "    .dataframe tbody tr th {\n",
       "        vertical-align: top;\n",
       "    }\n",
       "\n",
       "    .dataframe thead th {\n",
       "        text-align: right;\n",
       "    }\n",
       "</style>\n",
       "<table border=\"1\" class=\"dataframe\">\n",
       "  <thead>\n",
       "    <tr style=\"text-align: right;\">\n",
       "      <th></th>\n",
       "      <th>StockCode</th>\n",
       "      <th>Description</th>\n",
       "    </tr>\n",
       "  </thead>\n",
       "  <tbody>\n",
       "    <tr>\n",
       "      <th>669</th>\n",
       "      <td>21584</td>\n",
       "      <td>RETROSPOT SMALL TUBE MATCHES</td>\n",
       "    </tr>\n",
       "    <tr>\n",
       "      <th>670</th>\n",
       "      <td>21586</td>\n",
       "      <td>KINGS CHOICE GIANT TUBE MATCHES</td>\n",
       "    </tr>\n",
       "    <tr>\n",
       "      <th>671</th>\n",
       "      <td>21587</td>\n",
       "      <td>COSY HOUR GIANT TUBE MATCHES</td>\n",
       "    </tr>\n",
       "    <tr>\n",
       "      <th>672</th>\n",
       "      <td>21588</td>\n",
       "      <td>RETROSPOT GIANT TUBE MATCHES</td>\n",
       "    </tr>\n",
       "    <tr>\n",
       "      <th>673</th>\n",
       "      <td>21591</td>\n",
       "      <td>COSY HOUR CIGAR BOX MATCHES</td>\n",
       "    </tr>\n",
       "    <tr>\n",
       "      <th>674</th>\n",
       "      <td>21592</td>\n",
       "      <td>RETROSPOT CIGAR BOX MATCHES</td>\n",
       "    </tr>\n",
       "  </tbody>\n",
       "</table>\n",
       "</div>"
      ],
      "text/plain": [
       "    StockCode                      Description\n",
       "669     21584     RETROSPOT SMALL TUBE MATCHES\n",
       "670     21586  KINGS CHOICE GIANT TUBE MATCHES\n",
       "671     21587     COSY HOUR GIANT TUBE MATCHES\n",
       "672     21588     RETROSPOT GIANT TUBE MATCHES\n",
       "673     21591      COSY HOUR CIGAR BOX MATCHES\n",
       "674     21592      RETROSPOT CIGAR BOX MATCHES"
      ]
     },
     "execution_count": 101,
     "metadata": {},
     "output_type": "execute_result"
    }
   ],
   "source": [
    "# Display the question. \n",
    "print(\"How many products contain the word 'matches' in their description?\")\n",
    "\n",
    "# Look for the word \"matches\" in the Description column.\n",
    "# Note that the search needs to case insensitive.\n",
    "Matches = products.loc[products['Description'].str.contains(\"Matches\", case=False)]\n",
    "\n",
    "# Answer the question.\n",
    "print(\"As can be seen below, the number of products containing the word 'matches' is \", len(Matches))\n",
    "\n",
    "# Display the evidence.\n",
    "Matches"
   ]
  },
  {
   "cell_type": "markdown",
   "id": "62d96792",
   "metadata": {},
   "source": [
    "Thanks again for reviewing my work."
   ]
  }
 ],
 "metadata": {
  "kernelspec": {
   "display_name": "Python 3 (ipykernel)",
   "language": "python",
   "name": "python3"
  },
  "language_info": {
   "codemirror_mode": {
    "name": "ipython",
    "version": 3
   },
   "file_extension": ".py",
   "mimetype": "text/x-python",
   "name": "python",
   "nbconvert_exporter": "python",
   "pygments_lexer": "ipython3",
   "version": "3.9.12"
  }
 },
 "nbformat": 4,
 "nbformat_minor": 5
}
